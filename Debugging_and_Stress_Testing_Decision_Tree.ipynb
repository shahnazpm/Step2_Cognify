{
  "cells": [
    {
      "cell_type": "markdown",
      "metadata": {
        "id": "view-in-github",
        "colab_type": "text"
      },
      "source": [
        "<a href=\"https://colab.research.google.com/github/shahnazpm/The-Oval-Office-Prediction/blob/unit_test/Debugging_and_Stress_Testing_Decision_Tree.ipynb\" target=\"_parent\"><img src=\"https://colab.research.google.com/assets/colab-badge.svg\" alt=\"Open In Colab\"/></a>"
      ]
    },
    {
      "cell_type": "markdown",
      "id": "4e22bc2f-d587-49ac-bbe4-278831bcede6",
      "metadata": {
        "id": "4e22bc2f-d587-49ac-bbe4-278831bcede6"
      },
      "source": [
        "## **Objective Overview**\n",
        "##### Build Decision Tree / Random Forest model(s) on the provided dataset."
      ]
    },
    {
      "cell_type": "markdown",
      "id": "02e4d77d-1c72-4e60-bc0e-fdeca533192d",
      "metadata": {
        "id": "02e4d77d-1c72-4e60-bc0e-fdeca533192d"
      },
      "source": [
        "## **Setup**"
      ]
    },
    {
      "cell_type": "markdown",
      "id": "87fab05e-8de2-4065-ae3f-0535ca3528b2",
      "metadata": {
        "id": "87fab05e-8de2-4065-ae3f-0535ca3528b2"
      },
      "source": [
        "#### Install Packages"
      ]
    },
    {
      "cell_type": "markdown",
      "id": "8b01c8ac-34f8-4ea8-ae08-18d08f25f48d",
      "metadata": {
        "id": "8b01c8ac-34f8-4ea8-ae08-18d08f25f48d"
      },
      "source": [
        "#### Import Libraries"
      ]
    },
    {
      "cell_type": "code",
      "execution_count": 1,
      "id": "207d23ac-0984-45a3-bfdf-8a7e5e67f046",
      "metadata": {
        "id": "207d23ac-0984-45a3-bfdf-8a7e5e67f046"
      },
      "outputs": [],
      "source": [
        "import pandas as pd\n",
        "import ast\n",
        "import numpy as np\n",
        "import re\n",
        "import matplotlib.pyplot as plt\n",
        "import seaborn as sns\n",
        "import time\n",
        "from sklearn.model_selection import train_test_split\n",
        "from sklearn.preprocessing import OneHotEncoder\n",
        "from sklearn.preprocessing import label_binarize\n",
        "# from imblearn.over_sampling import SMOTE\n",
        "from sklearn.feature_extraction.text import CountVectorizer\n",
        "from sklearn.ensemble import RandomForestClassifier\n",
        "from sklearn.tree import DecisionTreeClassifier\n",
        "from sklearn.metrics import confusion_matrix, classification_report, f1_score, roc_auc_score, accuracy_score, roc_curve\n",
        "# from lime.lime_tabular import LimeTabularExplainer"
      ]
    },
    {
      "cell_type": "markdown",
      "id": "392e9187-bc37-458a-abe2-a2cb4944d2ce",
      "metadata": {
        "id": "392e9187-bc37-458a-abe2-a2cb4944d2ce"
      },
      "source": [
        "## **Data Exploration**"
      ]
    },
    {
      "cell_type": "markdown",
      "id": "_V4Az9UN7Enp",
      "metadata": {
        "id": "_V4Az9UN7Enp"
      },
      "source": [
        "#### Load Dataset"
      ]
    },
    {
      "cell_type": "code",
      "execution_count": 2,
      "id": "58fa8068-bd6c-4886-b307-4a04b990eeae",
      "metadata": {
        "id": "58fa8068-bd6c-4886-b307-4a04b990eeae"
      },
      "outputs": [],
      "source": [
        "data = pd.read_csv('/content/2020_out_heading_matched_out.csv')"
      ]
    },
    {
      "cell_type": "markdown",
      "id": "b35bf834-a77b-40de-96f9-05dff49600da",
      "metadata": {
        "id": "b35bf834-a77b-40de-96f9-05dff49600da"
      },
      "source": [
        "#### Dataset Overview"
      ]
    },
    {
      "cell_type": "code",
      "execution_count": 3,
      "id": "0b933584-363e-4a6f-b0b3-2f950fa9efb8",
      "metadata": {
        "colab": {
          "base_uri": "https://localhost:8080/",
          "height": 256
        },
        "id": "0b933584-363e-4a6f-b0b3-2f950fa9efb8",
        "outputId": "f33e6547-5e9b-45fc-ead3-08d86102d154"
      },
      "outputs": [
        {
          "output_type": "execute_result",
          "data": {
            "text/plain": [
              "   state_Alabama  state_Alaska  state_Arizona  state_Arkansas  \\\n",
              "0              1             0              0               0   \n",
              "1              0             1              0               0   \n",
              "2              0             0              1               0   \n",
              "3              0             0              0               1   \n",
              "4              0             0              0               0   \n",
              "\n",
              "   state_California  state_Colorado  state_Connecticut  state_Delaware  \\\n",
              "0                 0               0                  0               0   \n",
              "1                 0               0                  0               0   \n",
              "2                 0               0                  0               0   \n",
              "3                 0               0                  0               0   \n",
              "4                 1               0                  0               0   \n",
              "\n",
              "   state_Florida  state_Georgia  ...  \\\n",
              "0              0              0  ...   \n",
              "1              0              0  ...   \n",
              "2              0              0  ...   \n",
              "3              0              0  ...   \n",
              "4              0              0  ...   \n",
              "\n",
              "   GROSSRentOccupiedUnitsPayingRentMedianGrossRent_Dollars_  \\\n",
              "0                                          -0.937159          \n",
              "1                                           0.775301          \n",
              "2                                           0.340667          \n",
              "3                                          -1.219672          \n",
              "4                                           2.570342          \n",
              "\n",
              "   COMPUTERSAndInternetUseTotalHouseholds  \\\n",
              "0                               -0.216342   \n",
              "1                               -0.860445   \n",
              "2                                0.086206   \n",
              "3                               -0.503647   \n",
              "4                                4.191641   \n",
              "\n",
              "   COMPUTERSAndInternetUseTotalHouseholdsWithAComputerInPercent  \\\n",
              "0                                          -1.577553              \n",
              "1                                           1.384752              \n",
              "2                                           1.033292              \n",
              "3                                          -1.527345              \n",
              "4                                           1.284335              \n",
              "\n",
              "   COMPUTERSAndInternetUseTotalHouseholdsWithABroadbandInternetSubscriptionInPercent  \\\n",
              "0                                          -1.336384                                   \n",
              "1                                           0.643917                                   \n",
              "2                                           0.452275                                   \n",
              "3                                          -1.911310                                   \n",
              "4                                           1.282724                                   \n",
              "\n",
              "   LastFourthElection_Republican  LastThirdElection_Republican  \\\n",
              "0                              1                             1   \n",
              "1                              1                             1   \n",
              "2                              1                             0   \n",
              "3                              1                             1   \n",
              "4                              0                             0   \n",
              "\n",
              "   LastSecondElection_Republican  LastElection_Republican  Target  Poll  \n",
              "0                              1                        1       1     1  \n",
              "1                              1                        1       1     1  \n",
              "2                              0                        1       0     0  \n",
              "3                              1                        1       1     1  \n",
              "4                              0                        0       0     0  \n",
              "\n",
              "[5 rows x 364 columns]"
            ],
            "text/html": [
              "\n",
              "  <div id=\"df-45e3c18a-cc40-4cc3-a469-3b8455ddd5c1\" class=\"colab-df-container\">\n",
              "    <div>\n",
              "<style scoped>\n",
              "    .dataframe tbody tr th:only-of-type {\n",
              "        vertical-align: middle;\n",
              "    }\n",
              "\n",
              "    .dataframe tbody tr th {\n",
              "        vertical-align: top;\n",
              "    }\n",
              "\n",
              "    .dataframe thead th {\n",
              "        text-align: right;\n",
              "    }\n",
              "</style>\n",
              "<table border=\"1\" class=\"dataframe\">\n",
              "  <thead>\n",
              "    <tr style=\"text-align: right;\">\n",
              "      <th></th>\n",
              "      <th>state_Alabama</th>\n",
              "      <th>state_Alaska</th>\n",
              "      <th>state_Arizona</th>\n",
              "      <th>state_Arkansas</th>\n",
              "      <th>state_California</th>\n",
              "      <th>state_Colorado</th>\n",
              "      <th>state_Connecticut</th>\n",
              "      <th>state_Delaware</th>\n",
              "      <th>state_Florida</th>\n",
              "      <th>state_Georgia</th>\n",
              "      <th>...</th>\n",
              "      <th>GROSSRentOccupiedUnitsPayingRentMedianGrossRent_Dollars_</th>\n",
              "      <th>COMPUTERSAndInternetUseTotalHouseholds</th>\n",
              "      <th>COMPUTERSAndInternetUseTotalHouseholdsWithAComputerInPercent</th>\n",
              "      <th>COMPUTERSAndInternetUseTotalHouseholdsWithABroadbandInternetSubscriptionInPercent</th>\n",
              "      <th>LastFourthElection_Republican</th>\n",
              "      <th>LastThirdElection_Republican</th>\n",
              "      <th>LastSecondElection_Republican</th>\n",
              "      <th>LastElection_Republican</th>\n",
              "      <th>Target</th>\n",
              "      <th>Poll</th>\n",
              "    </tr>\n",
              "  </thead>\n",
              "  <tbody>\n",
              "    <tr>\n",
              "      <th>0</th>\n",
              "      <td>1</td>\n",
              "      <td>0</td>\n",
              "      <td>0</td>\n",
              "      <td>0</td>\n",
              "      <td>0</td>\n",
              "      <td>0</td>\n",
              "      <td>0</td>\n",
              "      <td>0</td>\n",
              "      <td>0</td>\n",
              "      <td>0</td>\n",
              "      <td>...</td>\n",
              "      <td>-0.937159</td>\n",
              "      <td>-0.216342</td>\n",
              "      <td>-1.577553</td>\n",
              "      <td>-1.336384</td>\n",
              "      <td>1</td>\n",
              "      <td>1</td>\n",
              "      <td>1</td>\n",
              "      <td>1</td>\n",
              "      <td>1</td>\n",
              "      <td>1</td>\n",
              "    </tr>\n",
              "    <tr>\n",
              "      <th>1</th>\n",
              "      <td>0</td>\n",
              "      <td>1</td>\n",
              "      <td>0</td>\n",
              "      <td>0</td>\n",
              "      <td>0</td>\n",
              "      <td>0</td>\n",
              "      <td>0</td>\n",
              "      <td>0</td>\n",
              "      <td>0</td>\n",
              "      <td>0</td>\n",
              "      <td>...</td>\n",
              "      <td>0.775301</td>\n",
              "      <td>-0.860445</td>\n",
              "      <td>1.384752</td>\n",
              "      <td>0.643917</td>\n",
              "      <td>1</td>\n",
              "      <td>1</td>\n",
              "      <td>1</td>\n",
              "      <td>1</td>\n",
              "      <td>1</td>\n",
              "      <td>1</td>\n",
              "    </tr>\n",
              "    <tr>\n",
              "      <th>2</th>\n",
              "      <td>0</td>\n",
              "      <td>0</td>\n",
              "      <td>1</td>\n",
              "      <td>0</td>\n",
              "      <td>0</td>\n",
              "      <td>0</td>\n",
              "      <td>0</td>\n",
              "      <td>0</td>\n",
              "      <td>0</td>\n",
              "      <td>0</td>\n",
              "      <td>...</td>\n",
              "      <td>0.340667</td>\n",
              "      <td>0.086206</td>\n",
              "      <td>1.033292</td>\n",
              "      <td>0.452275</td>\n",
              "      <td>1</td>\n",
              "      <td>0</td>\n",
              "      <td>0</td>\n",
              "      <td>1</td>\n",
              "      <td>0</td>\n",
              "      <td>0</td>\n",
              "    </tr>\n",
              "    <tr>\n",
              "      <th>3</th>\n",
              "      <td>0</td>\n",
              "      <td>0</td>\n",
              "      <td>0</td>\n",
              "      <td>1</td>\n",
              "      <td>0</td>\n",
              "      <td>0</td>\n",
              "      <td>0</td>\n",
              "      <td>0</td>\n",
              "      <td>0</td>\n",
              "      <td>0</td>\n",
              "      <td>...</td>\n",
              "      <td>-1.219672</td>\n",
              "      <td>-0.503647</td>\n",
              "      <td>-1.527345</td>\n",
              "      <td>-1.911310</td>\n",
              "      <td>1</td>\n",
              "      <td>1</td>\n",
              "      <td>1</td>\n",
              "      <td>1</td>\n",
              "      <td>1</td>\n",
              "      <td>1</td>\n",
              "    </tr>\n",
              "    <tr>\n",
              "      <th>4</th>\n",
              "      <td>0</td>\n",
              "      <td>0</td>\n",
              "      <td>0</td>\n",
              "      <td>0</td>\n",
              "      <td>1</td>\n",
              "      <td>0</td>\n",
              "      <td>0</td>\n",
              "      <td>0</td>\n",
              "      <td>0</td>\n",
              "      <td>0</td>\n",
              "      <td>...</td>\n",
              "      <td>2.570342</td>\n",
              "      <td>4.191641</td>\n",
              "      <td>1.284335</td>\n",
              "      <td>1.282724</td>\n",
              "      <td>0</td>\n",
              "      <td>0</td>\n",
              "      <td>0</td>\n",
              "      <td>0</td>\n",
              "      <td>0</td>\n",
              "      <td>0</td>\n",
              "    </tr>\n",
              "  </tbody>\n",
              "</table>\n",
              "<p>5 rows × 364 columns</p>\n",
              "</div>\n",
              "    <div class=\"colab-df-buttons\">\n",
              "\n",
              "  <div class=\"colab-df-container\">\n",
              "    <button class=\"colab-df-convert\" onclick=\"convertToInteractive('df-45e3c18a-cc40-4cc3-a469-3b8455ddd5c1')\"\n",
              "            title=\"Convert this dataframe to an interactive table.\"\n",
              "            style=\"display:none;\">\n",
              "\n",
              "  <svg xmlns=\"http://www.w3.org/2000/svg\" height=\"24px\" viewBox=\"0 -960 960 960\">\n",
              "    <path d=\"M120-120v-720h720v720H120Zm60-500h600v-160H180v160Zm220 220h160v-160H400v160Zm0 220h160v-160H400v160ZM180-400h160v-160H180v160Zm440 0h160v-160H620v160ZM180-180h160v-160H180v160Zm440 0h160v-160H620v160Z\"/>\n",
              "  </svg>\n",
              "    </button>\n",
              "\n",
              "  <style>\n",
              "    .colab-df-container {\n",
              "      display:flex;\n",
              "      gap: 12px;\n",
              "    }\n",
              "\n",
              "    .colab-df-convert {\n",
              "      background-color: #E8F0FE;\n",
              "      border: none;\n",
              "      border-radius: 50%;\n",
              "      cursor: pointer;\n",
              "      display: none;\n",
              "      fill: #1967D2;\n",
              "      height: 32px;\n",
              "      padding: 0 0 0 0;\n",
              "      width: 32px;\n",
              "    }\n",
              "\n",
              "    .colab-df-convert:hover {\n",
              "      background-color: #E2EBFA;\n",
              "      box-shadow: 0px 1px 2px rgba(60, 64, 67, 0.3), 0px 1px 3px 1px rgba(60, 64, 67, 0.15);\n",
              "      fill: #174EA6;\n",
              "    }\n",
              "\n",
              "    .colab-df-buttons div {\n",
              "      margin-bottom: 4px;\n",
              "    }\n",
              "\n",
              "    [theme=dark] .colab-df-convert {\n",
              "      background-color: #3B4455;\n",
              "      fill: #D2E3FC;\n",
              "    }\n",
              "\n",
              "    [theme=dark] .colab-df-convert:hover {\n",
              "      background-color: #434B5C;\n",
              "      box-shadow: 0px 1px 3px 1px rgba(0, 0, 0, 0.15);\n",
              "      filter: drop-shadow(0px 1px 2px rgba(0, 0, 0, 0.3));\n",
              "      fill: #FFFFFF;\n",
              "    }\n",
              "  </style>\n",
              "\n",
              "    <script>\n",
              "      const buttonEl =\n",
              "        document.querySelector('#df-45e3c18a-cc40-4cc3-a469-3b8455ddd5c1 button.colab-df-convert');\n",
              "      buttonEl.style.display =\n",
              "        google.colab.kernel.accessAllowed ? 'block' : 'none';\n",
              "\n",
              "      async function convertToInteractive(key) {\n",
              "        const element = document.querySelector('#df-45e3c18a-cc40-4cc3-a469-3b8455ddd5c1');\n",
              "        const dataTable =\n",
              "          await google.colab.kernel.invokeFunction('convertToInteractive',\n",
              "                                                    [key], {});\n",
              "        if (!dataTable) return;\n",
              "\n",
              "        const docLinkHtml = 'Like what you see? Visit the ' +\n",
              "          '<a target=\"_blank\" href=https://colab.research.google.com/notebooks/data_table.ipynb>data table notebook</a>'\n",
              "          + ' to learn more about interactive tables.';\n",
              "        element.innerHTML = '';\n",
              "        dataTable['output_type'] = 'display_data';\n",
              "        await google.colab.output.renderOutput(dataTable, element);\n",
              "        const docLink = document.createElement('div');\n",
              "        docLink.innerHTML = docLinkHtml;\n",
              "        element.appendChild(docLink);\n",
              "      }\n",
              "    </script>\n",
              "  </div>\n",
              "\n",
              "\n",
              "<div id=\"df-72fd543f-dd4b-4af9-aa94-954cdb1f738f\">\n",
              "  <button class=\"colab-df-quickchart\" onclick=\"quickchart('df-72fd543f-dd4b-4af9-aa94-954cdb1f738f')\"\n",
              "            title=\"Suggest charts\"\n",
              "            style=\"display:none;\">\n",
              "\n",
              "<svg xmlns=\"http://www.w3.org/2000/svg\" height=\"24px\"viewBox=\"0 0 24 24\"\n",
              "     width=\"24px\">\n",
              "    <g>\n",
              "        <path d=\"M19 3H5c-1.1 0-2 .9-2 2v14c0 1.1.9 2 2 2h14c1.1 0 2-.9 2-2V5c0-1.1-.9-2-2-2zM9 17H7v-7h2v7zm4 0h-2V7h2v10zm4 0h-2v-4h2v4z\"/>\n",
              "    </g>\n",
              "</svg>\n",
              "  </button>\n",
              "\n",
              "<style>\n",
              "  .colab-df-quickchart {\n",
              "      --bg-color: #E8F0FE;\n",
              "      --fill-color: #1967D2;\n",
              "      --hover-bg-color: #E2EBFA;\n",
              "      --hover-fill-color: #174EA6;\n",
              "      --disabled-fill-color: #AAA;\n",
              "      --disabled-bg-color: #DDD;\n",
              "  }\n",
              "\n",
              "  [theme=dark] .colab-df-quickchart {\n",
              "      --bg-color: #3B4455;\n",
              "      --fill-color: #D2E3FC;\n",
              "      --hover-bg-color: #434B5C;\n",
              "      --hover-fill-color: #FFFFFF;\n",
              "      --disabled-bg-color: #3B4455;\n",
              "      --disabled-fill-color: #666;\n",
              "  }\n",
              "\n",
              "  .colab-df-quickchart {\n",
              "    background-color: var(--bg-color);\n",
              "    border: none;\n",
              "    border-radius: 50%;\n",
              "    cursor: pointer;\n",
              "    display: none;\n",
              "    fill: var(--fill-color);\n",
              "    height: 32px;\n",
              "    padding: 0;\n",
              "    width: 32px;\n",
              "  }\n",
              "\n",
              "  .colab-df-quickchart:hover {\n",
              "    background-color: var(--hover-bg-color);\n",
              "    box-shadow: 0 1px 2px rgba(60, 64, 67, 0.3), 0 1px 3px 1px rgba(60, 64, 67, 0.15);\n",
              "    fill: var(--button-hover-fill-color);\n",
              "  }\n",
              "\n",
              "  .colab-df-quickchart-complete:disabled,\n",
              "  .colab-df-quickchart-complete:disabled:hover {\n",
              "    background-color: var(--disabled-bg-color);\n",
              "    fill: var(--disabled-fill-color);\n",
              "    box-shadow: none;\n",
              "  }\n",
              "\n",
              "  .colab-df-spinner {\n",
              "    border: 2px solid var(--fill-color);\n",
              "    border-color: transparent;\n",
              "    border-bottom-color: var(--fill-color);\n",
              "    animation:\n",
              "      spin 1s steps(1) infinite;\n",
              "  }\n",
              "\n",
              "  @keyframes spin {\n",
              "    0% {\n",
              "      border-color: transparent;\n",
              "      border-bottom-color: var(--fill-color);\n",
              "      border-left-color: var(--fill-color);\n",
              "    }\n",
              "    20% {\n",
              "      border-color: transparent;\n",
              "      border-left-color: var(--fill-color);\n",
              "      border-top-color: var(--fill-color);\n",
              "    }\n",
              "    30% {\n",
              "      border-color: transparent;\n",
              "      border-left-color: var(--fill-color);\n",
              "      border-top-color: var(--fill-color);\n",
              "      border-right-color: var(--fill-color);\n",
              "    }\n",
              "    40% {\n",
              "      border-color: transparent;\n",
              "      border-right-color: var(--fill-color);\n",
              "      border-top-color: var(--fill-color);\n",
              "    }\n",
              "    60% {\n",
              "      border-color: transparent;\n",
              "      border-right-color: var(--fill-color);\n",
              "    }\n",
              "    80% {\n",
              "      border-color: transparent;\n",
              "      border-right-color: var(--fill-color);\n",
              "      border-bottom-color: var(--fill-color);\n",
              "    }\n",
              "    90% {\n",
              "      border-color: transparent;\n",
              "      border-bottom-color: var(--fill-color);\n",
              "    }\n",
              "  }\n",
              "</style>\n",
              "\n",
              "  <script>\n",
              "    async function quickchart(key) {\n",
              "      const quickchartButtonEl =\n",
              "        document.querySelector('#' + key + ' button');\n",
              "      quickchartButtonEl.disabled = true;  // To prevent multiple clicks.\n",
              "      quickchartButtonEl.classList.add('colab-df-spinner');\n",
              "      try {\n",
              "        const charts = await google.colab.kernel.invokeFunction(\n",
              "            'suggestCharts', [key], {});\n",
              "      } catch (error) {\n",
              "        console.error('Error during call to suggestCharts:', error);\n",
              "      }\n",
              "      quickchartButtonEl.classList.remove('colab-df-spinner');\n",
              "      quickchartButtonEl.classList.add('colab-df-quickchart-complete');\n",
              "    }\n",
              "    (() => {\n",
              "      let quickchartButtonEl =\n",
              "        document.querySelector('#df-72fd543f-dd4b-4af9-aa94-954cdb1f738f button');\n",
              "      quickchartButtonEl.style.display =\n",
              "        google.colab.kernel.accessAllowed ? 'block' : 'none';\n",
              "    })();\n",
              "  </script>\n",
              "</div>\n",
              "\n",
              "    </div>\n",
              "  </div>\n"
            ],
            "application/vnd.google.colaboratory.intrinsic+json": {
              "type": "dataframe",
              "variable_name": "data"
            }
          },
          "metadata": {},
          "execution_count": 3
        }
      ],
      "source": [
        "data.head()"
      ]
    },
    {
      "cell_type": "code",
      "execution_count": 4,
      "id": "f8719898-5ffa-4ecf-b32e-719f50069aa8",
      "metadata": {
        "colab": {
          "base_uri": "https://localhost:8080/"
        },
        "id": "f8719898-5ffa-4ecf-b32e-719f50069aa8",
        "outputId": "b06c99be-1373-479e-a768-87792a431cd8"
      },
      "outputs": [
        {
          "output_type": "stream",
          "name": "stdout",
          "text": [
            "<class 'pandas.core.frame.DataFrame'>\n",
            "RangeIndex: 50 entries, 0 to 49\n",
            "Columns: 364 entries, state_Alabama to Poll\n",
            "dtypes: float64(308), int64(56)\n",
            "memory usage: 142.3 KB\n"
          ]
        }
      ],
      "source": [
        "data.info()"
      ]
    },
    {
      "cell_type": "markdown",
      "id": "7B5Hcupu_b21",
      "metadata": {
        "id": "7B5Hcupu_b21"
      },
      "source": [
        "## **Dataset Splitting**"
      ]
    },
    {
      "cell_type": "markdown",
      "id": "ta43F6_vAkGR",
      "metadata": {
        "id": "ta43F6_vAkGR"
      },
      "source": [
        "### Initial split - Features (X) and label/target (y)"
      ]
    },
    {
      "cell_type": "code",
      "execution_count": 5,
      "id": "2XNGrBFfAio9",
      "metadata": {
        "id": "2XNGrBFfAio9"
      },
      "outputs": [],
      "source": [
        "# Split data into features (X) and label (y)\n",
        "X = data.drop('Target', axis=1)  # Drop the target column for features\n",
        "y = data['Target']  # Target column"
      ]
    },
    {
      "cell_type": "markdown",
      "id": "PVNjQ1vaBJNY",
      "metadata": {
        "id": "PVNjQ1vaBJNY"
      },
      "source": [
        "### Train-test split"
      ]
    },
    {
      "cell_type": "code",
      "execution_count": 6,
      "id": "D9BrxOlL_oBy",
      "metadata": {
        "id": "D9BrxOlL_oBy"
      },
      "outputs": [],
      "source": [
        "# Split data into training and testing sets\n",
        "# X_train, X_test, y_train, y_test = train_test_split(X, y, test_size=0.3, random_state=42)"
      ]
    },
    {
      "cell_type": "code",
      "execution_count": 7,
      "id": "om8gdCJJdd8M",
      "metadata": {
        "colab": {
          "base_uri": "https://localhost:8080/",
          "height": 256
        },
        "id": "om8gdCJJdd8M",
        "outputId": "aeaefd81-0d8d-41bd-83bf-affef12058b1"
      },
      "outputs": [
        {
          "output_type": "execute_result",
          "data": {
            "text/plain": [
              "   state_Alabama  state_Alaska  state_Arizona  state_Arkansas  \\\n",
              "0              1             0              0               0   \n",
              "1              0             1              0               0   \n",
              "2              0             0              1               0   \n",
              "3              0             0              0               1   \n",
              "4              0             0              0               0   \n",
              "\n",
              "   state_California  state_Colorado  state_Connecticut  state_Delaware  \\\n",
              "0                 0               0                  0               0   \n",
              "1                 0               0                  0               0   \n",
              "2                 0               0                  0               0   \n",
              "3                 0               0                  0               0   \n",
              "4                 1               0                  0               0   \n",
              "\n",
              "   state_Florida  state_Georgia  ...  \\\n",
              "0              0              0  ...   \n",
              "1              0              0  ...   \n",
              "2              0              0  ...   \n",
              "3              0              0  ...   \n",
              "4              0              0  ...   \n",
              "\n",
              "   GROSSRentOccupiedUnitsPayingRentMedianGrossRent_Dollars_  \\\n",
              "0                                          -1.020961          \n",
              "1                                           0.284112          \n",
              "2                                           1.068491          \n",
              "3                                          -1.184512          \n",
              "4                                           2.350199          \n",
              "\n",
              "   COMPUTERSAndInternetUseTotalHouseholds  \\\n",
              "0                               -0.207013   \n",
              "1                               -0.853351   \n",
              "2                                0.104547   \n",
              "3                               -0.505172   \n",
              "4                                4.035256   \n",
              "\n",
              "   COMPUTERSAndInternetUseTotalHouseholdsWithAComputerInPercent  \\\n",
              "0                                          -1.194113              \n",
              "1                                           1.323595              \n",
              "2                                           0.963923              \n",
              "3                                          -0.834441              \n",
              "4                                           1.143759              \n",
              "\n",
              "   COMPUTERSAndInternetUseTotalHouseholdsWithABroadbandInternetSubscriptionInPercent  \\\n",
              "0                                          -1.200626                                   \n",
              "1                                           0.793232                                   \n",
              "2                                           0.362128                                   \n",
              "3                                          -1.739507                                   \n",
              "4                                           1.386001                                   \n",
              "\n",
              "   LastFourthElection_Republican  LastThirdElection_Republican  \\\n",
              "0                              1                             1   \n",
              "1                              1                             1   \n",
              "2                              0                             0   \n",
              "3                              1                             1   \n",
              "4                              0                             0   \n",
              "\n",
              "   LastSecondElection_Republican  LastElection_Republican  Target  Poll  \n",
              "0                              1                        1       1     1  \n",
              "1                              1                        1       1     1  \n",
              "2                              1                        0       1     1  \n",
              "3                              1                        1       1     1  \n",
              "4                              0                        0       0     0  \n",
              "\n",
              "[5 rows x 364 columns]"
            ],
            "text/html": [
              "\n",
              "  <div id=\"df-d08d82ae-8dd9-4fd1-8bd3-03ae02fb7c11\" class=\"colab-df-container\">\n",
              "    <div>\n",
              "<style scoped>\n",
              "    .dataframe tbody tr th:only-of-type {\n",
              "        vertical-align: middle;\n",
              "    }\n",
              "\n",
              "    .dataframe tbody tr th {\n",
              "        vertical-align: top;\n",
              "    }\n",
              "\n",
              "    .dataframe thead th {\n",
              "        text-align: right;\n",
              "    }\n",
              "</style>\n",
              "<table border=\"1\" class=\"dataframe\">\n",
              "  <thead>\n",
              "    <tr style=\"text-align: right;\">\n",
              "      <th></th>\n",
              "      <th>state_Alabama</th>\n",
              "      <th>state_Alaska</th>\n",
              "      <th>state_Arizona</th>\n",
              "      <th>state_Arkansas</th>\n",
              "      <th>state_California</th>\n",
              "      <th>state_Colorado</th>\n",
              "      <th>state_Connecticut</th>\n",
              "      <th>state_Delaware</th>\n",
              "      <th>state_Florida</th>\n",
              "      <th>state_Georgia</th>\n",
              "      <th>...</th>\n",
              "      <th>GROSSRentOccupiedUnitsPayingRentMedianGrossRent_Dollars_</th>\n",
              "      <th>COMPUTERSAndInternetUseTotalHouseholds</th>\n",
              "      <th>COMPUTERSAndInternetUseTotalHouseholdsWithAComputerInPercent</th>\n",
              "      <th>COMPUTERSAndInternetUseTotalHouseholdsWithABroadbandInternetSubscriptionInPercent</th>\n",
              "      <th>LastFourthElection_Republican</th>\n",
              "      <th>LastThirdElection_Republican</th>\n",
              "      <th>LastSecondElection_Republican</th>\n",
              "      <th>LastElection_Republican</th>\n",
              "      <th>Target</th>\n",
              "      <th>Poll</th>\n",
              "    </tr>\n",
              "  </thead>\n",
              "  <tbody>\n",
              "    <tr>\n",
              "      <th>0</th>\n",
              "      <td>1</td>\n",
              "      <td>0</td>\n",
              "      <td>0</td>\n",
              "      <td>0</td>\n",
              "      <td>0</td>\n",
              "      <td>0</td>\n",
              "      <td>0</td>\n",
              "      <td>0</td>\n",
              "      <td>0</td>\n",
              "      <td>0</td>\n",
              "      <td>...</td>\n",
              "      <td>-1.020961</td>\n",
              "      <td>-0.207013</td>\n",
              "      <td>-1.194113</td>\n",
              "      <td>-1.200626</td>\n",
              "      <td>1</td>\n",
              "      <td>1</td>\n",
              "      <td>1</td>\n",
              "      <td>1</td>\n",
              "      <td>1</td>\n",
              "      <td>1</td>\n",
              "    </tr>\n",
              "    <tr>\n",
              "      <th>1</th>\n",
              "      <td>0</td>\n",
              "      <td>1</td>\n",
              "      <td>0</td>\n",
              "      <td>0</td>\n",
              "      <td>0</td>\n",
              "      <td>0</td>\n",
              "      <td>0</td>\n",
              "      <td>0</td>\n",
              "      <td>0</td>\n",
              "      <td>0</td>\n",
              "      <td>...</td>\n",
              "      <td>0.284112</td>\n",
              "      <td>-0.853351</td>\n",
              "      <td>1.323595</td>\n",
              "      <td>0.793232</td>\n",
              "      <td>1</td>\n",
              "      <td>1</td>\n",
              "      <td>1</td>\n",
              "      <td>1</td>\n",
              "      <td>1</td>\n",
              "      <td>1</td>\n",
              "    </tr>\n",
              "    <tr>\n",
              "      <th>2</th>\n",
              "      <td>0</td>\n",
              "      <td>0</td>\n",
              "      <td>1</td>\n",
              "      <td>0</td>\n",
              "      <td>0</td>\n",
              "      <td>0</td>\n",
              "      <td>0</td>\n",
              "      <td>0</td>\n",
              "      <td>0</td>\n",
              "      <td>0</td>\n",
              "      <td>...</td>\n",
              "      <td>1.068491</td>\n",
              "      <td>0.104547</td>\n",
              "      <td>0.963923</td>\n",
              "      <td>0.362128</td>\n",
              "      <td>0</td>\n",
              "      <td>0</td>\n",
              "      <td>1</td>\n",
              "      <td>0</td>\n",
              "      <td>1</td>\n",
              "      <td>1</td>\n",
              "    </tr>\n",
              "    <tr>\n",
              "      <th>3</th>\n",
              "      <td>0</td>\n",
              "      <td>0</td>\n",
              "      <td>0</td>\n",
              "      <td>1</td>\n",
              "      <td>0</td>\n",
              "      <td>0</td>\n",
              "      <td>0</td>\n",
              "      <td>0</td>\n",
              "      <td>0</td>\n",
              "      <td>0</td>\n",
              "      <td>...</td>\n",
              "      <td>-1.184512</td>\n",
              "      <td>-0.505172</td>\n",
              "      <td>-0.834441</td>\n",
              "      <td>-1.739507</td>\n",
              "      <td>1</td>\n",
              "      <td>1</td>\n",
              "      <td>1</td>\n",
              "      <td>1</td>\n",
              "      <td>1</td>\n",
              "      <td>1</td>\n",
              "    </tr>\n",
              "    <tr>\n",
              "      <th>4</th>\n",
              "      <td>0</td>\n",
              "      <td>0</td>\n",
              "      <td>0</td>\n",
              "      <td>0</td>\n",
              "      <td>1</td>\n",
              "      <td>0</td>\n",
              "      <td>0</td>\n",
              "      <td>0</td>\n",
              "      <td>0</td>\n",
              "      <td>0</td>\n",
              "      <td>...</td>\n",
              "      <td>2.350199</td>\n",
              "      <td>4.035256</td>\n",
              "      <td>1.143759</td>\n",
              "      <td>1.386001</td>\n",
              "      <td>0</td>\n",
              "      <td>0</td>\n",
              "      <td>0</td>\n",
              "      <td>0</td>\n",
              "      <td>0</td>\n",
              "      <td>0</td>\n",
              "    </tr>\n",
              "  </tbody>\n",
              "</table>\n",
              "<p>5 rows × 364 columns</p>\n",
              "</div>\n",
              "    <div class=\"colab-df-buttons\">\n",
              "\n",
              "  <div class=\"colab-df-container\">\n",
              "    <button class=\"colab-df-convert\" onclick=\"convertToInteractive('df-d08d82ae-8dd9-4fd1-8bd3-03ae02fb7c11')\"\n",
              "            title=\"Convert this dataframe to an interactive table.\"\n",
              "            style=\"display:none;\">\n",
              "\n",
              "  <svg xmlns=\"http://www.w3.org/2000/svg\" height=\"24px\" viewBox=\"0 -960 960 960\">\n",
              "    <path d=\"M120-120v-720h720v720H120Zm60-500h600v-160H180v160Zm220 220h160v-160H400v160Zm0 220h160v-160H400v160ZM180-400h160v-160H180v160Zm440 0h160v-160H620v160ZM180-180h160v-160H180v160Zm440 0h160v-160H620v160Z\"/>\n",
              "  </svg>\n",
              "    </button>\n",
              "\n",
              "  <style>\n",
              "    .colab-df-container {\n",
              "      display:flex;\n",
              "      gap: 12px;\n",
              "    }\n",
              "\n",
              "    .colab-df-convert {\n",
              "      background-color: #E8F0FE;\n",
              "      border: none;\n",
              "      border-radius: 50%;\n",
              "      cursor: pointer;\n",
              "      display: none;\n",
              "      fill: #1967D2;\n",
              "      height: 32px;\n",
              "      padding: 0 0 0 0;\n",
              "      width: 32px;\n",
              "    }\n",
              "\n",
              "    .colab-df-convert:hover {\n",
              "      background-color: #E2EBFA;\n",
              "      box-shadow: 0px 1px 2px rgba(60, 64, 67, 0.3), 0px 1px 3px 1px rgba(60, 64, 67, 0.15);\n",
              "      fill: #174EA6;\n",
              "    }\n",
              "\n",
              "    .colab-df-buttons div {\n",
              "      margin-bottom: 4px;\n",
              "    }\n",
              "\n",
              "    [theme=dark] .colab-df-convert {\n",
              "      background-color: #3B4455;\n",
              "      fill: #D2E3FC;\n",
              "    }\n",
              "\n",
              "    [theme=dark] .colab-df-convert:hover {\n",
              "      background-color: #434B5C;\n",
              "      box-shadow: 0px 1px 3px 1px rgba(0, 0, 0, 0.15);\n",
              "      filter: drop-shadow(0px 1px 2px rgba(0, 0, 0, 0.3));\n",
              "      fill: #FFFFFF;\n",
              "    }\n",
              "  </style>\n",
              "\n",
              "    <script>\n",
              "      const buttonEl =\n",
              "        document.querySelector('#df-d08d82ae-8dd9-4fd1-8bd3-03ae02fb7c11 button.colab-df-convert');\n",
              "      buttonEl.style.display =\n",
              "        google.colab.kernel.accessAllowed ? 'block' : 'none';\n",
              "\n",
              "      async function convertToInteractive(key) {\n",
              "        const element = document.querySelector('#df-d08d82ae-8dd9-4fd1-8bd3-03ae02fb7c11');\n",
              "        const dataTable =\n",
              "          await google.colab.kernel.invokeFunction('convertToInteractive',\n",
              "                                                    [key], {});\n",
              "        if (!dataTable) return;\n",
              "\n",
              "        const docLinkHtml = 'Like what you see? Visit the ' +\n",
              "          '<a target=\"_blank\" href=https://colab.research.google.com/notebooks/data_table.ipynb>data table notebook</a>'\n",
              "          + ' to learn more about interactive tables.';\n",
              "        element.innerHTML = '';\n",
              "        dataTable['output_type'] = 'display_data';\n",
              "        await google.colab.output.renderOutput(dataTable, element);\n",
              "        const docLink = document.createElement('div');\n",
              "        docLink.innerHTML = docLinkHtml;\n",
              "        element.appendChild(docLink);\n",
              "      }\n",
              "    </script>\n",
              "  </div>\n",
              "\n",
              "\n",
              "<div id=\"df-b33e7e77-b3ea-4c3e-875d-5a1c17bd08c5\">\n",
              "  <button class=\"colab-df-quickchart\" onclick=\"quickchart('df-b33e7e77-b3ea-4c3e-875d-5a1c17bd08c5')\"\n",
              "            title=\"Suggest charts\"\n",
              "            style=\"display:none;\">\n",
              "\n",
              "<svg xmlns=\"http://www.w3.org/2000/svg\" height=\"24px\"viewBox=\"0 0 24 24\"\n",
              "     width=\"24px\">\n",
              "    <g>\n",
              "        <path d=\"M19 3H5c-1.1 0-2 .9-2 2v14c0 1.1.9 2 2 2h14c1.1 0 2-.9 2-2V5c0-1.1-.9-2-2-2zM9 17H7v-7h2v7zm4 0h-2V7h2v10zm4 0h-2v-4h2v4z\"/>\n",
              "    </g>\n",
              "</svg>\n",
              "  </button>\n",
              "\n",
              "<style>\n",
              "  .colab-df-quickchart {\n",
              "      --bg-color: #E8F0FE;\n",
              "      --fill-color: #1967D2;\n",
              "      --hover-bg-color: #E2EBFA;\n",
              "      --hover-fill-color: #174EA6;\n",
              "      --disabled-fill-color: #AAA;\n",
              "      --disabled-bg-color: #DDD;\n",
              "  }\n",
              "\n",
              "  [theme=dark] .colab-df-quickchart {\n",
              "      --bg-color: #3B4455;\n",
              "      --fill-color: #D2E3FC;\n",
              "      --hover-bg-color: #434B5C;\n",
              "      --hover-fill-color: #FFFFFF;\n",
              "      --disabled-bg-color: #3B4455;\n",
              "      --disabled-fill-color: #666;\n",
              "  }\n",
              "\n",
              "  .colab-df-quickchart {\n",
              "    background-color: var(--bg-color);\n",
              "    border: none;\n",
              "    border-radius: 50%;\n",
              "    cursor: pointer;\n",
              "    display: none;\n",
              "    fill: var(--fill-color);\n",
              "    height: 32px;\n",
              "    padding: 0;\n",
              "    width: 32px;\n",
              "  }\n",
              "\n",
              "  .colab-df-quickchart:hover {\n",
              "    background-color: var(--hover-bg-color);\n",
              "    box-shadow: 0 1px 2px rgba(60, 64, 67, 0.3), 0 1px 3px 1px rgba(60, 64, 67, 0.15);\n",
              "    fill: var(--button-hover-fill-color);\n",
              "  }\n",
              "\n",
              "  .colab-df-quickchart-complete:disabled,\n",
              "  .colab-df-quickchart-complete:disabled:hover {\n",
              "    background-color: var(--disabled-bg-color);\n",
              "    fill: var(--disabled-fill-color);\n",
              "    box-shadow: none;\n",
              "  }\n",
              "\n",
              "  .colab-df-spinner {\n",
              "    border: 2px solid var(--fill-color);\n",
              "    border-color: transparent;\n",
              "    border-bottom-color: var(--fill-color);\n",
              "    animation:\n",
              "      spin 1s steps(1) infinite;\n",
              "  }\n",
              "\n",
              "  @keyframes spin {\n",
              "    0% {\n",
              "      border-color: transparent;\n",
              "      border-bottom-color: var(--fill-color);\n",
              "      border-left-color: var(--fill-color);\n",
              "    }\n",
              "    20% {\n",
              "      border-color: transparent;\n",
              "      border-left-color: var(--fill-color);\n",
              "      border-top-color: var(--fill-color);\n",
              "    }\n",
              "    30% {\n",
              "      border-color: transparent;\n",
              "      border-left-color: var(--fill-color);\n",
              "      border-top-color: var(--fill-color);\n",
              "      border-right-color: var(--fill-color);\n",
              "    }\n",
              "    40% {\n",
              "      border-color: transparent;\n",
              "      border-right-color: var(--fill-color);\n",
              "      border-top-color: var(--fill-color);\n",
              "    }\n",
              "    60% {\n",
              "      border-color: transparent;\n",
              "      border-right-color: var(--fill-color);\n",
              "    }\n",
              "    80% {\n",
              "      border-color: transparent;\n",
              "      border-right-color: var(--fill-color);\n",
              "      border-bottom-color: var(--fill-color);\n",
              "    }\n",
              "    90% {\n",
              "      border-color: transparent;\n",
              "      border-bottom-color: var(--fill-color);\n",
              "    }\n",
              "  }\n",
              "</style>\n",
              "\n",
              "  <script>\n",
              "    async function quickchart(key) {\n",
              "      const quickchartButtonEl =\n",
              "        document.querySelector('#' + key + ' button');\n",
              "      quickchartButtonEl.disabled = true;  // To prevent multiple clicks.\n",
              "      quickchartButtonEl.classList.add('colab-df-spinner');\n",
              "      try {\n",
              "        const charts = await google.colab.kernel.invokeFunction(\n",
              "            'suggestCharts', [key], {});\n",
              "      } catch (error) {\n",
              "        console.error('Error during call to suggestCharts:', error);\n",
              "      }\n",
              "      quickchartButtonEl.classList.remove('colab-df-spinner');\n",
              "      quickchartButtonEl.classList.add('colab-df-quickchart-complete');\n",
              "    }\n",
              "    (() => {\n",
              "      let quickchartButtonEl =\n",
              "        document.querySelector('#df-b33e7e77-b3ea-4c3e-875d-5a1c17bd08c5 button');\n",
              "      quickchartButtonEl.style.display =\n",
              "        google.colab.kernel.accessAllowed ? 'block' : 'none';\n",
              "    })();\n",
              "  </script>\n",
              "</div>\n",
              "\n",
              "    </div>\n",
              "  </div>\n"
            ],
            "application/vnd.google.colaboratory.intrinsic+json": {
              "type": "dataframe",
              "variable_name": "test_data"
            }
          },
          "metadata": {},
          "execution_count": 7
        }
      ],
      "source": [
        "test_data = pd.read_csv('/content/2023_out_heading_matched_out.csv')\n",
        "test_data.head()"
      ]
    },
    {
      "cell_type": "code",
      "execution_count": 8,
      "id": "9058ad24",
      "metadata": {
        "id": "9058ad24"
      },
      "outputs": [],
      "source": [
        "for i in range(7):\n",
        "    X[f'poll{i}'] = X[['Poll']]\n",
        "    test_data[f'poll{i}'] = test_data[['Poll']]"
      ]
    },
    {
      "cell_type": "code",
      "execution_count": 9,
      "id": "JnfICfdJdG8-",
      "metadata": {
        "id": "JnfICfdJdG8-"
      },
      "outputs": [],
      "source": [
        "X_train = X\n",
        "y_train = y\n",
        "X_test = test_data.drop('Target', axis=1)\n",
        "y_test = test_data['Target']"
      ]
    },
    {
      "cell_type": "code",
      "execution_count": 10,
      "id": "506846c6",
      "metadata": {
        "colab": {
          "base_uri": "https://localhost:8080/",
          "height": 256
        },
        "id": "506846c6",
        "outputId": "b7abe3a8-eb86-4145-9ea3-e9f30c7bd513"
      },
      "outputs": [
        {
          "output_type": "execute_result",
          "data": {
            "text/plain": [
              "   state_Alabama  state_Alaska  state_Arizona  state_Arkansas  \\\n",
              "0              1             0              0               0   \n",
              "1              0             1              0               0   \n",
              "2              0             0              1               0   \n",
              "3              0             0              0               1   \n",
              "4              0             0              0               0   \n",
              "\n",
              "   state_California  state_Colorado  state_Connecticut  state_Delaware  \\\n",
              "0                 0               0                  0               0   \n",
              "1                 0               0                  0               0   \n",
              "2                 0               0                  0               0   \n",
              "3                 0               0                  0               0   \n",
              "4                 1               0                  0               0   \n",
              "\n",
              "   state_Florida  state_Georgia  ...  LastSecondElection_Republican  \\\n",
              "0              0              0  ...                              1   \n",
              "1              0              0  ...                              1   \n",
              "2              0              0  ...                              0   \n",
              "3              0              0  ...                              1   \n",
              "4              0              0  ...                              0   \n",
              "\n",
              "   LastElection_Republican  Poll  poll0  poll1  poll2  poll3  poll4  poll5  \\\n",
              "0                        1     1      1      1      1      1      1      1   \n",
              "1                        1     1      1      1      1      1      1      1   \n",
              "2                        1     0      0      0      0      0      0      0   \n",
              "3                        1     1      1      1      1      1      1      1   \n",
              "4                        0     0      0      0      0      0      0      0   \n",
              "\n",
              "   poll6  \n",
              "0      1  \n",
              "1      1  \n",
              "2      0  \n",
              "3      1  \n",
              "4      0  \n",
              "\n",
              "[5 rows x 370 columns]"
            ],
            "text/html": [
              "\n",
              "  <div id=\"df-0e9864be-5823-48b9-a604-501ae7777a2a\" class=\"colab-df-container\">\n",
              "    <div>\n",
              "<style scoped>\n",
              "    .dataframe tbody tr th:only-of-type {\n",
              "        vertical-align: middle;\n",
              "    }\n",
              "\n",
              "    .dataframe tbody tr th {\n",
              "        vertical-align: top;\n",
              "    }\n",
              "\n",
              "    .dataframe thead th {\n",
              "        text-align: right;\n",
              "    }\n",
              "</style>\n",
              "<table border=\"1\" class=\"dataframe\">\n",
              "  <thead>\n",
              "    <tr style=\"text-align: right;\">\n",
              "      <th></th>\n",
              "      <th>state_Alabama</th>\n",
              "      <th>state_Alaska</th>\n",
              "      <th>state_Arizona</th>\n",
              "      <th>state_Arkansas</th>\n",
              "      <th>state_California</th>\n",
              "      <th>state_Colorado</th>\n",
              "      <th>state_Connecticut</th>\n",
              "      <th>state_Delaware</th>\n",
              "      <th>state_Florida</th>\n",
              "      <th>state_Georgia</th>\n",
              "      <th>...</th>\n",
              "      <th>LastSecondElection_Republican</th>\n",
              "      <th>LastElection_Republican</th>\n",
              "      <th>Poll</th>\n",
              "      <th>poll0</th>\n",
              "      <th>poll1</th>\n",
              "      <th>poll2</th>\n",
              "      <th>poll3</th>\n",
              "      <th>poll4</th>\n",
              "      <th>poll5</th>\n",
              "      <th>poll6</th>\n",
              "    </tr>\n",
              "  </thead>\n",
              "  <tbody>\n",
              "    <tr>\n",
              "      <th>0</th>\n",
              "      <td>1</td>\n",
              "      <td>0</td>\n",
              "      <td>0</td>\n",
              "      <td>0</td>\n",
              "      <td>0</td>\n",
              "      <td>0</td>\n",
              "      <td>0</td>\n",
              "      <td>0</td>\n",
              "      <td>0</td>\n",
              "      <td>0</td>\n",
              "      <td>...</td>\n",
              "      <td>1</td>\n",
              "      <td>1</td>\n",
              "      <td>1</td>\n",
              "      <td>1</td>\n",
              "      <td>1</td>\n",
              "      <td>1</td>\n",
              "      <td>1</td>\n",
              "      <td>1</td>\n",
              "      <td>1</td>\n",
              "      <td>1</td>\n",
              "    </tr>\n",
              "    <tr>\n",
              "      <th>1</th>\n",
              "      <td>0</td>\n",
              "      <td>1</td>\n",
              "      <td>0</td>\n",
              "      <td>0</td>\n",
              "      <td>0</td>\n",
              "      <td>0</td>\n",
              "      <td>0</td>\n",
              "      <td>0</td>\n",
              "      <td>0</td>\n",
              "      <td>0</td>\n",
              "      <td>...</td>\n",
              "      <td>1</td>\n",
              "      <td>1</td>\n",
              "      <td>1</td>\n",
              "      <td>1</td>\n",
              "      <td>1</td>\n",
              "      <td>1</td>\n",
              "      <td>1</td>\n",
              "      <td>1</td>\n",
              "      <td>1</td>\n",
              "      <td>1</td>\n",
              "    </tr>\n",
              "    <tr>\n",
              "      <th>2</th>\n",
              "      <td>0</td>\n",
              "      <td>0</td>\n",
              "      <td>1</td>\n",
              "      <td>0</td>\n",
              "      <td>0</td>\n",
              "      <td>0</td>\n",
              "      <td>0</td>\n",
              "      <td>0</td>\n",
              "      <td>0</td>\n",
              "      <td>0</td>\n",
              "      <td>...</td>\n",
              "      <td>0</td>\n",
              "      <td>1</td>\n",
              "      <td>0</td>\n",
              "      <td>0</td>\n",
              "      <td>0</td>\n",
              "      <td>0</td>\n",
              "      <td>0</td>\n",
              "      <td>0</td>\n",
              "      <td>0</td>\n",
              "      <td>0</td>\n",
              "    </tr>\n",
              "    <tr>\n",
              "      <th>3</th>\n",
              "      <td>0</td>\n",
              "      <td>0</td>\n",
              "      <td>0</td>\n",
              "      <td>1</td>\n",
              "      <td>0</td>\n",
              "      <td>0</td>\n",
              "      <td>0</td>\n",
              "      <td>0</td>\n",
              "      <td>0</td>\n",
              "      <td>0</td>\n",
              "      <td>...</td>\n",
              "      <td>1</td>\n",
              "      <td>1</td>\n",
              "      <td>1</td>\n",
              "      <td>1</td>\n",
              "      <td>1</td>\n",
              "      <td>1</td>\n",
              "      <td>1</td>\n",
              "      <td>1</td>\n",
              "      <td>1</td>\n",
              "      <td>1</td>\n",
              "    </tr>\n",
              "    <tr>\n",
              "      <th>4</th>\n",
              "      <td>0</td>\n",
              "      <td>0</td>\n",
              "      <td>0</td>\n",
              "      <td>0</td>\n",
              "      <td>1</td>\n",
              "      <td>0</td>\n",
              "      <td>0</td>\n",
              "      <td>0</td>\n",
              "      <td>0</td>\n",
              "      <td>0</td>\n",
              "      <td>...</td>\n",
              "      <td>0</td>\n",
              "      <td>0</td>\n",
              "      <td>0</td>\n",
              "      <td>0</td>\n",
              "      <td>0</td>\n",
              "      <td>0</td>\n",
              "      <td>0</td>\n",
              "      <td>0</td>\n",
              "      <td>0</td>\n",
              "      <td>0</td>\n",
              "    </tr>\n",
              "  </tbody>\n",
              "</table>\n",
              "<p>5 rows × 370 columns</p>\n",
              "</div>\n",
              "    <div class=\"colab-df-buttons\">\n",
              "\n",
              "  <div class=\"colab-df-container\">\n",
              "    <button class=\"colab-df-convert\" onclick=\"convertToInteractive('df-0e9864be-5823-48b9-a604-501ae7777a2a')\"\n",
              "            title=\"Convert this dataframe to an interactive table.\"\n",
              "            style=\"display:none;\">\n",
              "\n",
              "  <svg xmlns=\"http://www.w3.org/2000/svg\" height=\"24px\" viewBox=\"0 -960 960 960\">\n",
              "    <path d=\"M120-120v-720h720v720H120Zm60-500h600v-160H180v160Zm220 220h160v-160H400v160Zm0 220h160v-160H400v160ZM180-400h160v-160H180v160Zm440 0h160v-160H620v160ZM180-180h160v-160H180v160Zm440 0h160v-160H620v160Z\"/>\n",
              "  </svg>\n",
              "    </button>\n",
              "\n",
              "  <style>\n",
              "    .colab-df-container {\n",
              "      display:flex;\n",
              "      gap: 12px;\n",
              "    }\n",
              "\n",
              "    .colab-df-convert {\n",
              "      background-color: #E8F0FE;\n",
              "      border: none;\n",
              "      border-radius: 50%;\n",
              "      cursor: pointer;\n",
              "      display: none;\n",
              "      fill: #1967D2;\n",
              "      height: 32px;\n",
              "      padding: 0 0 0 0;\n",
              "      width: 32px;\n",
              "    }\n",
              "\n",
              "    .colab-df-convert:hover {\n",
              "      background-color: #E2EBFA;\n",
              "      box-shadow: 0px 1px 2px rgba(60, 64, 67, 0.3), 0px 1px 3px 1px rgba(60, 64, 67, 0.15);\n",
              "      fill: #174EA6;\n",
              "    }\n",
              "\n",
              "    .colab-df-buttons div {\n",
              "      margin-bottom: 4px;\n",
              "    }\n",
              "\n",
              "    [theme=dark] .colab-df-convert {\n",
              "      background-color: #3B4455;\n",
              "      fill: #D2E3FC;\n",
              "    }\n",
              "\n",
              "    [theme=dark] .colab-df-convert:hover {\n",
              "      background-color: #434B5C;\n",
              "      box-shadow: 0px 1px 3px 1px rgba(0, 0, 0, 0.15);\n",
              "      filter: drop-shadow(0px 1px 2px rgba(0, 0, 0, 0.3));\n",
              "      fill: #FFFFFF;\n",
              "    }\n",
              "  </style>\n",
              "\n",
              "    <script>\n",
              "      const buttonEl =\n",
              "        document.querySelector('#df-0e9864be-5823-48b9-a604-501ae7777a2a button.colab-df-convert');\n",
              "      buttonEl.style.display =\n",
              "        google.colab.kernel.accessAllowed ? 'block' : 'none';\n",
              "\n",
              "      async function convertToInteractive(key) {\n",
              "        const element = document.querySelector('#df-0e9864be-5823-48b9-a604-501ae7777a2a');\n",
              "        const dataTable =\n",
              "          await google.colab.kernel.invokeFunction('convertToInteractive',\n",
              "                                                    [key], {});\n",
              "        if (!dataTable) return;\n",
              "\n",
              "        const docLinkHtml = 'Like what you see? Visit the ' +\n",
              "          '<a target=\"_blank\" href=https://colab.research.google.com/notebooks/data_table.ipynb>data table notebook</a>'\n",
              "          + ' to learn more about interactive tables.';\n",
              "        element.innerHTML = '';\n",
              "        dataTable['output_type'] = 'display_data';\n",
              "        await google.colab.output.renderOutput(dataTable, element);\n",
              "        const docLink = document.createElement('div');\n",
              "        docLink.innerHTML = docLinkHtml;\n",
              "        element.appendChild(docLink);\n",
              "      }\n",
              "    </script>\n",
              "  </div>\n",
              "\n",
              "\n",
              "<div id=\"df-9c0d0ef8-8fbd-45df-9f93-c17c392619dc\">\n",
              "  <button class=\"colab-df-quickchart\" onclick=\"quickchart('df-9c0d0ef8-8fbd-45df-9f93-c17c392619dc')\"\n",
              "            title=\"Suggest charts\"\n",
              "            style=\"display:none;\">\n",
              "\n",
              "<svg xmlns=\"http://www.w3.org/2000/svg\" height=\"24px\"viewBox=\"0 0 24 24\"\n",
              "     width=\"24px\">\n",
              "    <g>\n",
              "        <path d=\"M19 3H5c-1.1 0-2 .9-2 2v14c0 1.1.9 2 2 2h14c1.1 0 2-.9 2-2V5c0-1.1-.9-2-2-2zM9 17H7v-7h2v7zm4 0h-2V7h2v10zm4 0h-2v-4h2v4z\"/>\n",
              "    </g>\n",
              "</svg>\n",
              "  </button>\n",
              "\n",
              "<style>\n",
              "  .colab-df-quickchart {\n",
              "      --bg-color: #E8F0FE;\n",
              "      --fill-color: #1967D2;\n",
              "      --hover-bg-color: #E2EBFA;\n",
              "      --hover-fill-color: #174EA6;\n",
              "      --disabled-fill-color: #AAA;\n",
              "      --disabled-bg-color: #DDD;\n",
              "  }\n",
              "\n",
              "  [theme=dark] .colab-df-quickchart {\n",
              "      --bg-color: #3B4455;\n",
              "      --fill-color: #D2E3FC;\n",
              "      --hover-bg-color: #434B5C;\n",
              "      --hover-fill-color: #FFFFFF;\n",
              "      --disabled-bg-color: #3B4455;\n",
              "      --disabled-fill-color: #666;\n",
              "  }\n",
              "\n",
              "  .colab-df-quickchart {\n",
              "    background-color: var(--bg-color);\n",
              "    border: none;\n",
              "    border-radius: 50%;\n",
              "    cursor: pointer;\n",
              "    display: none;\n",
              "    fill: var(--fill-color);\n",
              "    height: 32px;\n",
              "    padding: 0;\n",
              "    width: 32px;\n",
              "  }\n",
              "\n",
              "  .colab-df-quickchart:hover {\n",
              "    background-color: var(--hover-bg-color);\n",
              "    box-shadow: 0 1px 2px rgba(60, 64, 67, 0.3), 0 1px 3px 1px rgba(60, 64, 67, 0.15);\n",
              "    fill: var(--button-hover-fill-color);\n",
              "  }\n",
              "\n",
              "  .colab-df-quickchart-complete:disabled,\n",
              "  .colab-df-quickchart-complete:disabled:hover {\n",
              "    background-color: var(--disabled-bg-color);\n",
              "    fill: var(--disabled-fill-color);\n",
              "    box-shadow: none;\n",
              "  }\n",
              "\n",
              "  .colab-df-spinner {\n",
              "    border: 2px solid var(--fill-color);\n",
              "    border-color: transparent;\n",
              "    border-bottom-color: var(--fill-color);\n",
              "    animation:\n",
              "      spin 1s steps(1) infinite;\n",
              "  }\n",
              "\n",
              "  @keyframes spin {\n",
              "    0% {\n",
              "      border-color: transparent;\n",
              "      border-bottom-color: var(--fill-color);\n",
              "      border-left-color: var(--fill-color);\n",
              "    }\n",
              "    20% {\n",
              "      border-color: transparent;\n",
              "      border-left-color: var(--fill-color);\n",
              "      border-top-color: var(--fill-color);\n",
              "    }\n",
              "    30% {\n",
              "      border-color: transparent;\n",
              "      border-left-color: var(--fill-color);\n",
              "      border-top-color: var(--fill-color);\n",
              "      border-right-color: var(--fill-color);\n",
              "    }\n",
              "    40% {\n",
              "      border-color: transparent;\n",
              "      border-right-color: var(--fill-color);\n",
              "      border-top-color: var(--fill-color);\n",
              "    }\n",
              "    60% {\n",
              "      border-color: transparent;\n",
              "      border-right-color: var(--fill-color);\n",
              "    }\n",
              "    80% {\n",
              "      border-color: transparent;\n",
              "      border-right-color: var(--fill-color);\n",
              "      border-bottom-color: var(--fill-color);\n",
              "    }\n",
              "    90% {\n",
              "      border-color: transparent;\n",
              "      border-bottom-color: var(--fill-color);\n",
              "    }\n",
              "  }\n",
              "</style>\n",
              "\n",
              "  <script>\n",
              "    async function quickchart(key) {\n",
              "      const quickchartButtonEl =\n",
              "        document.querySelector('#' + key + ' button');\n",
              "      quickchartButtonEl.disabled = true;  // To prevent multiple clicks.\n",
              "      quickchartButtonEl.classList.add('colab-df-spinner');\n",
              "      try {\n",
              "        const charts = await google.colab.kernel.invokeFunction(\n",
              "            'suggestCharts', [key], {});\n",
              "      } catch (error) {\n",
              "        console.error('Error during call to suggestCharts:', error);\n",
              "      }\n",
              "      quickchartButtonEl.classList.remove('colab-df-spinner');\n",
              "      quickchartButtonEl.classList.add('colab-df-quickchart-complete');\n",
              "    }\n",
              "    (() => {\n",
              "      let quickchartButtonEl =\n",
              "        document.querySelector('#df-9c0d0ef8-8fbd-45df-9f93-c17c392619dc button');\n",
              "      quickchartButtonEl.style.display =\n",
              "        google.colab.kernel.accessAllowed ? 'block' : 'none';\n",
              "    })();\n",
              "  </script>\n",
              "</div>\n",
              "\n",
              "    </div>\n",
              "  </div>\n"
            ],
            "application/vnd.google.colaboratory.intrinsic+json": {
              "type": "dataframe",
              "variable_name": "X"
            }
          },
          "metadata": {},
          "execution_count": 10
        }
      ],
      "source": [
        "X.head()"
      ]
    },
    {
      "cell_type": "code",
      "execution_count": 11,
      "id": "O4FRjtTUfABh",
      "metadata": {
        "colab": {
          "base_uri": "https://localhost:8080/"
        },
        "id": "O4FRjtTUfABh",
        "outputId": "e7516bb5-3343-4a17-9307-0c5a1cd5137d"
      },
      "outputs": [
        {
          "output_type": "stream",
          "name": "stdout",
          "text": [
            "Unique classes in y_train: {0, 1}\n",
            "Unique classes in y_test: {0, 1}\n"
          ]
        }
      ],
      "source": [
        "print(\"Unique classes in y_train:\", set(y_train))\n",
        "print(\"Unique classes in y_test:\", set(y_test))\n"
      ]
    },
    {
      "cell_type": "markdown",
      "id": "ecdd92d1-e856-4851-bb12-beae1220fdec",
      "metadata": {
        "id": "ecdd92d1-e856-4851-bb12-beae1220fdec"
      },
      "source": [
        "## **Model Training and Evaluation**"
      ]
    },
    {
      "cell_type": "markdown",
      "id": "bz0NOVpf22F3",
      "metadata": {
        "id": "bz0NOVpf22F3"
      },
      "source": [
        "### Define an Evaluation function(s)"
      ]
    },
    {
      "cell_type": "markdown",
      "id": "akRbvdzH-YPt",
      "metadata": {
        "id": "akRbvdzH-YPt"
      },
      "source": [
        "The below function will evaluate a model on both the training and testing data, showing performance differences\n",
        "\n",
        "*   Calculating the accuracy\n",
        "*   Printing a detailed classification report (precision, recall, F1-score)\n",
        "*   Plotting a confusion matrix to visualize true and false predictions"
      ]
    },
    {
      "cell_type": "code",
      "execution_count": 12,
      "id": "SOwKdexN3J74",
      "metadata": {
        "id": "SOwKdexN3J74"
      },
      "outputs": [],
      "source": [
        "# Function to evaluate models on both training and testing data for binary classification\n",
        "def evaluate_model(model, X_train, X_test, y_train, y_test):\n",
        "    # Evaluating on Training Data\n",
        "    print(\"\\nEvaluating on Training Data:\")\n",
        "    y_train_pred = model.predict(X_train)\n",
        "    train_accuracy = accuracy_score(y_train, y_train_pred)\n",
        "    print(f\"Training Accuracy: {train_accuracy:.2f}\")\n",
        "\n",
        "    # Classification Report for Training Data\n",
        "    print(\"\\nTraining Classification Report:\")\n",
        "    print(classification_report(y_train, y_train_pred, target_names=[\"Class 0\", \"Class 1\"]))\n",
        "\n",
        "    # Confusion Matrix for Training Data\n",
        "    plt.figure(figsize=(6, 4))\n",
        "    sns.heatmap(confusion_matrix(y_train, y_train_pred), annot=True, fmt='d', cmap='Blues',\n",
        "                xticklabels=[\"Predicted 0\", \"Predicted 1\"], yticklabels=[\"Actual 0\", \"Actual 1\"])\n",
        "    plt.xlabel('Predicted')\n",
        "    plt.ylabel('Actual')\n",
        "    plt.title('Training Confusion Matrix')\n",
        "    plt.show()\n",
        "\n",
        "    # Evaluating on Testing Data\n",
        "    print(\"\\nEvaluating on Testing Data:\")\n",
        "    y_test_pred = model.predict(X_test)\n",
        "    test_accuracy = accuracy_score(y_test, y_test_pred)\n",
        "    print(f\"Testing Accuracy: {test_accuracy:.2f}\")\n",
        "\n",
        "    # Classification Report for Testing Data\n",
        "    print(\"\\nTesting Classification Report:\")\n",
        "    print(classification_report(y_test, y_test_pred, target_names=[\"Class 0\", \"Class 1\"]))\n",
        "\n",
        "    # Confusion Matrix for Testing Data\n",
        "    plt.figure(figsize=(6, 4))\n",
        "    sns.heatmap(confusion_matrix(y_test, y_test_pred), annot=True, fmt='d', cmap='Blues',\n",
        "                xticklabels=[\"Predicted 0\", \"Predicted 1\"], yticklabels=[\"Actual 0\", \"Actual 1\"])\n",
        "    plt.xlabel('Predicted')\n",
        "    plt.ylabel('Actual')\n",
        "    plt.title('Testing Confusion Matrix')\n",
        "    plt.show()\n",
        "\n",
        "\n",
        "# Example usage:\n",
        "# evaluate_model(dt_classifier, X_train, X_test, y_train, y_test)\n",
        "# evaluate_model(rf_classifier, X_train, X_test, y_train, y_test)\n"
      ]
    },
    {
      "cell_type": "markdown",
      "id": "HujP4zpD8_W0",
      "metadata": {
        "id": "HujP4zpD8_W0"
      },
      "source": [
        "This function below will calculate the ROC-AUC scores and plot the ROC curves for both the training and testing datasets."
      ]
    },
    {
      "cell_type": "code",
      "execution_count": 13,
      "id": "lPucG_fy9AOs",
      "metadata": {
        "id": "lPucG_fy9AOs"
      },
      "outputs": [],
      "source": [
        "# Function to plot AUC-ROC curve and calculate AUC score for both training and testing sets\n",
        "def plot_roc_auc_train_test(model, X_train, X_test, y_train, y_test, model_name):\n",
        "    plt.figure(figsize=(8, 6))\n",
        "\n",
        "    # Training Data\n",
        "    y_train_prob = model.predict_proba(X_train)[:, 1]\n",
        "    fpr_train, tpr_train, _ = roc_curve(y_train, y_train_prob)\n",
        "    roc_auc_train = roc_auc_score(y_train, y_train_prob)\n",
        "    plt.plot(fpr_train, tpr_train, label=f\"{model_name} - Training (AUC = {roc_auc_train:.2f})\")\n",
        "\n",
        "    # Testing Data\n",
        "    y_test_prob = model.predict_proba(X_test)[:, 1]\n",
        "    fpr_test, tpr_test, _ = roc_curve(y_test, y_test_prob)\n",
        "    roc_auc_test = roc_auc_score(y_test, y_test_prob)\n",
        "    plt.plot(fpr_test, tpr_test, label=f\"{model_name} - Testing (AUC = {roc_auc_test:.2f})\")\n",
        "\n",
        "    # Plotting settings\n",
        "    plt.plot([0, 1], [0, 1], 'k--', label=\"Random Guessing (AUC = 0.5)\")\n",
        "    plt.xlabel('False Positive Rate')\n",
        "    plt.ylabel('True Positive Rate')\n",
        "    plt.title(f'ROC Curve for {model_name}')\n",
        "    plt.legend(loc=\"lower right\")\n",
        "    plt.grid()\n",
        "    plt.show()\n",
        "\n",
        "    # Print ROC-AUC Scores\n",
        "    print(f\"{model_name} ROC-AUC Score on Training Data: {roc_auc_train:.2f}\")\n",
        "    print(f\"{model_name} ROC-AUC Score on Testing Data: {roc_auc_test:.2f}\")"
      ]
    },
    {
      "cell_type": "markdown",
      "id": "6AxNFbJC4a90",
      "metadata": {
        "id": "6AxNFbJC4a90"
      },
      "source": [
        "### Training and Evaluation"
      ]
    },
    {
      "cell_type": "markdown",
      "id": "AFnmiDCm47pz",
      "metadata": {
        "id": "AFnmiDCm47pz"
      },
      "source": [
        "#### **Decision Tree**"
      ]
    },
    {
      "cell_type": "code",
      "execution_count": 14,
      "id": "ke0j-jC642CV",
      "metadata": {
        "colab": {
          "base_uri": "https://localhost:8080/"
        },
        "id": "ke0j-jC642CV",
        "outputId": "0812aef7-a0ae-406b-e1bd-45b7f726f0f6"
      },
      "outputs": [
        {
          "output_type": "stream",
          "name": "stdout",
          "text": [
            "Training Time: 0.0094 seconds\n"
          ]
        }
      ],
      "source": [
        "# Initialize and train Decision Tree Classifier\n",
        "dt_classifier = DecisionTreeClassifier(random_state=42)\n",
        "start_time = time.time()\n",
        "dt_classifier.fit(X_train, y_train)\n",
        "train_time = time.time() - start_time\n",
        "print(f\"Training Time: {train_time:.4f} seconds\")"
      ]
    },
    {
      "cell_type": "code",
      "execution_count": 15,
      "id": "48LKWDpQ5Q7k",
      "metadata": {
        "colab": {
          "base_uri": "https://localhost:8080/",
          "height": 1000
        },
        "id": "48LKWDpQ5Q7k",
        "outputId": "c5f0d41e-c0e9-4bb7-d731-7ace8687d25a"
      },
      "outputs": [
        {
          "output_type": "stream",
          "name": "stdout",
          "text": [
            "\n",
            "Decision Tree Model Evaluation:\n",
            "\n",
            "Evaluating on Training Data:\n",
            "Training Accuracy: 1.00\n",
            "\n",
            "Training Classification Report:\n",
            "              precision    recall  f1-score   support\n",
            "\n",
            "     Class 0       1.00      1.00      1.00        27\n",
            "     Class 1       1.00      1.00      1.00        23\n",
            "\n",
            "    accuracy                           1.00        50\n",
            "   macro avg       1.00      1.00      1.00        50\n",
            "weighted avg       1.00      1.00      1.00        50\n",
            "\n"
          ]
        },
        {
          "output_type": "display_data",
          "data": {
            "text/plain": [
              "<Figure size 600x400 with 2 Axes>"
            ],
            "image/png": "[encoded data removed]"
          },
          "metadata": {}
        },
        {
          "output_type": "stream",
          "name": "stdout",
          "text": [
            "\n",
            "Evaluating on Testing Data:\n",
            "Testing Accuracy: 1.00\n",
            "\n",
            "Testing Classification Report:\n",
            "              precision    recall  f1-score   support\n",
            "\n",
            "     Class 0       1.00      1.00      1.00        20\n",
            "     Class 1       1.00      1.00      1.00        30\n",
            "\n",
            "    accuracy                           1.00        50\n",
            "   macro avg       1.00      1.00      1.00        50\n",
            "weighted avg       1.00      1.00      1.00        50\n",
            "\n"
          ]
        },
        {
          "output_type": "display_data",
          "data": {
            "text/plain": [
              "<Figure size 600x400 with 2 Axes>"
            ],
            "image/png": "[encoded data removed]"
          },
          "metadata": {}
        }
      ],
      "source": [
        "# Evaluate Decision Tree model on both training and testing data\n",
        "print(\"\\nDecision Tree Model Evaluation:\")\n",
        "evaluate_model(dt_classifier, X_train, X_test, y_train, y_test)"
      ]
    },
    {
      "cell_type": "code",
      "execution_count": 16,
      "id": "MUBUw0gy9q2d",
      "metadata": {
        "colab": {
          "base_uri": "https://localhost:8080/",
          "height": 599
        },
        "id": "MUBUw0gy9q2d",
        "outputId": "bb38f26d-1c78-4ca6-a2fd-dee59b52b38a"
      },
      "outputs": [
        {
          "output_type": "display_data",
          "data": {
            "text/plain": [
              "<Figure size 800x600 with 1 Axes>"
            ],
            "image/png": "[encoded data removed]"
          },
          "metadata": {}
        },
        {
          "output_type": "stream",
          "name": "stdout",
          "text": [
            "Decision Tree ROC-AUC Score on Training Data: 1.00\n",
            "Decision Tree ROC-AUC Score on Testing Data: 1.00\n"
          ]
        }
      ],
      "source": [
        "# Plot AUC-ROC for Decision Tree on both training and testing data\n",
        "plot_roc_auc_train_test(dt_classifier, X_train, X_test, y_train, y_test, \"Decision Tree\")"
      ]
    },
    {
      "cell_type": "markdown",
      "id": "d220e332-ee24-427f-aec7-7bcc1c10b3b6",
      "metadata": {
        "id": "d220e332-ee24-427f-aec7-7bcc1c10b3b6"
      },
      "source": [
        "# **Debugging and Stress Testing**"
      ]
    },
    {
      "cell_type": "markdown",
      "id": "62ca2d18-b353-4869-97b1-1c6a4f22f0a5",
      "metadata": {
        "id": "62ca2d18-b353-4869-97b1-1c6a4f22f0a5"
      },
      "source": [
        "# 1.Unit Testing in Isolation"
      ]
    },
    {
      "cell_type": "code",
      "execution_count": 17,
      "id": "bac8187d-11df-4f73-b509-ba47550a133b",
      "metadata": {
        "colab": {
          "base_uri": "https://localhost:8080/",
          "height": 1000
        },
        "id": "bac8187d-11df-4f73-b509-ba47550a133b",
        "outputId": "073eaeaa-bf81-4580-9c9e-a39c079d7065"
      },
      "outputs": [
        {
          "output_type": "stream",
          "name": "stderr",
          "text": [
            ".."
          ]
        },
        {
          "output_type": "stream",
          "name": "stdout",
          "text": [
            "\n",
            "Evaluating on Training Data:\n",
            "Training Accuracy: 1.00\n",
            "\n",
            "Training Classification Report:\n",
            "              precision    recall  f1-score   support\n",
            "\n",
            "     Class 0       1.00      1.00      1.00        27\n",
            "     Class 1       1.00      1.00      1.00        23\n",
            "\n",
            "    accuracy                           1.00        50\n",
            "   macro avg       1.00      1.00      1.00        50\n",
            "weighted avg       1.00      1.00      1.00        50\n",
            "\n"
          ]
        },
        {
          "output_type": "display_data",
          "data": {
            "text/plain": [
              "<Figure size 600x400 with 2 Axes>"
            ],
            "image/png": "[encoded data removed]"
          },
          "metadata": {}
        },
        {
          "output_type": "stream",
          "name": "stdout",
          "text": [
            "\n",
            "Evaluating on Testing Data:\n",
            "Testing Accuracy: 1.00\n",
            "\n",
            "Testing Classification Report:\n",
            "              precision    recall  f1-score   support\n",
            "\n",
            "     Class 0       1.00      1.00      1.00        20\n",
            "     Class 1       1.00      1.00      1.00        30\n",
            "\n",
            "    accuracy                           1.00        50\n",
            "   macro avg       1.00      1.00      1.00        50\n",
            "weighted avg       1.00      1.00      1.00        50\n",
            "\n"
          ]
        },
        {
          "output_type": "display_data",
          "data": {
            "text/plain": [
              "<Figure size 600x400 with 2 Axes>"
            ],
            "image/png": "[encoded data removed]"
          },
          "metadata": {}
        },
        {
          "output_type": "stream",
          "name": "stderr",
          "text": [
            "..\n",
            "----------------------------------------------------------------------\n",
            "Ran 4 tests in 0.611s\n",
            "\n",
            "OK\n"
          ]
        }
      ],
      "source": [
        "import unittest\n",
        "\n",
        "class TestDecisionTree(unittest.TestCase):\n",
        "\n",
        "    def test_data_loading(self):\n",
        "        # Check if data is loaded correctly\n",
        "        data = pd.read_csv('2020_out_heading_matched_out.csv')\n",
        "        self.assertIsNotNone(data, \"Data should be loaded successfully.\")\n",
        "\n",
        "    def test_data_split(self):\n",
        "        # Ensure train-test split is done correctly\n",
        "        X = data.drop('Target', axis=1)\n",
        "        y = data['Target']\n",
        "        X_train, X_test, y_train, y_test = train_test_split(X, y, test_size=0.3, random_state=42)\n",
        "        self.assertEqual(len(X_train) + len(X_test), len(X), \"Data split should be complete.\")\n",
        "\n",
        "    def test_model_training(self):\n",
        "        # Check if model trains without errors\n",
        "        dt_classifier = DecisionTreeClassifier(random_state=42)\n",
        "        dt_classifier.fit(X_train, y_train)s\n",
        "        self.assertIsNotNone(dt_classifier, \"Model should train successfully.\")\n",
        "\n",
        "    def test_evaluation_function(self):\n",
        "        # Check if evaluation function runs without error\n",
        "        evaluate_model(dt_classifier, X_train, X_test, y_train, y_test)\n",
        "        self.assertTrue(True, \"Evaluation should run without error.\")\n",
        "\n",
        "if __name__ == '__main__':\n",
        "    unittest.main(argv=[''], exit=False)\n"
      ]
    },
    {
      "cell_type": "markdown",
      "source": [
        "# 2. Edge/Corner Case Testing"
      ],
      "metadata": {
        "id": "VAhbL-7DF69K"
      },
      "id": "VAhbL-7DF69K"
    },
    {
      "cell_type": "code",
      "source": [
        "# Edge case 1: Empty dataset\n",
        "empty_data = pd.DataFrame()\n",
        "try:\n",
        "    dt_classifier.fit(empty_data, y_train)\n",
        "except ValueError as e:\n",
        "    print(f\"Edge Case Empty Dataset: {e}\")\n",
        "\n",
        "# Edge case 2: All-zero features\n",
        "X_zero = pd.DataFrame(0, index=np.arange(len(y_train)), columns=X_train.columns)\n",
        "try:\n",
        "    dt_classifier.fit(X_zero, y_train)\n",
        "except ValueError as e:\n",
        "    print(f\"Edge Case All-Zero Features: {e}\")\n",
        "\n",
        "# Edge case 3: Single-class labels\n",
        "y_single_class = pd.Series([1] * len(y_train))\n",
        "try:\n",
        "    dt_classifier.fit(X_train, y_single_class)\n",
        "except ValueError as e:\n",
        "    print(f\"Edge Case Single-Class Labels: {e}\")\n"
      ],
      "metadata": {
        "colab": {
          "base_uri": "https://localhost:8080/"
        },
        "id": "ug-u92PMGEa5",
        "outputId": "623b90aa-b13a-4b31-f276-fd9f6ec98d9b"
      },
      "id": "ug-u92PMGEa5",
      "execution_count": 18,
      "outputs": [
        {
          "output_type": "stream",
          "name": "stdout",
          "text": [
            "Edge Case Empty Dataset: at least one array or dtype is required\n"
          ]
        }
      ]
    },
    {
      "cell_type": "markdown",
      "source": [
        "checking for empty datasets"
      ],
      "metadata": {
        "id": "ZeJ-5F2tHVBr"
      },
      "id": "ZeJ-5F2tHVBr"
    },
    {
      "cell_type": "code",
      "source": [
        "# Check if dataset is empty before training\n",
        "if X_train.empty or y_train.empty:\n",
        "    print(\"Training dataset is empty. Please provide valid data.\")\n",
        "else:\n",
        "    dt_classifier.fit(X_train, y_train)\n",
        "    print(\"Model trained successfully.\")\n"
      ],
      "metadata": {
        "colab": {
          "base_uri": "https://localhost:8080/"
        },
        "id": "BSv8uPK4HWUv",
        "outputId": "21bf6363-2cd3-4ea1-f3ac-aa4f313f37f8"
      },
      "id": "BSv8uPK4HWUv",
      "execution_count": 19,
      "outputs": [
        {
          "output_type": "stream",
          "name": "stdout",
          "text": [
            "Model trained successfully.\n"
          ]
        }
      ]
    },
    {
      "cell_type": "markdown",
      "source": [
        "X_train and Y_Train are not empty"
      ],
      "metadata": {
        "id": "Ycd0sJzDHhQp"
      },
      "id": "Ycd0sJzDHhQp"
    },
    {
      "cell_type": "markdown",
      "source": [
        "# 3.Scalability Testing"
      ],
      "metadata": {
        "id": "dc94ePGuH4BA"
      },
      "id": "dc94ePGuH4BA"
    },
    {
      "cell_type": "code",
      "source": [
        "# Simulate a larger dataset by duplicating rows\n",
        "X_large = pd.concat([X_train] * 10, ignore_index=True)\n",
        "y_large = pd.concat([y_train] * 10, ignore_index=True)\n",
        "\n",
        "# Train on the simulated large dataset\n",
        "dt_classifier_large = DecisionTreeClassifier(random_state=42)\n",
        "start_time = time.time()\n",
        "dt_classifier_large.fit(X_large, y_large)\n",
        "print(f\"Scalability Test Training Time: {time.time() - start_time:.4f} seconds\")\n"
      ],
      "metadata": {
        "colab": {
          "base_uri": "https://localhost:8080/"
        },
        "id": "_paXLEhoHgvr",
        "outputId": "f44ceff0-0696-4209-fda1-042c7f6cc146"
      },
      "id": "_paXLEhoHgvr",
      "execution_count": 20,
      "outputs": [
        {
          "output_type": "stream",
          "name": "stdout",
          "text": [
            "Scalability Test Training Time: 0.0317 seconds\n"
          ]
        }
      ]
    },
    {
      "cell_type": "markdown",
      "source": [
        "# 4. Load Testing"
      ],
      "metadata": {
        "id": "JIMMOn8IIKU3"
      },
      "id": "JIMMOn8IIKU3"
    },
    {
      "cell_type": "code",
      "source": [
        "# Load testing with multiple predictions\n",
        "start_time = time.time()\n",
        "for i in range(1000):  # Simulate 1000 prediction calls\n",
        "    _ = dt_classifier.predict(X_test)\n",
        "print(f\"Load Testing Prediction Time for 1000 calls: {time.time() - start_time:.4f} seconds\")\n"
      ],
      "metadata": {
        "colab": {
          "base_uri": "https://localhost:8080/"
        },
        "id": "gy8kgJaNIOHa",
        "outputId": "b5adf93d-60b3-4525-ede9-4ab89db04ab0"
      },
      "id": "gy8kgJaNIOHa",
      "execution_count": 21,
      "outputs": [
        {
          "output_type": "stream",
          "name": "stdout",
          "text": [
            "Load Testing Prediction Time for 1000 calls: 3.4749 seconds\n"
          ]
        }
      ]
    },
    {
      "cell_type": "markdown",
      "source": [
        "# 5. Speed/Latency Experiments"
      ],
      "metadata": {
        "id": "NFym7fw9ITmY"
      },
      "id": "NFym7fw9ITmY"
    },
    {
      "cell_type": "code",
      "source": [
        "# Measure latency for training\n",
        "start_time = time.time()\n",
        "dt_classifier.fit(X_train, y_train)\n",
        "train_latency = time.time() - start_time\n",
        "print(f\"Training Latency: {train_latency:.4f} seconds\")\n",
        "\n",
        "# Measure latency for a single prediction\n",
        "start_time = time.time()\n",
        "_ = dt_classifier.predict(X_test.iloc[:1])  # Predict on a single sample\n",
        "prediction_latency = time.time() - start_time\n",
        "print(f\"Single Prediction Latency: {prediction_latency:.4f} seconds\")\n"
      ],
      "metadata": {
        "colab": {
          "base_uri": "https://localhost:8080/"
        },
        "id": "LQGNXtbiIWkI",
        "outputId": "2d216819-da43-4353-8407-92ebb48cf9d3"
      },
      "id": "LQGNXtbiIWkI",
      "execution_count": 22,
      "outputs": [
        {
          "output_type": "stream",
          "name": "stdout",
          "text": [
            "Training Latency: 0.0096 seconds\n",
            "Single Prediction Latency: 0.0088 seconds\n"
          ]
        }
      ]
    },
    {
      "cell_type": "markdown",
      "source": [
        "# 6. Corrected Errors"
      ],
      "metadata": {
        "id": "0l2-hFXZIcGl"
      },
      "id": "0l2-hFXZIcGl"
    },
    {
      "cell_type": "code",
      "source": [
        "# Ensure no missing values in training data\n",
        "if X_train.isnull().sum().any() or y_train.isnull().any():\n",
        "    X_train.fillna(X_train.mean(), inplace=True)  # Or appropriate method\n",
        "    y_train.fillna(y_train.mode()[0], inplace=True)\n",
        "\n",
        "# Check and convert data types if needed (e.g., string columns to numeric)\n",
        "X_train = X_train.apply(pd.to_numeric, errors='coerce').fillna(0)\n",
        "X_test = X_test.apply(pd.to_numeric, errors='coerce').fillna(0)\n"
      ],
      "metadata": {
        "id": "rzEjGP7dIhtF"
      },
      "id": "rzEjGP7dIhtF",
      "execution_count": 23,
      "outputs": []
    },
    {
      "cell_type": "markdown",
      "source": [
        "There were no missing values in the training data."
      ],
      "metadata": {
        "id": "KDz_j0nqImpE"
      },
      "id": "KDz_j0nqImpE"
    },
    {
      "cell_type": "markdown",
      "source": [
        "# 7. Engaged Optimizations/Improvements"
      ],
      "metadata": {
        "id": "Iz5NdzB2IrS9"
      },
      "id": "Iz5NdzB2IrS9"
    },
    {
      "cell_type": "code",
      "source": [
        "from sklearn.model_selection import GridSearchCV\n",
        "\n",
        "# Parameter tuning for optimization\n",
        "param_grid = {'max_depth': [5, 10, 15, None], 'min_samples_split': [2, 5, 10]}\n",
        "grid_search = GridSearchCV(DecisionTreeClassifier(random_state=42), param_grid, cv=5, scoring='accuracy')\n",
        "grid_search.fit(X_train, y_train)\n",
        "\n",
        "# Best parameters and evaluation with optimized model\n",
        "optimized_dt = grid_search.best_estimator_\n",
        "print(\"Optimized Decision Tree Parameters:\", grid_search.best_params_)\n",
        "evaluate_model(optimized_dt, X_train, X_test, y_train, y_test)\n",
        "plot_roc_auc_train_test(optimized_dt, X_train, X_test, y_train, y_test, \"Optimized Decision Tree\")\n"
      ],
      "metadata": {
        "colab": {
          "base_uri": "https://localhost:8080/",
          "height": 1000
        },
        "id": "LbPtRYzuIxFU",
        "outputId": "480ac7d4-889f-4d8f-8dd2-2ed296de0a16"
      },
      "id": "LbPtRYzuIxFU",
      "execution_count": 24,
      "outputs": [
        {
          "output_type": "stream",
          "name": "stdout",
          "text": [
            "Optimized Decision Tree Parameters: {'max_depth': 5, 'min_samples_split': 2}\n",
            "\n",
            "Evaluating on Training Data:\n",
            "Training Accuracy: 1.00\n",
            "\n",
            "Training Classification Report:\n",
            "              precision    recall  f1-score   support\n",
            "\n",
            "     Class 0       1.00      1.00      1.00        27\n",
            "     Class 1       1.00      1.00      1.00        23\n",
            "\n",
            "    accuracy                           1.00        50\n",
            "   macro avg       1.00      1.00      1.00        50\n",
            "weighted avg       1.00      1.00      1.00        50\n",
            "\n"
          ]
        },
        {
          "output_type": "display_data",
          "data": {
            "text/plain": [
              "<Figure size 600x400 with 2 Axes>"
            ],
            "image/png": "[encoded data removed]"
          },
          "metadata": {}
        },
        {
          "output_type": "stream",
          "name": "stdout",
          "text": [
            "\n",
            "Evaluating on Testing Data:\n",
            "Testing Accuracy: 1.00\n",
            "\n",
            "Testing Classification Report:\n",
            "              precision    recall  f1-score   support\n",
            "\n",
            "     Class 0       1.00      1.00      1.00        20\n",
            "     Class 1       1.00      1.00      1.00        30\n",
            "\n",
            "    accuracy                           1.00        50\n",
            "   macro avg       1.00      1.00      1.00        50\n",
            "weighted avg       1.00      1.00      1.00        50\n",
            "\n"
          ]
        },
        {
          "output_type": "display_data",
          "data": {
            "text/plain": [
              "<Figure size 600x400 with 2 Axes>"
            ],
            "image/png": "[encoded data removed]"
          },
          "metadata": {}
        },
        {
          "output_type": "display_data",
          "data": {
            "text/plain": [
              "<Figure size 800x600 with 1 Axes>"
            ],
            "image/png": "[encoded data removed]"
          },
          "metadata": {}
        },
        {
          "output_type": "stream",
          "name": "stdout",
          "text": [
            "Optimized Decision Tree ROC-AUC Score on Training Data: 1.00\n",
            "Optimized Decision Tree ROC-AUC Score on Testing Data: 1.00\n"
          ]
        }
      ]
    }
  ],
  "metadata": {
    "colab": {
      "provenance": [],
      "include_colab_link": true
    },
    "kernelspec": {
      "display_name": "Python 3 (ipykernel)",
      "language": "python",
      "name": "python3"
    },
    "language_info": {
      "codemirror_mode": {
        "name": "ipython",
        "version": 3
      },
      "file_extension": ".py",
      "mimetype": "text/x-python",
      "name": "python",
      "nbconvert_exporter": "python",
      "pygments_lexer": "ipython3",
      "version": "3.11.7"
    }
  },
  "nbformat": 4,
  "nbformat_minor": 5
}