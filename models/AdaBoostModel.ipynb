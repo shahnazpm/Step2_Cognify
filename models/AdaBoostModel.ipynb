{
 "cells": [
  {
   "cell_type": "code",
   "execution_count": 40,
   "metadata": {},
   "outputs": [],
   "source": [
    "import pandas as pd\n",
    "import matplotlib.pyplot as plt\n",
    "# %matplolib% inline\n",
    "import seaborn as sns\n",
    "# import numpy as np\n",
    "from sklearn.ensemble import AdaBoostClassifier\n",
    "from sklearn.tree import DecisionTreeClassifier\n",
    "from sklearn.model_selection import train_test_split\n",
    "from sklearn import metrics"
   ]
  },
  {
   "cell_type": "code",
   "execution_count": 9,
   "metadata": {},
   "outputs": [],
   "source": [
    "train_df = pd.read_csv(\"2020_out_heading_matched_out.csv\")"
   ]
  },
  {
   "cell_type": "code",
   "execution_count": 14,
   "metadata": {},
   "outputs": [
    {
     "data": {
      "text/html": [
       "<div>\n",
       "<style scoped>\n",
       "    .dataframe tbody tr th:only-of-type {\n",
       "        vertical-align: middle;\n",
       "    }\n",
       "\n",
       "    .dataframe tbody tr th {\n",
       "        vertical-align: top;\n",
       "    }\n",
       "\n",
       "    .dataframe thead th {\n",
       "        text-align: right;\n",
       "    }\n",
       "</style>\n",
       "<table border=\"1\" class=\"dataframe\">\n",
       "  <thead>\n",
       "    <tr style=\"text-align: right;\">\n",
       "      <th></th>\n",
       "      <th>state_Alabama</th>\n",
       "      <th>state_Alaska</th>\n",
       "      <th>state_Arizona</th>\n",
       "      <th>state_Arkansas</th>\n",
       "      <th>state_California</th>\n",
       "      <th>state_Colorado</th>\n",
       "      <th>state_Connecticut</th>\n",
       "      <th>state_Delaware</th>\n",
       "      <th>state_Florida</th>\n",
       "      <th>state_Georgia</th>\n",
       "      <th>...</th>\n",
       "      <th>GROSSRentOccupiedUnitsPayingRent</th>\n",
       "      <th>GROSSRentOccupiedUnitsPayingRentMedianGrossRent_Dollars_</th>\n",
       "      <th>COMPUTERSAndInternetUseTotalHouseholds</th>\n",
       "      <th>COMPUTERSAndInternetUseTotalHouseholdsWithAComputerInPercent</th>\n",
       "      <th>COMPUTERSAndInternetUseTotalHouseholdsWithABroadbandInternetSubscriptionInPercent</th>\n",
       "      <th>LastFourthElection_Republican</th>\n",
       "      <th>LastThirdElection_Republican</th>\n",
       "      <th>LastSecondElection_Republican</th>\n",
       "      <th>LastElection_Republican</th>\n",
       "      <th>Target</th>\n",
       "    </tr>\n",
       "  </thead>\n",
       "  <tbody>\n",
       "    <tr>\n",
       "      <th>0</th>\n",
       "      <td>1.0</td>\n",
       "      <td>0.0</td>\n",
       "      <td>0.0</td>\n",
       "      <td>0.0</td>\n",
       "      <td>0.0</td>\n",
       "      <td>0.0</td>\n",
       "      <td>0.0</td>\n",
       "      <td>0.0</td>\n",
       "      <td>0.0</td>\n",
       "      <td>0.0</td>\n",
       "      <td>...</td>\n",
       "      <td>-0.295846</td>\n",
       "      <td>-0.937159</td>\n",
       "      <td>-0.216342</td>\n",
       "      <td>-1.577553</td>\n",
       "      <td>-1.336384</td>\n",
       "      <td>1</td>\n",
       "      <td>1</td>\n",
       "      <td>1</td>\n",
       "      <td>1</td>\n",
       "      <td>1</td>\n",
       "    </tr>\n",
       "    <tr>\n",
       "      <th>1</th>\n",
       "      <td>0.0</td>\n",
       "      <td>1.0</td>\n",
       "      <td>0.0</td>\n",
       "      <td>0.0</td>\n",
       "      <td>0.0</td>\n",
       "      <td>0.0</td>\n",
       "      <td>0.0</td>\n",
       "      <td>0.0</td>\n",
       "      <td>0.0</td>\n",
       "      <td>0.0</td>\n",
       "      <td>...</td>\n",
       "      <td>-0.731651</td>\n",
       "      <td>0.775301</td>\n",
       "      <td>-0.860445</td>\n",
       "      <td>1.384752</td>\n",
       "      <td>0.643917</td>\n",
       "      <td>1</td>\n",
       "      <td>1</td>\n",
       "      <td>1</td>\n",
       "      <td>1</td>\n",
       "      <td>1</td>\n",
       "    </tr>\n",
       "    <tr>\n",
       "      <th>2</th>\n",
       "      <td>0.0</td>\n",
       "      <td>0.0</td>\n",
       "      <td>1.0</td>\n",
       "      <td>0.0</td>\n",
       "      <td>0.0</td>\n",
       "      <td>0.0</td>\n",
       "      <td>0.0</td>\n",
       "      <td>0.0</td>\n",
       "      <td>0.0</td>\n",
       "      <td>0.0</td>\n",
       "      <td>...</td>\n",
       "      <td>0.046002</td>\n",
       "      <td>0.340667</td>\n",
       "      <td>0.086206</td>\n",
       "      <td>1.033292</td>\n",
       "      <td>0.452275</td>\n",
       "      <td>1</td>\n",
       "      <td>0</td>\n",
       "      <td>0</td>\n",
       "      <td>1</td>\n",
       "      <td>0</td>\n",
       "    </tr>\n",
       "    <tr>\n",
       "      <th>3</th>\n",
       "      <td>0.0</td>\n",
       "      <td>0.0</td>\n",
       "      <td>0.0</td>\n",
       "      <td>1.0</td>\n",
       "      <td>0.0</td>\n",
       "      <td>0.0</td>\n",
       "      <td>0.0</td>\n",
       "      <td>0.0</td>\n",
       "      <td>0.0</td>\n",
       "      <td>0.0</td>\n",
       "      <td>...</td>\n",
       "      <td>-0.456958</td>\n",
       "      <td>-1.219672</td>\n",
       "      <td>-0.503647</td>\n",
       "      <td>-1.527345</td>\n",
       "      <td>-1.911310</td>\n",
       "      <td>1</td>\n",
       "      <td>1</td>\n",
       "      <td>1</td>\n",
       "      <td>1</td>\n",
       "      <td>1</td>\n",
       "    </tr>\n",
       "    <tr>\n",
       "      <th>4</th>\n",
       "      <td>0.0</td>\n",
       "      <td>0.0</td>\n",
       "      <td>0.0</td>\n",
       "      <td>0.0</td>\n",
       "      <td>1.0</td>\n",
       "      <td>0.0</td>\n",
       "      <td>0.0</td>\n",
       "      <td>0.0</td>\n",
       "      <td>0.0</td>\n",
       "      <td>0.0</td>\n",
       "      <td>...</td>\n",
       "      <td>4.783229</td>\n",
       "      <td>2.570342</td>\n",
       "      <td>4.191641</td>\n",
       "      <td>1.284335</td>\n",
       "      <td>1.282724</td>\n",
       "      <td>0</td>\n",
       "      <td>0</td>\n",
       "      <td>0</td>\n",
       "      <td>0</td>\n",
       "      <td>0</td>\n",
       "    </tr>\n",
       "  </tbody>\n",
       "</table>\n",
       "<p>5 rows × 363 columns</p>\n",
       "</div>"
      ],
      "text/plain": [
       "   state_Alabama  state_Alaska  state_Arizona  state_Arkansas  \\\n",
       "0            1.0           0.0            0.0             0.0   \n",
       "1            0.0           1.0            0.0             0.0   \n",
       "2            0.0           0.0            1.0             0.0   \n",
       "3            0.0           0.0            0.0             1.0   \n",
       "4            0.0           0.0            0.0             0.0   \n",
       "\n",
       "   state_California  state_Colorado  state_Connecticut  state_Delaware  \\\n",
       "0               0.0             0.0                0.0             0.0   \n",
       "1               0.0             0.0                0.0             0.0   \n",
       "2               0.0             0.0                0.0             0.0   \n",
       "3               0.0             0.0                0.0             0.0   \n",
       "4               1.0             0.0                0.0             0.0   \n",
       "\n",
       "   state_Florida  state_Georgia  ...  GROSSRentOccupiedUnitsPayingRent  \\\n",
       "0            0.0            0.0  ...                         -0.295846   \n",
       "1            0.0            0.0  ...                         -0.731651   \n",
       "2            0.0            0.0  ...                          0.046002   \n",
       "3            0.0            0.0  ...                         -0.456958   \n",
       "4            0.0            0.0  ...                          4.783229   \n",
       "\n",
       "   GROSSRentOccupiedUnitsPayingRentMedianGrossRent_Dollars_  \\\n",
       "0                                          -0.937159          \n",
       "1                                           0.775301          \n",
       "2                                           0.340667          \n",
       "3                                          -1.219672          \n",
       "4                                           2.570342          \n",
       "\n",
       "   COMPUTERSAndInternetUseTotalHouseholds  \\\n",
       "0                               -0.216342   \n",
       "1                               -0.860445   \n",
       "2                                0.086206   \n",
       "3                               -0.503647   \n",
       "4                                4.191641   \n",
       "\n",
       "   COMPUTERSAndInternetUseTotalHouseholdsWithAComputerInPercent  \\\n",
       "0                                          -1.577553              \n",
       "1                                           1.384752              \n",
       "2                                           1.033292              \n",
       "3                                          -1.527345              \n",
       "4                                           1.284335              \n",
       "\n",
       "   COMPUTERSAndInternetUseTotalHouseholdsWithABroadbandInternetSubscriptionInPercent  \\\n",
       "0                                          -1.336384                                   \n",
       "1                                           0.643917                                   \n",
       "2                                           0.452275                                   \n",
       "3                                          -1.911310                                   \n",
       "4                                           1.282724                                   \n",
       "\n",
       "   LastFourthElection_Republican  LastThirdElection_Republican  \\\n",
       "0                              1                             1   \n",
       "1                              1                             1   \n",
       "2                              1                             0   \n",
       "3                              1                             1   \n",
       "4                              0                             0   \n",
       "\n",
       "   LastSecondElection_Republican  LastElection_Republican  Target  \n",
       "0                              1                        1       1  \n",
       "1                              1                        1       1  \n",
       "2                              0                        1       0  \n",
       "3                              1                        1       1  \n",
       "4                              0                        0       0  \n",
       "\n",
       "[5 rows x 363 columns]"
      ]
     },
     "execution_count": 14,
     "metadata": {},
     "output_type": "execute_result"
    }
   ],
   "source": [
    "train_df.head()"
   ]
  },
  {
   "cell_type": "code",
   "execution_count": 11,
   "metadata": {},
   "outputs": [
    {
     "data": {
      "text/plain": [
       "(50, 363)"
      ]
     },
     "execution_count": 11,
     "metadata": {},
     "output_type": "execute_result"
    }
   ],
   "source": [
    "train_df.shape"
   ]
  },
  {
   "cell_type": "code",
   "execution_count": 10,
   "metadata": {},
   "outputs": [
    {
     "data": {
      "text/html": [
       "<div>\n",
       "<style scoped>\n",
       "    .dataframe tbody tr th:only-of-type {\n",
       "        vertical-align: middle;\n",
       "    }\n",
       "\n",
       "    .dataframe tbody tr th {\n",
       "        vertical-align: top;\n",
       "    }\n",
       "\n",
       "    .dataframe thead th {\n",
       "        text-align: right;\n",
       "    }\n",
       "</style>\n",
       "<table border=\"1\" class=\"dataframe\">\n",
       "  <thead>\n",
       "    <tr style=\"text-align: right;\">\n",
       "      <th></th>\n",
       "      <th>state_Alabama</th>\n",
       "      <th>state_Alaska</th>\n",
       "      <th>state_Arizona</th>\n",
       "      <th>state_Arkansas</th>\n",
       "      <th>state_California</th>\n",
       "      <th>state_Colorado</th>\n",
       "      <th>state_Connecticut</th>\n",
       "      <th>state_Delaware</th>\n",
       "      <th>state_Florida</th>\n",
       "      <th>state_Georgia</th>\n",
       "      <th>...</th>\n",
       "      <th>GROSSRentOccupiedUnitsPayingRent</th>\n",
       "      <th>GROSSRentOccupiedUnitsPayingRentMedianGrossRent_Dollars_</th>\n",
       "      <th>COMPUTERSAndInternetUseTotalHouseholds</th>\n",
       "      <th>COMPUTERSAndInternetUseTotalHouseholdsWithAComputerInPercent</th>\n",
       "      <th>COMPUTERSAndInternetUseTotalHouseholdsWithABroadbandInternetSubscriptionInPercent</th>\n",
       "      <th>LastFourthElection_Republican</th>\n",
       "      <th>LastThirdElection_Republican</th>\n",
       "      <th>LastSecondElection_Republican</th>\n",
       "      <th>LastElection_Republican</th>\n",
       "      <th>Target</th>\n",
       "    </tr>\n",
       "  </thead>\n",
       "  <tbody>\n",
       "    <tr>\n",
       "      <th>0</th>\n",
       "      <td>1.0</td>\n",
       "      <td>0.0</td>\n",
       "      <td>0.0</td>\n",
       "      <td>0.0</td>\n",
       "      <td>0.0</td>\n",
       "      <td>0.0</td>\n",
       "      <td>0.0</td>\n",
       "      <td>0.0</td>\n",
       "      <td>0.0</td>\n",
       "      <td>0.0</td>\n",
       "      <td>...</td>\n",
       "      <td>-0.290011</td>\n",
       "      <td>-1.020961</td>\n",
       "      <td>-0.207013</td>\n",
       "      <td>-1.194113</td>\n",
       "      <td>-1.200626</td>\n",
       "      <td>1</td>\n",
       "      <td>1</td>\n",
       "      <td>1</td>\n",
       "      <td>1</td>\n",
       "      <td>1</td>\n",
       "    </tr>\n",
       "    <tr>\n",
       "      <th>1</th>\n",
       "      <td>0.0</td>\n",
       "      <td>1.0</td>\n",
       "      <td>0.0</td>\n",
       "      <td>0.0</td>\n",
       "      <td>0.0</td>\n",
       "      <td>0.0</td>\n",
       "      <td>0.0</td>\n",
       "      <td>0.0</td>\n",
       "      <td>0.0</td>\n",
       "      <td>0.0</td>\n",
       "      <td>...</td>\n",
       "      <td>-0.728055</td>\n",
       "      <td>0.284112</td>\n",
       "      <td>-0.853351</td>\n",
       "      <td>1.323595</td>\n",
       "      <td>0.793232</td>\n",
       "      <td>1</td>\n",
       "      <td>1</td>\n",
       "      <td>1</td>\n",
       "      <td>1</td>\n",
       "      <td>1</td>\n",
       "    </tr>\n",
       "    <tr>\n",
       "      <th>2</th>\n",
       "      <td>0.0</td>\n",
       "      <td>0.0</td>\n",
       "      <td>1.0</td>\n",
       "      <td>0.0</td>\n",
       "      <td>0.0</td>\n",
       "      <td>0.0</td>\n",
       "      <td>0.0</td>\n",
       "      <td>0.0</td>\n",
       "      <td>0.0</td>\n",
       "      <td>0.0</td>\n",
       "      <td>...</td>\n",
       "      <td>0.032041</td>\n",
       "      <td>1.068491</td>\n",
       "      <td>0.104547</td>\n",
       "      <td>0.963923</td>\n",
       "      <td>0.362128</td>\n",
       "      <td>0</td>\n",
       "      <td>0</td>\n",
       "      <td>1</td>\n",
       "      <td>0</td>\n",
       "      <td>1</td>\n",
       "    </tr>\n",
       "    <tr>\n",
       "      <th>3</th>\n",
       "      <td>0.0</td>\n",
       "      <td>0.0</td>\n",
       "      <td>0.0</td>\n",
       "      <td>1.0</td>\n",
       "      <td>0.0</td>\n",
       "      <td>0.0</td>\n",
       "      <td>0.0</td>\n",
       "      <td>0.0</td>\n",
       "      <td>0.0</td>\n",
       "      <td>0.0</td>\n",
       "      <td>...</td>\n",
       "      <td>-0.452715</td>\n",
       "      <td>-1.184512</td>\n",
       "      <td>-0.505172</td>\n",
       "      <td>-0.834441</td>\n",
       "      <td>-1.739507</td>\n",
       "      <td>1</td>\n",
       "      <td>1</td>\n",
       "      <td>1</td>\n",
       "      <td>1</td>\n",
       "      <td>1</td>\n",
       "    </tr>\n",
       "    <tr>\n",
       "      <th>4</th>\n",
       "      <td>0.0</td>\n",
       "      <td>0.0</td>\n",
       "      <td>0.0</td>\n",
       "      <td>0.0</td>\n",
       "      <td>1.0</td>\n",
       "      <td>0.0</td>\n",
       "      <td>0.0</td>\n",
       "      <td>0.0</td>\n",
       "      <td>0.0</td>\n",
       "      <td>0.0</td>\n",
       "      <td>...</td>\n",
       "      <td>4.641701</td>\n",
       "      <td>2.350199</td>\n",
       "      <td>4.035256</td>\n",
       "      <td>1.143759</td>\n",
       "      <td>1.386001</td>\n",
       "      <td>0</td>\n",
       "      <td>0</td>\n",
       "      <td>0</td>\n",
       "      <td>0</td>\n",
       "      <td>0</td>\n",
       "    </tr>\n",
       "  </tbody>\n",
       "</table>\n",
       "<p>5 rows × 363 columns</p>\n",
       "</div>"
      ],
      "text/plain": [
       "   state_Alabama  state_Alaska  state_Arizona  state_Arkansas  \\\n",
       "0            1.0           0.0            0.0             0.0   \n",
       "1            0.0           1.0            0.0             0.0   \n",
       "2            0.0           0.0            1.0             0.0   \n",
       "3            0.0           0.0            0.0             1.0   \n",
       "4            0.0           0.0            0.0             0.0   \n",
       "\n",
       "   state_California  state_Colorado  state_Connecticut  state_Delaware  \\\n",
       "0               0.0             0.0                0.0             0.0   \n",
       "1               0.0             0.0                0.0             0.0   \n",
       "2               0.0             0.0                0.0             0.0   \n",
       "3               0.0             0.0                0.0             0.0   \n",
       "4               1.0             0.0                0.0             0.0   \n",
       "\n",
       "   state_Florida  state_Georgia  ...  GROSSRentOccupiedUnitsPayingRent  \\\n",
       "0            0.0            0.0  ...                         -0.290011   \n",
       "1            0.0            0.0  ...                         -0.728055   \n",
       "2            0.0            0.0  ...                          0.032041   \n",
       "3            0.0            0.0  ...                         -0.452715   \n",
       "4            0.0            0.0  ...                          4.641701   \n",
       "\n",
       "   GROSSRentOccupiedUnitsPayingRentMedianGrossRent_Dollars_  \\\n",
       "0                                          -1.020961          \n",
       "1                                           0.284112          \n",
       "2                                           1.068491          \n",
       "3                                          -1.184512          \n",
       "4                                           2.350199          \n",
       "\n",
       "   COMPUTERSAndInternetUseTotalHouseholds  \\\n",
       "0                               -0.207013   \n",
       "1                               -0.853351   \n",
       "2                                0.104547   \n",
       "3                               -0.505172   \n",
       "4                                4.035256   \n",
       "\n",
       "   COMPUTERSAndInternetUseTotalHouseholdsWithAComputerInPercent  \\\n",
       "0                                          -1.194113              \n",
       "1                                           1.323595              \n",
       "2                                           0.963923              \n",
       "3                                          -0.834441              \n",
       "4                                           1.143759              \n",
       "\n",
       "   COMPUTERSAndInternetUseTotalHouseholdsWithABroadbandInternetSubscriptionInPercent  \\\n",
       "0                                          -1.200626                                   \n",
       "1                                           0.793232                                   \n",
       "2                                           0.362128                                   \n",
       "3                                          -1.739507                                   \n",
       "4                                           1.386001                                   \n",
       "\n",
       "   LastFourthElection_Republican  LastThirdElection_Republican  \\\n",
       "0                              1                             1   \n",
       "1                              1                             1   \n",
       "2                              0                             0   \n",
       "3                              1                             1   \n",
       "4                              0                             0   \n",
       "\n",
       "   LastSecondElection_Republican  LastElection_Republican  Target  \n",
       "0                              1                        1       1  \n",
       "1                              1                        1       1  \n",
       "2                              1                        0       1  \n",
       "3                              1                        1       1  \n",
       "4                              0                        0       0  \n",
       "\n",
       "[5 rows x 363 columns]"
      ]
     },
     "execution_count": 10,
     "metadata": {},
     "output_type": "execute_result"
    }
   ],
   "source": [
    "test_df = pd.read_csv(\"2023_out_heading_matched_out.csv\")\n",
    "test_df.head()"
   ]
  },
  {
   "cell_type": "code",
   "execution_count": 12,
   "metadata": {},
   "outputs": [
    {
     "data": {
      "text/plain": [
       "(50, 363)"
      ]
     },
     "execution_count": 12,
     "metadata": {},
     "output_type": "execute_result"
    }
   ],
   "source": [
    "test_df.shape"
   ]
  },
  {
   "cell_type": "code",
   "execution_count": 16,
   "metadata": {},
   "outputs": [],
   "source": [
    "# Train features\n",
    "X_train = train_df.iloc[:,:-1].values\n",
    "\n",
    "# Train target\n",
    "y_train = train_df.iloc[:,-1].values"
   ]
  },
  {
   "cell_type": "code",
   "execution_count": 17,
   "metadata": {},
   "outputs": [
    {
     "data": {
      "text/plain": [
       "(50, 362)"
      ]
     },
     "execution_count": 17,
     "metadata": {},
     "output_type": "execute_result"
    }
   ],
   "source": [
    "X_train.shape"
   ]
  },
  {
   "cell_type": "code",
   "execution_count": 18,
   "metadata": {},
   "outputs": [
    {
     "data": {
      "text/plain": [
       "(50,)"
      ]
     },
     "execution_count": 18,
     "metadata": {},
     "output_type": "execute_result"
    }
   ],
   "source": [
    "y_train.shape"
   ]
  },
  {
   "cell_type": "code",
   "execution_count": 27,
   "metadata": {},
   "outputs": [],
   "source": [
    "# Test features\n",
    "X_test = test_df.iloc[:,:-1].values\n",
    "\n",
    "# Test target\n",
    "y_test = test_df.iloc[:,-1].values"
   ]
  },
  {
   "cell_type": "code",
   "execution_count": 28,
   "metadata": {},
   "outputs": [
    {
     "data": {
      "text/plain": [
       "(50, 362)"
      ]
     },
     "execution_count": 28,
     "metadata": {},
     "output_type": "execute_result"
    }
   ],
   "source": [
    "X_test.shape"
   ]
  },
  {
   "cell_type": "code",
   "execution_count": 29,
   "metadata": {},
   "outputs": [
    {
     "data": {
      "text/plain": [
       "(50,)"
      ]
     },
     "execution_count": 29,
     "metadata": {},
     "output_type": "execute_result"
    }
   ],
   "source": [
    "y_test.shape"
   ]
  },
  {
   "cell_type": "code",
   "execution_count": 25,
   "metadata": {},
   "outputs": [],
   "source": [
    "# Creating the Adaboost Classifier\n",
    "ada = AdaBoostClassifier(estimator=DecisionTreeClassifier(max_depth=1), n_estimators=50, learning_rate=1)"
   ]
  },
  {
   "cell_type": "code",
   "execution_count": 26,
   "metadata": {},
   "outputs": [
    {
     "name": "stderr",
     "output_type": "stream",
     "text": [
      "/Library/Frameworks/Python.framework/Versions/3.12/lib/python3.12/site-packages/sklearn/ensemble/_weight_boosting.py:527: FutureWarning: The SAMME.R algorithm (the default) is deprecated and will be removed in 1.6. Use the SAMME algorithm to circumvent this warning.\n",
      "  warnings.warn(\n"
     ]
    }
   ],
   "source": [
    "# Fit the model\n",
    "ada_model = ada.fit(X_train, y_train)"
   ]
  },
  {
   "cell_type": "code",
   "execution_count": 30,
   "metadata": {},
   "outputs": [],
   "source": [
    "# Predict with X_test\n",
    "y_pred = ada_model.predict(X_test)"
   ]
  },
  {
   "cell_type": "code",
   "execution_count": 38,
   "metadata": {},
   "outputs": [
    {
     "name": "stdout",
     "output_type": "stream",
     "text": [
      "Accuracy: 0.86\n",
      "Precision: 0.90\n",
      "Recall: 0.86\n",
      "F1 Score: 0.86\n"
     ]
    }
   ],
   "source": [
    "# Model evaluation\n",
    "accuracy = metrics.accuracy_score(y_test, y_pred)\n",
    "precision = metrics.precision_score(y_test, y_pred, average='weighted')\n",
    "recall = metrics.recall_score(y_test, y_pred, average='weighted')\n",
    "f1 = metrics.f1_score(y_test, y_pred, average='weighted')\n",
    "\n",
    "print(f'Accuracy: {accuracy}')\n",
    "print(f'Precision: {precision:.2f}')\n",
    "print(f'Recall: {recall}')\n",
    "print(f'F1 Score: {f1:.2f}')"
   ]
  },
  {
   "cell_type": "code",
   "execution_count": 42,
   "metadata": {},
   "outputs": [
    {
     "data": {
      "image/png": "[encoded data removed]",
      "text/plain": [
       "<Figure size 800x600 with 2 Axes>"
      ]
     },
     "metadata": {},
     "output_type": "display_data"
    }
   ],
   "source": [
    "# Model evaluation\n",
    "# Confusion matrix\n",
    "cf = metrics.confusion_matrix(y_test, y_pred)\n",
    "\n",
    "# Confusion matrix plot\n",
    "plt.figure(figsize=(8,6))\n",
    "sns.heatmap(cf, annot=True, fmt='d', cmap='Blues', xticklabels=ada_model.classes_, yticklabels=ada_model.classes_)\n",
    "plt.xlabel('Predicted')\n",
    "plt.ylabel('Actual')\n",
    "plt.title('Confusion Matrix')\n",
    "plt.show()"
   ]
  },
  {
   "cell_type": "code",
   "execution_count": 44,
   "metadata": {},
   "outputs": [
    {
     "name": "stdout",
     "output_type": "stream",
     "text": [
      "[1 1 0 1 0 0 0 0 0 0 0 1 0 1 1 1 1 1 0 0 0 0 0 1 1 1 1 0 0 0 0 0 0 1 1 1 0\n",
      " 0 0 1 1 1 1 1 0 0 0 1 0 1]\n"
     ]
    }
   ],
   "source": [
    "print(y_pred)"
   ]
  },
  {
   "cell_type": "code",
   "execution_count": 45,
   "metadata": {},
   "outputs": [
    {
     "data": {
      "text/plain": [
       "Index(['state_Alabama', 'state_Alaska', 'state_Arizona', 'state_Arkansas',\n",
       "       'state_California', 'state_Colorado', 'state_Connecticut',\n",
       "       'state_Delaware', 'state_Florida', 'state_Georgia',\n",
       "       ...\n",
       "       'GROSSRentOccupiedUnitsPayingRent',\n",
       "       'GROSSRentOccupiedUnitsPayingRentMedianGrossRent_Dollars_',\n",
       "       'COMPUTERSAndInternetUseTotalHouseholds',\n",
       "       'COMPUTERSAndInternetUseTotalHouseholdsWithAComputerInPercent',\n",
       "       'COMPUTERSAndInternetUseTotalHouseholdsWithABroadbandInternetSubscriptionInPercent',\n",
       "       'LastFourthElection_Republican', 'LastThirdElection_Republican',\n",
       "       'LastSecondElection_Republican', 'LastElection_Republican', 'Target'],\n",
       "      dtype='object', length=363)"
      ]
     },
     "execution_count": 45,
     "metadata": {},
     "output_type": "execute_result"
    }
   ],
   "source": [
    "train_df.columns"
   ]
  },
  {
   "cell_type": "code",
   "execution_count": null,
   "metadata": {},
   "outputs": [],
   "source": [
    "# swingstates = ['state_Arizona', 'state_Georgia', 'state_Michigan', 'state_Nevada', 'state_North Carolina', 'state_Pennsylvania', 'state_Wisconsin']"
   ]
  },
  {
   "cell_type": "code",
   "execution_count": null,
   "metadata": {},
   "outputs": [],
   "source": [
    "# # 538\n",
    "# ['state_Arizona 1', 'state_Georgia 1', 'state_Michigan 1', 'state_Nevada 1', 'state_North Carolina 1', 'state_Pennsylvania 1', 'state_Wisconsin 0']"
   ]
  },
  {
   "cell_type": "code",
   "execution_count": null,
   "metadata": {},
   "outputs": [],
   "source": [
    "# Prediction\n",
    "# ['state_Arizona 0', 'state_Georgia 0', 'state_Michigan 0', 'state_Nevada 0', 'state_North Carolina 0', 'state_Pennsylvania 0', 'state_Wisconsin 0']"
   ]
  },
  {
   "cell_type": "code",
   "execution_count": null,
   "metadata": {},
   "outputs": [],
   "source": []
  }
 ],
 "metadata": {
  "kernelspec": {
   "display_name": "Python 3",
   "language": "python",
   "name": "python3"
  },
  "language_info": {
   "codemirror_mode": {
    "name": "ipython",
    "version": 3
   },
   "file_extension": ".py",
   "mimetype": "text/x-python",
   "name": "python",
   "nbconvert_exporter": "python",
   "pygments_lexer": "ipython3",
   "version": "3.12.3"
  }
 },
 "nbformat": 4,
 "nbformat_minor": 2
}
