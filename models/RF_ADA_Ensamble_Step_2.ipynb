{
 "cells": [
  {
   "cell_type": "markdown",
   "id": "4e22bc2f-d587-49ac-bbe4-278831bcede6",
   "metadata": {
    "id": "4e22bc2f-d587-49ac-bbe4-278831bcede6"
   },
   "source": [
    "## **Objective Overview**\n",
    "##### Build Decision Tree / Random Forest model(s) on the provided dataset."
   ]
  },
  {
   "cell_type": "markdown",
   "id": "02e4d77d-1c72-4e60-bc0e-fdeca533192d",
   "metadata": {
    "id": "02e4d77d-1c72-4e60-bc0e-fdeca533192d"
   },
   "source": [
    "## **Setup**"
   ]
  },
  {
   "cell_type": "markdown",
   "id": "87fab05e-8de2-4065-ae3f-0535ca3528b2",
   "metadata": {
    "id": "87fab05e-8de2-4065-ae3f-0535ca3528b2"
   },
   "source": [
    "#### Install Packages"
   ]
  },
  {
   "cell_type": "markdown",
   "id": "8b01c8ac-34f8-4ea8-ae08-18d08f25f48d",
   "metadata": {
    "id": "8b01c8ac-34f8-4ea8-ae08-18d08f25f48d"
   },
   "source": [
    "#### Import Libraries"
   ]
  },
  {
   "cell_type": "code",
   "execution_count": 1,
   "id": "207d23ac-0984-45a3-bfdf-8a7e5e67f046",
   "metadata": {
    "id": "207d23ac-0984-45a3-bfdf-8a7e5e67f046"
   },
   "outputs": [],
   "source": [
    "import pandas as pd\n",
    "import ast\n",
    "import numpy as np\n",
    "import re\n",
    "import matplotlib.pyplot as plt\n",
    "import seaborn as sns\n",
    "import time\n",
    "from sklearn.model_selection import train_test_split\n",
    "from sklearn.preprocessing import OneHotEncoder\n",
    "from sklearn.preprocessing import label_binarize\n",
    "# from imblearn.over_sampling import SMOTE\n",
    "from sklearn.feature_extraction.text import CountVectorizer\n",
    "from sklearn.ensemble import RandomForestClassifier\n",
    "from sklearn.tree import DecisionTreeClassifier\n",
    "from sklearn.metrics import confusion_matrix, classification_report, f1_score, roc_auc_score, accuracy_score, roc_curve\n",
    "# from lime.lime_tabular import LimeTabularExplainer"
   ]
  },
  {
   "cell_type": "markdown",
   "id": "392e9187-bc37-458a-abe2-a2cb4944d2ce",
   "metadata": {
    "id": "392e9187-bc37-458a-abe2-a2cb4944d2ce"
   },
   "source": [
    "## **Data Exploration**"
   ]
  },
  {
   "cell_type": "markdown",
   "id": "_V4Az9UN7Enp",
   "metadata": {
    "id": "_V4Az9UN7Enp"
   },
   "source": [
    "#### Load Dataset"
   ]
  },
  {
   "cell_type": "code",
   "execution_count": 2,
   "id": "58fa8068-bd6c-4886-b307-4a04b990eeae",
   "metadata": {
    "id": "58fa8068-bd6c-4886-b307-4a04b990eeae"
   },
   "outputs": [],
   "source": [
    "data = pd.read_csv(\"D:\\\\loyalist\\\\sem2\\\\step2\\\\2020_out_heading_matched_out.csv\")"
   ]
  },
  {
   "cell_type": "markdown",
   "id": "b35bf834-a77b-40de-96f9-05dff49600da",
   "metadata": {
    "id": "b35bf834-a77b-40de-96f9-05dff49600da"
   },
   "source": [
    "#### Dataset Overview"
   ]
  },
  {
   "cell_type": "code",
   "execution_count": 3,
   "id": "0b933584-363e-4a6f-b0b3-2f950fa9efb8",
   "metadata": {
    "colab": {
     "base_uri": "https://localhost:8080/",
     "height": 255
    },
    "id": "0b933584-363e-4a6f-b0b3-2f950fa9efb8",
    "outputId": "cec42ceb-7e5e-43ea-d051-478157bfe8e3"
   },
   "outputs": [
    {
     "data": {
      "text/html": [
       "<div>\n",
       "<style scoped>\n",
       "    .dataframe tbody tr th:only-of-type {\n",
       "        vertical-align: middle;\n",
       "    }\n",
       "\n",
       "    .dataframe tbody tr th {\n",
       "        vertical-align: top;\n",
       "    }\n",
       "\n",
       "    .dataframe thead th {\n",
       "        text-align: right;\n",
       "    }\n",
       "</style>\n",
       "<table border=\"1\" class=\"dataframe\">\n",
       "  <thead>\n",
       "    <tr style=\"text-align: right;\">\n",
       "      <th></th>\n",
       "      <th>state_Alabama</th>\n",
       "      <th>state_Alaska</th>\n",
       "      <th>state_Arizona</th>\n",
       "      <th>state_Arkansas</th>\n",
       "      <th>state_California</th>\n",
       "      <th>state_Colorado</th>\n",
       "      <th>state_Connecticut</th>\n",
       "      <th>state_Delaware</th>\n",
       "      <th>state_Florida</th>\n",
       "      <th>state_Georgia</th>\n",
       "      <th>...</th>\n",
       "      <th>LastElection_Republican</th>\n",
       "      <th>Target</th>\n",
       "      <th>Poll</th>\n",
       "      <th>Poll0</th>\n",
       "      <th>Poll1</th>\n",
       "      <th>Poll2</th>\n",
       "      <th>Poll3</th>\n",
       "      <th>Poll4</th>\n",
       "      <th>Poll5</th>\n",
       "      <th>Poll6</th>\n",
       "    </tr>\n",
       "  </thead>\n",
       "  <tbody>\n",
       "    <tr>\n",
       "      <th>0</th>\n",
       "      <td>1</td>\n",
       "      <td>0</td>\n",
       "      <td>0</td>\n",
       "      <td>0</td>\n",
       "      <td>0</td>\n",
       "      <td>0</td>\n",
       "      <td>0</td>\n",
       "      <td>0</td>\n",
       "      <td>0</td>\n",
       "      <td>0</td>\n",
       "      <td>...</td>\n",
       "      <td>1</td>\n",
       "      <td>1</td>\n",
       "      <td>1</td>\n",
       "      <td>1</td>\n",
       "      <td>1</td>\n",
       "      <td>1</td>\n",
       "      <td>1</td>\n",
       "      <td>1</td>\n",
       "      <td>1</td>\n",
       "      <td>1</td>\n",
       "    </tr>\n",
       "    <tr>\n",
       "      <th>1</th>\n",
       "      <td>0</td>\n",
       "      <td>1</td>\n",
       "      <td>0</td>\n",
       "      <td>0</td>\n",
       "      <td>0</td>\n",
       "      <td>0</td>\n",
       "      <td>0</td>\n",
       "      <td>0</td>\n",
       "      <td>0</td>\n",
       "      <td>0</td>\n",
       "      <td>...</td>\n",
       "      <td>1</td>\n",
       "      <td>1</td>\n",
       "      <td>1</td>\n",
       "      <td>1</td>\n",
       "      <td>1</td>\n",
       "      <td>1</td>\n",
       "      <td>1</td>\n",
       "      <td>1</td>\n",
       "      <td>1</td>\n",
       "      <td>1</td>\n",
       "    </tr>\n",
       "    <tr>\n",
       "      <th>2</th>\n",
       "      <td>0</td>\n",
       "      <td>0</td>\n",
       "      <td>1</td>\n",
       "      <td>0</td>\n",
       "      <td>0</td>\n",
       "      <td>0</td>\n",
       "      <td>0</td>\n",
       "      <td>0</td>\n",
       "      <td>0</td>\n",
       "      <td>0</td>\n",
       "      <td>...</td>\n",
       "      <td>1</td>\n",
       "      <td>0</td>\n",
       "      <td>0</td>\n",
       "      <td>0</td>\n",
       "      <td>0</td>\n",
       "      <td>0</td>\n",
       "      <td>0</td>\n",
       "      <td>0</td>\n",
       "      <td>0</td>\n",
       "      <td>0</td>\n",
       "    </tr>\n",
       "    <tr>\n",
       "      <th>3</th>\n",
       "      <td>0</td>\n",
       "      <td>0</td>\n",
       "      <td>0</td>\n",
       "      <td>1</td>\n",
       "      <td>0</td>\n",
       "      <td>0</td>\n",
       "      <td>0</td>\n",
       "      <td>0</td>\n",
       "      <td>0</td>\n",
       "      <td>0</td>\n",
       "      <td>...</td>\n",
       "      <td>1</td>\n",
       "      <td>1</td>\n",
       "      <td>1</td>\n",
       "      <td>1</td>\n",
       "      <td>1</td>\n",
       "      <td>1</td>\n",
       "      <td>1</td>\n",
       "      <td>1</td>\n",
       "      <td>1</td>\n",
       "      <td>1</td>\n",
       "    </tr>\n",
       "    <tr>\n",
       "      <th>4</th>\n",
       "      <td>0</td>\n",
       "      <td>0</td>\n",
       "      <td>0</td>\n",
       "      <td>0</td>\n",
       "      <td>1</td>\n",
       "      <td>0</td>\n",
       "      <td>0</td>\n",
       "      <td>0</td>\n",
       "      <td>0</td>\n",
       "      <td>0</td>\n",
       "      <td>...</td>\n",
       "      <td>0</td>\n",
       "      <td>0</td>\n",
       "      <td>0</td>\n",
       "      <td>0</td>\n",
       "      <td>0</td>\n",
       "      <td>0</td>\n",
       "      <td>0</td>\n",
       "      <td>0</td>\n",
       "      <td>0</td>\n",
       "      <td>0</td>\n",
       "    </tr>\n",
       "  </tbody>\n",
       "</table>\n",
       "<p>5 rows × 371 columns</p>\n",
       "</div>"
      ],
      "text/plain": [
       "   state_Alabama  state_Alaska  state_Arizona  state_Arkansas  \\\n",
       "0              1             0              0               0   \n",
       "1              0             1              0               0   \n",
       "2              0             0              1               0   \n",
       "3              0             0              0               1   \n",
       "4              0             0              0               0   \n",
       "\n",
       "   state_California  state_Colorado  state_Connecticut  state_Delaware  \\\n",
       "0                 0               0                  0               0   \n",
       "1                 0               0                  0               0   \n",
       "2                 0               0                  0               0   \n",
       "3                 0               0                  0               0   \n",
       "4                 1               0                  0               0   \n",
       "\n",
       "   state_Florida  state_Georgia  ...  LastElection_Republican  Target  Poll  \\\n",
       "0              0              0  ...                        1       1     1   \n",
       "1              0              0  ...                        1       1     1   \n",
       "2              0              0  ...                        1       0     0   \n",
       "3              0              0  ...                        1       1     1   \n",
       "4              0              0  ...                        0       0     0   \n",
       "\n",
       "   Poll0  Poll1  Poll2  Poll3  Poll4  Poll5  Poll6  \n",
       "0      1      1      1      1      1      1      1  \n",
       "1      1      1      1      1      1      1      1  \n",
       "2      0      0      0      0      0      0      0  \n",
       "3      1      1      1      1      1      1      1  \n",
       "4      0      0      0      0      0      0      0  \n",
       "\n",
       "[5 rows x 371 columns]"
      ]
     },
     "execution_count": 3,
     "metadata": {},
     "output_type": "execute_result"
    }
   ],
   "source": [
    "data.head()"
   ]
  },
  {
   "cell_type": "code",
   "execution_count": 4,
   "id": "f8719898-5ffa-4ecf-b32e-719f50069aa8",
   "metadata": {
    "colab": {
     "base_uri": "https://localhost:8080/"
    },
    "id": "f8719898-5ffa-4ecf-b32e-719f50069aa8",
    "outputId": "86c98dfc-1b69-46f8-cf55-c65a41d24efc"
   },
   "outputs": [
    {
     "name": "stdout",
     "output_type": "stream",
     "text": [
      "<class 'pandas.core.frame.DataFrame'>\n",
      "RangeIndex: 50 entries, 0 to 49\n",
      "Columns: 371 entries, state_Alabama to Poll6\n",
      "dtypes: float64(308), int64(63)\n",
      "memory usage: 145.1 KB\n"
     ]
    }
   ],
   "source": [
    "data.info()"
   ]
  },
  {
   "cell_type": "markdown",
   "id": "7B5Hcupu_b21",
   "metadata": {
    "id": "7B5Hcupu_b21"
   },
   "source": [
    "## **Dataset Splitting**"
   ]
  },
  {
   "cell_type": "markdown",
   "id": "ta43F6_vAkGR",
   "metadata": {
    "id": "ta43F6_vAkGR"
   },
   "source": [
    "### Initial split - Features (X) and label/target (y)"
   ]
  },
  {
   "cell_type": "code",
   "execution_count": 5,
   "id": "2XNGrBFfAio9",
   "metadata": {
    "id": "2XNGrBFfAio9"
   },
   "outputs": [],
   "source": [
    "# Split data into features (X) and label (y)\n",
    "X = data.drop('Target', axis=1)  # Drop the target column for features\n",
    "y = data['Target']  # Target column"
   ]
  },
  {
   "cell_type": "code",
   "execution_count": 6,
   "id": "2d55f30e-7649-4497-81c6-92aaebf674a8",
   "metadata": {},
   "outputs": [],
   "source": [
    "y = data['Target']\n",
    "X = data.drop('Target', axis=1)"
   ]
  },
  {
   "cell_type": "markdown",
   "id": "PVNjQ1vaBJNY",
   "metadata": {
    "id": "PVNjQ1vaBJNY"
   },
   "source": [
    "### Train-test split"
   ]
  },
  {
   "cell_type": "code",
   "execution_count": 7,
   "id": "D9BrxOlL_oBy",
   "metadata": {
    "id": "D9BrxOlL_oBy"
   },
   "outputs": [],
   "source": [
    "# Split data into training and testing sets\n",
    "# X_train, X_test, y_train, y_test = train_test_split(X, y, test_size=0.3, random_state=42)"
   ]
  },
  {
   "cell_type": "code",
   "execution_count": 8,
   "id": "om8gdCJJdd8M",
   "metadata": {
    "colab": {
     "base_uri": "https://localhost:8080/",
     "height": 255
    },
    "id": "om8gdCJJdd8M",
    "outputId": "b54441f4-1e4a-4f86-dcab-3cacc15cc4fe"
   },
   "outputs": [
    {
     "data": {
      "text/html": [
       "<div>\n",
       "<style scoped>\n",
       "    .dataframe tbody tr th:only-of-type {\n",
       "        vertical-align: middle;\n",
       "    }\n",
       "\n",
       "    .dataframe tbody tr th {\n",
       "        vertical-align: top;\n",
       "    }\n",
       "\n",
       "    .dataframe thead th {\n",
       "        text-align: right;\n",
       "    }\n",
       "</style>\n",
       "<table border=\"1\" class=\"dataframe\">\n",
       "  <thead>\n",
       "    <tr style=\"text-align: right;\">\n",
       "      <th></th>\n",
       "      <th>state_Alabama</th>\n",
       "      <th>state_Alaska</th>\n",
       "      <th>state_Arizona</th>\n",
       "      <th>state_Arkansas</th>\n",
       "      <th>state_California</th>\n",
       "      <th>state_Colorado</th>\n",
       "      <th>state_Connecticut</th>\n",
       "      <th>state_Delaware</th>\n",
       "      <th>state_Florida</th>\n",
       "      <th>state_Georgia</th>\n",
       "      <th>...</th>\n",
       "      <th>LastElection_Republican</th>\n",
       "      <th>Target</th>\n",
       "      <th>Poll</th>\n",
       "      <th>Poll0</th>\n",
       "      <th>Poll1</th>\n",
       "      <th>Poll2</th>\n",
       "      <th>Poll3</th>\n",
       "      <th>Poll4</th>\n",
       "      <th>Poll5</th>\n",
       "      <th>Poll6</th>\n",
       "    </tr>\n",
       "  </thead>\n",
       "  <tbody>\n",
       "    <tr>\n",
       "      <th>0</th>\n",
       "      <td>1</td>\n",
       "      <td>0</td>\n",
       "      <td>0</td>\n",
       "      <td>0</td>\n",
       "      <td>0</td>\n",
       "      <td>0</td>\n",
       "      <td>0</td>\n",
       "      <td>0</td>\n",
       "      <td>0</td>\n",
       "      <td>0</td>\n",
       "      <td>...</td>\n",
       "      <td>1</td>\n",
       "      <td>1</td>\n",
       "      <td>1</td>\n",
       "      <td>1</td>\n",
       "      <td>1</td>\n",
       "      <td>1</td>\n",
       "      <td>1</td>\n",
       "      <td>1</td>\n",
       "      <td>1</td>\n",
       "      <td>1</td>\n",
       "    </tr>\n",
       "    <tr>\n",
       "      <th>1</th>\n",
       "      <td>0</td>\n",
       "      <td>1</td>\n",
       "      <td>0</td>\n",
       "      <td>0</td>\n",
       "      <td>0</td>\n",
       "      <td>0</td>\n",
       "      <td>0</td>\n",
       "      <td>0</td>\n",
       "      <td>0</td>\n",
       "      <td>0</td>\n",
       "      <td>...</td>\n",
       "      <td>1</td>\n",
       "      <td>1</td>\n",
       "      <td>1</td>\n",
       "      <td>1</td>\n",
       "      <td>1</td>\n",
       "      <td>1</td>\n",
       "      <td>1</td>\n",
       "      <td>1</td>\n",
       "      <td>1</td>\n",
       "      <td>1</td>\n",
       "    </tr>\n",
       "    <tr>\n",
       "      <th>2</th>\n",
       "      <td>0</td>\n",
       "      <td>0</td>\n",
       "      <td>1</td>\n",
       "      <td>0</td>\n",
       "      <td>0</td>\n",
       "      <td>0</td>\n",
       "      <td>0</td>\n",
       "      <td>0</td>\n",
       "      <td>0</td>\n",
       "      <td>0</td>\n",
       "      <td>...</td>\n",
       "      <td>0</td>\n",
       "      <td>0</td>\n",
       "      <td>1</td>\n",
       "      <td>1</td>\n",
       "      <td>1</td>\n",
       "      <td>1</td>\n",
       "      <td>1</td>\n",
       "      <td>1</td>\n",
       "      <td>1</td>\n",
       "      <td>1</td>\n",
       "    </tr>\n",
       "    <tr>\n",
       "      <th>3</th>\n",
       "      <td>0</td>\n",
       "      <td>0</td>\n",
       "      <td>0</td>\n",
       "      <td>1</td>\n",
       "      <td>0</td>\n",
       "      <td>0</td>\n",
       "      <td>0</td>\n",
       "      <td>0</td>\n",
       "      <td>0</td>\n",
       "      <td>0</td>\n",
       "      <td>...</td>\n",
       "      <td>1</td>\n",
       "      <td>1</td>\n",
       "      <td>1</td>\n",
       "      <td>1</td>\n",
       "      <td>1</td>\n",
       "      <td>1</td>\n",
       "      <td>1</td>\n",
       "      <td>1</td>\n",
       "      <td>1</td>\n",
       "      <td>1</td>\n",
       "    </tr>\n",
       "    <tr>\n",
       "      <th>4</th>\n",
       "      <td>0</td>\n",
       "      <td>0</td>\n",
       "      <td>0</td>\n",
       "      <td>0</td>\n",
       "      <td>1</td>\n",
       "      <td>0</td>\n",
       "      <td>0</td>\n",
       "      <td>0</td>\n",
       "      <td>0</td>\n",
       "      <td>0</td>\n",
       "      <td>...</td>\n",
       "      <td>0</td>\n",
       "      <td>0</td>\n",
       "      <td>0</td>\n",
       "      <td>0</td>\n",
       "      <td>0</td>\n",
       "      <td>0</td>\n",
       "      <td>0</td>\n",
       "      <td>0</td>\n",
       "      <td>0</td>\n",
       "      <td>0</td>\n",
       "    </tr>\n",
       "  </tbody>\n",
       "</table>\n",
       "<p>5 rows × 371 columns</p>\n",
       "</div>"
      ],
      "text/plain": [
       "   state_Alabama  state_Alaska  state_Arizona  state_Arkansas  \\\n",
       "0              1             0              0               0   \n",
       "1              0             1              0               0   \n",
       "2              0             0              1               0   \n",
       "3              0             0              0               1   \n",
       "4              0             0              0               0   \n",
       "\n",
       "   state_California  state_Colorado  state_Connecticut  state_Delaware  \\\n",
       "0                 0               0                  0               0   \n",
       "1                 0               0                  0               0   \n",
       "2                 0               0                  0               0   \n",
       "3                 0               0                  0               0   \n",
       "4                 1               0                  0               0   \n",
       "\n",
       "   state_Florida  state_Georgia  ...  LastElection_Republican  Target  Poll  \\\n",
       "0              0              0  ...                        1       1     1   \n",
       "1              0              0  ...                        1       1     1   \n",
       "2              0              0  ...                        0       0     1   \n",
       "3              0              0  ...                        1       1     1   \n",
       "4              0              0  ...                        0       0     0   \n",
       "\n",
       "   Poll0  Poll1  Poll2  Poll3  Poll4  Poll5  Poll6  \n",
       "0      1      1      1      1      1      1      1  \n",
       "1      1      1      1      1      1      1      1  \n",
       "2      1      1      1      1      1      1      1  \n",
       "3      1      1      1      1      1      1      1  \n",
       "4      0      0      0      0      0      0      0  \n",
       "\n",
       "[5 rows x 371 columns]"
      ]
     },
     "execution_count": 8,
     "metadata": {},
     "output_type": "execute_result"
    }
   ],
   "source": [
    "test_data = pd.read_csv(\"D:\\\\loyalist\\\\sem2\\\\step2\\\\2023_out_heading_matched_out.csv\")\n",
    "test_data.head()"
   ]
  },
  {
   "cell_type": "code",
   "execution_count": 10,
   "id": "JnfICfdJdG8-",
   "metadata": {
    "id": "JnfICfdJdG8-"
   },
   "outputs": [],
   "source": [
    "X_train = X\n",
    "y_train = y\n",
    "X_test = test_data.drop('Target', axis=1)\n",
    "y_test = test_data['Target']"
   ]
  },
  {
   "cell_type": "code",
   "execution_count": 11,
   "id": "506846c6",
   "metadata": {},
   "outputs": [
    {
     "data": {
      "text/html": [
       "<div>\n",
       "<style scoped>\n",
       "    .dataframe tbody tr th:only-of-type {\n",
       "        vertical-align: middle;\n",
       "    }\n",
       "\n",
       "    .dataframe tbody tr th {\n",
       "        vertical-align: top;\n",
       "    }\n",
       "\n",
       "    .dataframe thead th {\n",
       "        text-align: right;\n",
       "    }\n",
       "</style>\n",
       "<table border=\"1\" class=\"dataframe\">\n",
       "  <thead>\n",
       "    <tr style=\"text-align: right;\">\n",
       "      <th></th>\n",
       "      <th>state_Alabama</th>\n",
       "      <th>state_Alaska</th>\n",
       "      <th>state_Arizona</th>\n",
       "      <th>state_Arkansas</th>\n",
       "      <th>state_California</th>\n",
       "      <th>state_Colorado</th>\n",
       "      <th>state_Connecticut</th>\n",
       "      <th>state_Delaware</th>\n",
       "      <th>state_Florida</th>\n",
       "      <th>state_Georgia</th>\n",
       "      <th>...</th>\n",
       "      <th>LastSecondElection_Republican</th>\n",
       "      <th>LastElection_Republican</th>\n",
       "      <th>Poll</th>\n",
       "      <th>Poll0</th>\n",
       "      <th>Poll1</th>\n",
       "      <th>Poll2</th>\n",
       "      <th>Poll3</th>\n",
       "      <th>Poll4</th>\n",
       "      <th>Poll5</th>\n",
       "      <th>Poll6</th>\n",
       "    </tr>\n",
       "  </thead>\n",
       "  <tbody>\n",
       "    <tr>\n",
       "      <th>0</th>\n",
       "      <td>1</td>\n",
       "      <td>0</td>\n",
       "      <td>0</td>\n",
       "      <td>0</td>\n",
       "      <td>0</td>\n",
       "      <td>0</td>\n",
       "      <td>0</td>\n",
       "      <td>0</td>\n",
       "      <td>0</td>\n",
       "      <td>0</td>\n",
       "      <td>...</td>\n",
       "      <td>1</td>\n",
       "      <td>1</td>\n",
       "      <td>1</td>\n",
       "      <td>1</td>\n",
       "      <td>1</td>\n",
       "      <td>1</td>\n",
       "      <td>1</td>\n",
       "      <td>1</td>\n",
       "      <td>1</td>\n",
       "      <td>1</td>\n",
       "    </tr>\n",
       "    <tr>\n",
       "      <th>1</th>\n",
       "      <td>0</td>\n",
       "      <td>1</td>\n",
       "      <td>0</td>\n",
       "      <td>0</td>\n",
       "      <td>0</td>\n",
       "      <td>0</td>\n",
       "      <td>0</td>\n",
       "      <td>0</td>\n",
       "      <td>0</td>\n",
       "      <td>0</td>\n",
       "      <td>...</td>\n",
       "      <td>1</td>\n",
       "      <td>1</td>\n",
       "      <td>1</td>\n",
       "      <td>1</td>\n",
       "      <td>1</td>\n",
       "      <td>1</td>\n",
       "      <td>1</td>\n",
       "      <td>1</td>\n",
       "      <td>1</td>\n",
       "      <td>1</td>\n",
       "    </tr>\n",
       "    <tr>\n",
       "      <th>2</th>\n",
       "      <td>0</td>\n",
       "      <td>0</td>\n",
       "      <td>1</td>\n",
       "      <td>0</td>\n",
       "      <td>0</td>\n",
       "      <td>0</td>\n",
       "      <td>0</td>\n",
       "      <td>0</td>\n",
       "      <td>0</td>\n",
       "      <td>0</td>\n",
       "      <td>...</td>\n",
       "      <td>0</td>\n",
       "      <td>1</td>\n",
       "      <td>0</td>\n",
       "      <td>0</td>\n",
       "      <td>0</td>\n",
       "      <td>0</td>\n",
       "      <td>0</td>\n",
       "      <td>0</td>\n",
       "      <td>0</td>\n",
       "      <td>0</td>\n",
       "    </tr>\n",
       "    <tr>\n",
       "      <th>3</th>\n",
       "      <td>0</td>\n",
       "      <td>0</td>\n",
       "      <td>0</td>\n",
       "      <td>1</td>\n",
       "      <td>0</td>\n",
       "      <td>0</td>\n",
       "      <td>0</td>\n",
       "      <td>0</td>\n",
       "      <td>0</td>\n",
       "      <td>0</td>\n",
       "      <td>...</td>\n",
       "      <td>1</td>\n",
       "      <td>1</td>\n",
       "      <td>1</td>\n",
       "      <td>1</td>\n",
       "      <td>1</td>\n",
       "      <td>1</td>\n",
       "      <td>1</td>\n",
       "      <td>1</td>\n",
       "      <td>1</td>\n",
       "      <td>1</td>\n",
       "    </tr>\n",
       "    <tr>\n",
       "      <th>4</th>\n",
       "      <td>0</td>\n",
       "      <td>0</td>\n",
       "      <td>0</td>\n",
       "      <td>0</td>\n",
       "      <td>1</td>\n",
       "      <td>0</td>\n",
       "      <td>0</td>\n",
       "      <td>0</td>\n",
       "      <td>0</td>\n",
       "      <td>0</td>\n",
       "      <td>...</td>\n",
       "      <td>0</td>\n",
       "      <td>0</td>\n",
       "      <td>0</td>\n",
       "      <td>0</td>\n",
       "      <td>0</td>\n",
       "      <td>0</td>\n",
       "      <td>0</td>\n",
       "      <td>0</td>\n",
       "      <td>0</td>\n",
       "      <td>0</td>\n",
       "    </tr>\n",
       "  </tbody>\n",
       "</table>\n",
       "<p>5 rows × 370 columns</p>\n",
       "</div>"
      ],
      "text/plain": [
       "   state_Alabama  state_Alaska  state_Arizona  state_Arkansas  \\\n",
       "0              1             0              0               0   \n",
       "1              0             1              0               0   \n",
       "2              0             0              1               0   \n",
       "3              0             0              0               1   \n",
       "4              0             0              0               0   \n",
       "\n",
       "   state_California  state_Colorado  state_Connecticut  state_Delaware  \\\n",
       "0                 0               0                  0               0   \n",
       "1                 0               0                  0               0   \n",
       "2                 0               0                  0               0   \n",
       "3                 0               0                  0               0   \n",
       "4                 1               0                  0               0   \n",
       "\n",
       "   state_Florida  state_Georgia  ...  LastSecondElection_Republican  \\\n",
       "0              0              0  ...                              1   \n",
       "1              0              0  ...                              1   \n",
       "2              0              0  ...                              0   \n",
       "3              0              0  ...                              1   \n",
       "4              0              0  ...                              0   \n",
       "\n",
       "   LastElection_Republican  Poll  Poll0  Poll1  Poll2  Poll3  Poll4  Poll5  \\\n",
       "0                        1     1      1      1      1      1      1      1   \n",
       "1                        1     1      1      1      1      1      1      1   \n",
       "2                        1     0      0      0      0      0      0      0   \n",
       "3                        1     1      1      1      1      1      1      1   \n",
       "4                        0     0      0      0      0      0      0      0   \n",
       "\n",
       "   Poll6  \n",
       "0      1  \n",
       "1      1  \n",
       "2      0  \n",
       "3      1  \n",
       "4      0  \n",
       "\n",
       "[5 rows x 370 columns]"
      ]
     },
     "execution_count": 11,
     "metadata": {},
     "output_type": "execute_result"
    }
   ],
   "source": [
    "X.head()"
   ]
  },
  {
   "cell_type": "code",
   "execution_count": 12,
   "id": "O4FRjtTUfABh",
   "metadata": {
    "colab": {
     "base_uri": "https://localhost:8080/"
    },
    "id": "O4FRjtTUfABh",
    "outputId": "c085019e-d981-4bbb-fcb3-30c4b087c83d"
   },
   "outputs": [
    {
     "name": "stdout",
     "output_type": "stream",
     "text": [
      "Unique classes in y_train: {0, 1}\n",
      "Unique classes in y_test: {0, 1}\n"
     ]
    }
   ],
   "source": [
    "print(\"Unique classes in y_train:\", set(y_train))\n",
    "print(\"Unique classes in y_test:\", set(y_test))\n"
   ]
  },
  {
   "cell_type": "markdown",
   "id": "ecdd92d1-e856-4851-bb12-beae1220fdec",
   "metadata": {
    "id": "ecdd92d1-e856-4851-bb12-beae1220fdec"
   },
   "source": [
    "## **Model Training and Evaluation**"
   ]
  },
  {
   "cell_type": "markdown",
   "id": "bz0NOVpf22F3",
   "metadata": {
    "id": "bz0NOVpf22F3"
   },
   "source": [
    "### Define an Evaluation function(s)"
   ]
  },
  {
   "cell_type": "markdown",
   "id": "akRbvdzH-YPt",
   "metadata": {
    "id": "akRbvdzH-YPt"
   },
   "source": [
    "The below function will evaluate a model on both the training and testing data, showing performance differences\n",
    "\n",
    "*   Calculating the accuracy\n",
    "*   Printing a detailed classification report (precision, recall, F1-score)\n",
    "*   Plotting a confusion matrix to visualize true and false predictions"
   ]
  },
  {
   "cell_type": "code",
   "execution_count": 13,
   "id": "SOwKdexN3J74",
   "metadata": {
    "id": "SOwKdexN3J74"
   },
   "outputs": [],
   "source": [
    "# Function to evaluate models on both training and testing data for binary classification\n",
    "def evaluate_model(model, X_train, X_test, y_train, y_test):\n",
    "    # Evaluating on Training Data\n",
    "    print(\"\\nEvaluating on Training Data:\")\n",
    "    y_train_pred = model.predict(X_train)\n",
    "    train_accuracy = accuracy_score(y_train, y_train_pred)\n",
    "    print(f\"Training Accuracy: {train_accuracy:.2f}\")\n",
    "\n",
    "    # Classification Report for Training Data\n",
    "    print(\"\\nTraining Classification Report:\")\n",
    "    print(classification_report(y_train, y_train_pred, target_names=[\"Class 0\", \"Class 1\"]))\n",
    "\n",
    "    # Confusion Matrix for Training Data\n",
    "    plt.figure(figsize=(6, 4))\n",
    "    sns.heatmap(confusion_matrix(y_train, y_train_pred), annot=True, fmt='d', cmap='Blues',\n",
    "                xticklabels=[\"Predicted 0\", \"Predicted 1\"], yticklabels=[\"Actual 0\", \"Actual 1\"])\n",
    "    plt.xlabel('Predicted')\n",
    "    plt.ylabel('Actual')\n",
    "    plt.title('Training Confusion Matrix')\n",
    "    plt.show()\n",
    "\n",
    "    # Evaluating on Testing Data\n",
    "    print(\"\\nEvaluating on Testing Data:\")\n",
    "    y_test_pred = model.predict(X_test)\n",
    "    test_accuracy = accuracy_score(y_test, y_test_pred)\n",
    "    print(f\"Testing Accuracy: {test_accuracy:.2f}\")\n",
    "\n",
    "    # Classification Report for Testing Data\n",
    "    print(\"\\nTesting Classification Report:\")\n",
    "    print(classification_report(y_test, y_test_pred, target_names=[\"Class 0\", \"Class 1\"]))\n",
    "\n",
    "    # Confusion Matrix for Testing Data\n",
    "    plt.figure(figsize=(6, 4))\n",
    "    sns.heatmap(confusion_matrix(y_test, y_test_pred), annot=True, fmt='d', cmap='Blues',\n",
    "                xticklabels=[\"Predicted 0\", \"Predicted 1\"], yticklabels=[\"Actual 0\", \"Actual 1\"])\n",
    "    plt.xlabel('Predicted')\n",
    "    plt.ylabel('Actual')\n",
    "    plt.title('Testing Confusion Matrix')\n",
    "    plt.show()\n",
    "    \n",
    "\n",
    "# Example usage:\n",
    "# evaluate_model(dt_classifier, X_train, X_test, y_train, y_test)\n",
    "# evaluate_model(rf_classifier, X_train, X_test, y_train, y_test)\n"
   ]
  },
  {
   "cell_type": "markdown",
   "id": "HujP4zpD8_W0",
   "metadata": {
    "id": "HujP4zpD8_W0"
   },
   "source": [
    "This function below will calculate the ROC-AUC scores and plot the ROC curves for both the training and testing datasets."
   ]
  },
  {
   "cell_type": "code",
   "execution_count": 14,
   "id": "lPucG_fy9AOs",
   "metadata": {
    "id": "lPucG_fy9AOs"
   },
   "outputs": [],
   "source": [
    "# Function to plot AUC-ROC curve and calculate AUC score for both training and testing sets\n",
    "def plot_roc_auc_train_test(model, X_train, X_test, y_train, y_test, model_name):\n",
    "    plt.figure(figsize=(8, 6))\n",
    "\n",
    "    # Training Data\n",
    "    y_train_prob = model.predict_proba(X_train)[:, 1]\n",
    "    fpr_train, tpr_train, _ = roc_curve(y_train, y_train_prob)\n",
    "    roc_auc_train = roc_auc_score(y_train, y_train_prob)\n",
    "    plt.plot(fpr_train, tpr_train, label=f\"{model_name} - Training (AUC = {roc_auc_train:.2f})\")\n",
    "\n",
    "    # Testing Data\n",
    "    y_test_prob = model.predict_proba(X_test)[:, 1]\n",
    "    fpr_test, tpr_test, _ = roc_curve(y_test, y_test_prob)\n",
    "    roc_auc_test = roc_auc_score(y_test, y_test_prob)\n",
    "    plt.plot(fpr_test, tpr_test, label=f\"{model_name} - Testing (AUC = {roc_auc_test:.2f})\")\n",
    "\n",
    "    # Plotting settings\n",
    "    plt.plot([0, 1], [0, 1], 'k--', label=\"Random Guessing (AUC = 0.5)\")\n",
    "    plt.xlabel('False Positive Rate')\n",
    "    plt.ylabel('True Positive Rate')\n",
    "    plt.title(f'ROC Curve for {model_name}')\n",
    "    plt.legend(loc=\"lower right\")\n",
    "    plt.grid()\n",
    "    plt.show()\n",
    "\n",
    "    # Print ROC-AUC Scores\n",
    "    print(f\"{model_name} ROC-AUC Score on Training Data: {roc_auc_train:.2f}\")\n",
    "    print(f\"{model_name} ROC-AUC Score on Testing Data: {roc_auc_test:.2f}\")"
   ]
  },
  {
   "cell_type": "markdown",
   "id": "6AxNFbJC4a90",
   "metadata": {
    "id": "6AxNFbJC4a90"
   },
   "source": [
    "### Training and Evaluation"
   ]
  },
  {
   "cell_type": "markdown",
   "id": "AFnmiDCm47pz",
   "metadata": {
    "id": "AFnmiDCm47pz"
   },
   "source": [
    "#### **Decision Tree**"
   ]
  },
  {
   "cell_type": "code",
   "execution_count": 15,
   "id": "ke0j-jC642CV",
   "metadata": {
    "colab": {
     "base_uri": "https://localhost:8080/"
    },
    "id": "ke0j-jC642CV",
    "outputId": "50858cad-3a16-4315-bdd6-64af3751d47e"
   },
   "outputs": [
    {
     "name": "stdout",
     "output_type": "stream",
     "text": [
      "Training Time: 0.0105 seconds\n"
     ]
    }
   ],
   "source": [
    "# Initialize and train Decision Tree Classifier\n",
    "dt_classifier = DecisionTreeClassifier(random_state=42)\n",
    "start_time = time.time()\n",
    "dt_classifier.fit(X_train, y_train)\n",
    "train_time = time.time() - start_time\n",
    "print(f\"Training Time: {train_time:.4f} seconds\")"
   ]
  },
  {
   "cell_type": "code",
   "execution_count": 16,
   "id": "48LKWDpQ5Q7k",
   "metadata": {
    "colab": {
     "base_uri": "https://localhost:8080/",
     "height": 1000
    },
    "id": "48LKWDpQ5Q7k",
    "outputId": "d10923ea-abcb-4045-b939-e7048b138a93"
   },
   "outputs": [
    {
     "name": "stdout",
     "output_type": "stream",
     "text": [
      "\n",
      "Decision Tree Model Evaluation:\n",
      "\n",
      "Evaluating on Training Data:\n",
      "Training Accuracy: 1.00\n",
      "\n",
      "Training Classification Report:\n",
      "              precision    recall  f1-score   support\n",
      "\n",
      "     Class 0       1.00      1.00      1.00        27\n",
      "     Class 1       1.00      1.00      1.00        23\n",
      "\n",
      "    accuracy                           1.00        50\n",
      "   macro avg       1.00      1.00      1.00        50\n",
      "weighted avg       1.00      1.00      1.00        50\n",
      "\n"
     ]
    },
    {
     "data": {
      "image/png": "[encoded data removed]",
      "text/plain": [
       "<Figure size 600x400 with 2 Axes>"
      ]
     },
     "metadata": {},
     "output_type": "display_data"
    },
    {
     "name": "stdout",
     "output_type": "stream",
     "text": [
      "\n",
      "Evaluating on Testing Data:\n",
      "Testing Accuracy: 0.90\n",
      "\n",
      "Testing Classification Report:\n",
      "              precision    recall  f1-score   support\n",
      "\n",
      "     Class 0       1.00      0.80      0.89        25\n",
      "     Class 1       0.83      1.00      0.91        25\n",
      "\n",
      "    accuracy                           0.90        50\n",
      "   macro avg       0.92      0.90      0.90        50\n",
      "weighted avg       0.92      0.90      0.90        50\n",
      "\n"
     ]
    },
    {
     "data": {
      "image/png": "[encoded data removed]",
      "text/plain": [
       "<Figure size 600x400 with 2 Axes>"
      ]
     },
     "metadata": {},
     "output_type": "display_data"
    }
   ],
   "source": [
    "# Evaluate Decision Tree model on both training and testing data\n",
    "print(\"\\nDecision Tree Model Evaluation:\")\n",
    "evaluate_model(dt_classifier, X_train, X_test, y_train, y_test)"
   ]
  },
  {
   "cell_type": "code",
   "execution_count": 17,
   "id": "MUBUw0gy9q2d",
   "metadata": {
    "colab": {
     "base_uri": "https://localhost:8080/",
     "height": 600
    },
    "id": "MUBUw0gy9q2d",
    "outputId": "9a9e946b-ac48-4a92-86fe-bac1423af44c"
   },
   "outputs": [
    {
     "data": {
      "image/png": "[encoded data removed]",
      "text/plain": [
       "<Figure size 800x600 with 1 Axes>"
      ]
     },
     "metadata": {},
     "output_type": "display_data"
    },
    {
     "name": "stdout",
     "output_type": "stream",
     "text": [
      "Decision Tree ROC-AUC Score on Training Data: 1.00\n",
      "Decision Tree ROC-AUC Score on Testing Data: 0.90\n"
     ]
    }
   ],
   "source": [
    "# Plot AUC-ROC for Decision Tree on both training and testing data\n",
    "plot_roc_auc_train_test(dt_classifier, X_train, X_test, y_train, y_test, \"Decision Tree\")"
   ]
  },
  {
   "cell_type": "markdown",
   "id": "989e1699-dd59-4dd4-91a7-c76af6d9176e",
   "metadata": {
    "id": "989e1699-dd59-4dd4-91a7-c76af6d9176e"
   },
   "source": [
    "#### **Random Forest**"
   ]
  },
  {
   "cell_type": "code",
   "execution_count": 18,
   "id": "a206d2be-bff3-40b9-96d7-d5ea29e0cff5",
   "metadata": {
    "colab": {
     "base_uri": "https://localhost:8080/"
    },
    "id": "a206d2be-bff3-40b9-96d7-d5ea29e0cff5",
    "outputId": "37c002a2-73e0-4fc9-bd1b-af170b4780ca"
   },
   "outputs": [
    {
     "name": "stdout",
     "output_type": "stream",
     "text": [
      "Training Time: 0.1133 seconds\n"
     ]
    }
   ],
   "source": [
    "# Initialize and train Random Forest Classifier\n",
    "rf_classifier = RandomForestClassifier(n_estimators=100, random_state=42)\n",
    "start_time = time.time()\n",
    "rf_classifier.fit(X_train, y_train)\n",
    "train_time = time.time() - start_time\n",
    "print(f\"Training Time: {train_time:.4f} seconds\")"
   ]
  },
  {
   "cell_type": "code",
   "execution_count": 19,
   "id": "dffc42dc",
   "metadata": {},
   "outputs": [
    {
     "name": "stdout",
     "output_type": "stream",
     "text": [
      "25 50\n"
     ]
    }
   ],
   "source": [
    "print(sum(y_test),len(y_test))"
   ]
  },
  {
   "cell_type": "code",
   "execution_count": 20,
   "id": "wUaHQn_S5cN6",
   "metadata": {
    "colab": {
     "base_uri": "https://localhost:8080/",
     "height": 1000
    },
    "id": "wUaHQn_S5cN6",
    "outputId": "b16226c4-e878-49d3-8697-bdfb47e2b1da"
   },
   "outputs": [
    {
     "name": "stdout",
     "output_type": "stream",
     "text": [
      "\n",
      "Random Forest Model Evaluation:\n",
      "\n",
      "Evaluating on Training Data:\n",
      "Training Accuracy: 1.00\n",
      "\n",
      "Training Classification Report:\n",
      "              precision    recall  f1-score   support\n",
      "\n",
      "     Class 0       1.00      1.00      1.00        27\n",
      "     Class 1       1.00      1.00      1.00        23\n",
      "\n",
      "    accuracy                           1.00        50\n",
      "   macro avg       1.00      1.00      1.00        50\n",
      "weighted avg       1.00      1.00      1.00        50\n",
      "\n"
     ]
    },
    {
     "data": {
      "image/png": "[encoded data removed]",
      "text/plain": [
       "<Figure size 600x400 with 2 Axes>"
      ]
     },
     "metadata": {},
     "output_type": "display_data"
    },
    {
     "name": "stdout",
     "output_type": "stream",
     "text": [
      "\n",
      "Evaluating on Testing Data:\n",
      "Testing Accuracy: 0.90\n",
      "\n",
      "Testing Classification Report:\n",
      "              precision    recall  f1-score   support\n",
      "\n",
      "     Class 0       1.00      0.80      0.89        25\n",
      "     Class 1       0.83      1.00      0.91        25\n",
      "\n",
      "    accuracy                           0.90        50\n",
      "   macro avg       0.92      0.90      0.90        50\n",
      "weighted avg       0.92      0.90      0.90        50\n",
      "\n"
     ]
    },
    {
     "data": {
      "image/png": "[encoded data removed]",
      "text/plain": [
       "<Figure size 600x400 with 2 Axes>"
      ]
     },
     "metadata": {},
     "output_type": "display_data"
    }
   ],
   "source": [
    "# Evaluate Random Forest model on both training and testing data\n",
    "print(\"\\nRandom Forest Model Evaluation:\")\n",
    "evaluate_model(rf_classifier, X_train, X_test, y_train, y_test)"
   ]
  },
  {
   "cell_type": "code",
   "execution_count": 21,
   "id": "a6520192-0ea6-44d6-a0f1-b842dd3ff6c2",
   "metadata": {
    "colab": {
     "base_uri": "https://localhost:8080/",
     "height": 600
    },
    "id": "a6520192-0ea6-44d6-a0f1-b842dd3ff6c2",
    "outputId": "91ab5b52-8731-458f-ddd9-8c088435f348"
   },
   "outputs": [
    {
     "data": {
      "image/png": "[encoded data removed]",
      "text/plain": [
       "<Figure size 800x600 with 1 Axes>"
      ]
     },
     "metadata": {},
     "output_type": "display_data"
    },
    {
     "name": "stdout",
     "output_type": "stream",
     "text": [
      "Random Forest ROC-AUC Score on Training Data: 1.00\n",
      "Random Forest ROC-AUC Score on Testing Data: 0.99\n"
     ]
    }
   ],
   "source": [
    "# Plot AUC-ROC for Random Forest on both training and testing data\n",
    "plot_roc_auc_train_test(rf_classifier, X_train, X_test, y_train, y_test, \"Random Forest\")"
   ]
  },
  {
   "cell_type": "code",
   "execution_count": 22,
   "id": "1c6b0247",
   "metadata": {},
   "outputs": [],
   "source": [
    "electoral_college = {\n",
    "    'Alabama': 9, 'Alaska': 3, 'Arizona': 11, 'Arkansas': 6, 'California': 54,\n",
    "    'Colorado': 10, 'Connecticut': 7, 'Delaware': 3, 'Florida': 30, 'Georgia': 16,\n",
    "    'Hawaii': 4, 'Idaho': 4, 'Illinois': 19, 'Indiana': 11, 'Iowa': 6, 'Kansas': 6,\n",
    "    'Kentucky': 8, 'Louisiana': 8, 'Maine': 4, 'Maryland': 10, 'Massachusetts': 11,\n",
    "    'Michigan': 15, 'Minnesota': 10, 'Mississippi': 6, 'Missouri': 10, 'Montana': 4,\n",
    "    'Nebraska': 5, 'Nevada': 6, 'New Hampshire': 4, 'New Jersey': 14, 'New Mexico': 5,\n",
    "    'New York': 28, 'North Carolina': 16, 'North Dakota': 3, 'Ohio': 17, 'Oklahoma': 7,\n",
    "    'Oregon': 8, 'Pennsylvania': 19, 'Rhode Island': 4, 'South Carolina': 9, 'South Dakota': 3,\n",
    "    'Tennessee': 11, 'Texas': 40, 'Utah': 6, 'Vermont': 3, 'Virginia': 13, 'Washington': 12,\n",
    "    'West Virginia': 4, 'Wisconsin': 10, 'Wyoming': 3, 'District of Columbia': 3,\"WashingtonDC\":2\n",
    "}"
   ]
  },
  {
   "cell_type": "code",
   "execution_count": 23,
   "id": "ffc7c5a8",
   "metadata": {},
   "outputs": [
    {
     "data": {
      "text/html": [
       "<div>\n",
       "<style scoped>\n",
       "    .dataframe tbody tr th:only-of-type {\n",
       "        vertical-align: middle;\n",
       "    }\n",
       "\n",
       "    .dataframe tbody tr th {\n",
       "        vertical-align: top;\n",
       "    }\n",
       "\n",
       "    .dataframe thead th {\n",
       "        text-align: right;\n",
       "    }\n",
       "</style>\n",
       "<table border=\"1\" class=\"dataframe\">\n",
       "  <thead>\n",
       "    <tr style=\"text-align: right;\">\n",
       "      <th></th>\n",
       "      <th>prediction</th>\n",
       "      <th>electoral_college_Seats</th>\n",
       "    </tr>\n",
       "  </thead>\n",
       "  <tbody>\n",
       "    <tr>\n",
       "      <th>0</th>\n",
       "      <td>0</td>\n",
       "      <td>233</td>\n",
       "    </tr>\n",
       "    <tr>\n",
       "      <th>1</th>\n",
       "      <td>1</td>\n",
       "      <td>302</td>\n",
       "    </tr>\n",
       "  </tbody>\n",
       "</table>\n",
       "</div>"
      ],
      "text/plain": [
       "   prediction  electoral_college_Seats\n",
       "0           0                      233\n",
       "1           1                      302"
      ]
     },
     "execution_count": 23,
     "metadata": {},
     "output_type": "execute_result"
    }
   ],
   "source": [
    "y_test_pred = dt_classifier.predict(X_test)\n",
    "dt_df = pd.DataFrame(y_test_pred,columns=['prediction'])\n",
    "states = pd.read_csv(\"D:\\\\loyalist\\\\sem2\\\\step2\\\\2023_out_heading_matched.csv\")[['state']]\n",
    "dt_df['state']=states\n",
    "dt_df['target']=y_test\n",
    "dt_df['electoral_college_Seats'] = dt_df['state'].map(lambda x: electoral_college[x])\n",
    "dt_df.groupby(['prediction'])['electoral_college_Seats'].sum().reset_index()"
   ]
  },
  {
   "cell_type": "code",
   "execution_count": 24,
   "id": "a44cc3ed-d04c-4182-bfbb-3bea139c6a54",
   "metadata": {},
   "outputs": [],
   "source": [
    "dc =  pd.DataFrame([{'prediction': 0, 'state': 'WashingtonDC', 'target': 0, 'electoral_college_Seats': 2}])"
   ]
  },
  {
   "cell_type": "code",
   "execution_count": 25,
   "id": "71a0f4dc",
   "metadata": {},
   "outputs": [
    {
     "data": {
      "text/html": [
       "<div>\n",
       "<style scoped>\n",
       "    .dataframe tbody tr th:only-of-type {\n",
       "        vertical-align: middle;\n",
       "    }\n",
       "\n",
       "    .dataframe tbody tr th {\n",
       "        vertical-align: top;\n",
       "    }\n",
       "\n",
       "    .dataframe thead th {\n",
       "        text-align: right;\n",
       "    }\n",
       "</style>\n",
       "<table border=\"1\" class=\"dataframe\">\n",
       "  <thead>\n",
       "    <tr style=\"text-align: right;\">\n",
       "      <th></th>\n",
       "      <th>prediction</th>\n",
       "      <th>electoral_college_Seats</th>\n",
       "    </tr>\n",
       "  </thead>\n",
       "  <tbody>\n",
       "    <tr>\n",
       "      <th>0</th>\n",
       "      <td>0</td>\n",
       "      <td>235</td>\n",
       "    </tr>\n",
       "    <tr>\n",
       "      <th>1</th>\n",
       "      <td>1</td>\n",
       "      <td>302</td>\n",
       "    </tr>\n",
       "  </tbody>\n",
       "</table>\n",
       "</div>"
      ],
      "text/plain": [
       "   prediction  electoral_college_Seats\n",
       "0           0                      235\n",
       "1           1                      302"
      ]
     },
     "execution_count": 25,
     "metadata": {},
     "output_type": "execute_result"
    }
   ],
   "source": [
    "y_test_pred = rf_classifier.predict(X_test)\n",
    "fdf = pd.DataFrame(y_test_pred,columns=['prediction'])\n",
    "states = pd.read_csv('D:\\\\loyalist\\\\sem2\\\\step2\\\\2023_out_heading_matched.csv')[['state']]\n",
    "fdf['state']=states\n",
    "fdf['target']=y_test\n",
    "fdf= pd.concat([fdf, dc], ignore_index=True)\n",
    "fdf['electoral_college_Seats'] = fdf['state'].map(lambda x: electoral_college[x])\n",
    "fdf.groupby(['prediction'])['electoral_college_Seats'].sum().reset_index()"
   ]
  },
  {
   "cell_type": "code",
   "execution_count": 26,
   "id": "d9fcc2ff",
   "metadata": {},
   "outputs": [
    {
     "data": {
      "text/html": [
       "<div>\n",
       "<style scoped>\n",
       "    .dataframe tbody tr th:only-of-type {\n",
       "        vertical-align: middle;\n",
       "    }\n",
       "\n",
       "    .dataframe tbody tr th {\n",
       "        vertical-align: top;\n",
       "    }\n",
       "\n",
       "    .dataframe thead th {\n",
       "        text-align: right;\n",
       "    }\n",
       "</style>\n",
       "<table border=\"1\" class=\"dataframe\">\n",
       "  <thead>\n",
       "    <tr style=\"text-align: right;\">\n",
       "      <th></th>\n",
       "      <th>prediction</th>\n",
       "      <th>state</th>\n",
       "      <th>target</th>\n",
       "      <th>electoral_college_Seats</th>\n",
       "    </tr>\n",
       "  </thead>\n",
       "  <tbody>\n",
       "    <tr>\n",
       "      <th>0</th>\n",
       "      <td>1</td>\n",
       "      <td>Alabama</td>\n",
       "      <td>1</td>\n",
       "      <td>9</td>\n",
       "    </tr>\n",
       "    <tr>\n",
       "      <th>1</th>\n",
       "      <td>1</td>\n",
       "      <td>Alaska</td>\n",
       "      <td>1</td>\n",
       "      <td>3</td>\n",
       "    </tr>\n",
       "    <tr>\n",
       "      <th>2</th>\n",
       "      <td>1</td>\n",
       "      <td>Arizona</td>\n",
       "      <td>0</td>\n",
       "      <td>11</td>\n",
       "    </tr>\n",
       "    <tr>\n",
       "      <th>3</th>\n",
       "      <td>1</td>\n",
       "      <td>Arkansas</td>\n",
       "      <td>1</td>\n",
       "      <td>6</td>\n",
       "    </tr>\n",
       "    <tr>\n",
       "      <th>4</th>\n",
       "      <td>0</td>\n",
       "      <td>California</td>\n",
       "      <td>0</td>\n",
       "      <td>54</td>\n",
       "    </tr>\n",
       "    <tr>\n",
       "      <th>5</th>\n",
       "      <td>0</td>\n",
       "      <td>Colorado</td>\n",
       "      <td>0</td>\n",
       "      <td>10</td>\n",
       "    </tr>\n",
       "    <tr>\n",
       "      <th>6</th>\n",
       "      <td>0</td>\n",
       "      <td>Connecticut</td>\n",
       "      <td>0</td>\n",
       "      <td>7</td>\n",
       "    </tr>\n",
       "    <tr>\n",
       "      <th>7</th>\n",
       "      <td>0</td>\n",
       "      <td>Delaware</td>\n",
       "      <td>0</td>\n",
       "      <td>3</td>\n",
       "    </tr>\n",
       "    <tr>\n",
       "      <th>8</th>\n",
       "      <td>1</td>\n",
       "      <td>Florida</td>\n",
       "      <td>1</td>\n",
       "      <td>30</td>\n",
       "    </tr>\n",
       "    <tr>\n",
       "      <th>9</th>\n",
       "      <td>1</td>\n",
       "      <td>Georgia</td>\n",
       "      <td>0</td>\n",
       "      <td>16</td>\n",
       "    </tr>\n",
       "    <tr>\n",
       "      <th>10</th>\n",
       "      <td>0</td>\n",
       "      <td>Hawaii</td>\n",
       "      <td>0</td>\n",
       "      <td>4</td>\n",
       "    </tr>\n",
       "    <tr>\n",
       "      <th>11</th>\n",
       "      <td>1</td>\n",
       "      <td>Idaho</td>\n",
       "      <td>1</td>\n",
       "      <td>4</td>\n",
       "    </tr>\n",
       "    <tr>\n",
       "      <th>12</th>\n",
       "      <td>0</td>\n",
       "      <td>Illinois</td>\n",
       "      <td>0</td>\n",
       "      <td>19</td>\n",
       "    </tr>\n",
       "    <tr>\n",
       "      <th>13</th>\n",
       "      <td>1</td>\n",
       "      <td>Indiana</td>\n",
       "      <td>1</td>\n",
       "      <td>11</td>\n",
       "    </tr>\n",
       "    <tr>\n",
       "      <th>14</th>\n",
       "      <td>1</td>\n",
       "      <td>Iowa</td>\n",
       "      <td>1</td>\n",
       "      <td>6</td>\n",
       "    </tr>\n",
       "    <tr>\n",
       "      <th>15</th>\n",
       "      <td>1</td>\n",
       "      <td>Kansas</td>\n",
       "      <td>1</td>\n",
       "      <td>6</td>\n",
       "    </tr>\n",
       "    <tr>\n",
       "      <th>16</th>\n",
       "      <td>1</td>\n",
       "      <td>Kentucky</td>\n",
       "      <td>1</td>\n",
       "      <td>8</td>\n",
       "    </tr>\n",
       "    <tr>\n",
       "      <th>17</th>\n",
       "      <td>1</td>\n",
       "      <td>Louisiana</td>\n",
       "      <td>1</td>\n",
       "      <td>8</td>\n",
       "    </tr>\n",
       "    <tr>\n",
       "      <th>18</th>\n",
       "      <td>0</td>\n",
       "      <td>Maine</td>\n",
       "      <td>0</td>\n",
       "      <td>4</td>\n",
       "    </tr>\n",
       "    <tr>\n",
       "      <th>19</th>\n",
       "      <td>0</td>\n",
       "      <td>Maryland</td>\n",
       "      <td>0</td>\n",
       "      <td>10</td>\n",
       "    </tr>\n",
       "    <tr>\n",
       "      <th>20</th>\n",
       "      <td>0</td>\n",
       "      <td>Massachusetts</td>\n",
       "      <td>0</td>\n",
       "      <td>11</td>\n",
       "    </tr>\n",
       "    <tr>\n",
       "      <th>21</th>\n",
       "      <td>1</td>\n",
       "      <td>Michigan</td>\n",
       "      <td>0</td>\n",
       "      <td>15</td>\n",
       "    </tr>\n",
       "    <tr>\n",
       "      <th>22</th>\n",
       "      <td>0</td>\n",
       "      <td>Minnesota</td>\n",
       "      <td>0</td>\n",
       "      <td>10</td>\n",
       "    </tr>\n",
       "    <tr>\n",
       "      <th>23</th>\n",
       "      <td>1</td>\n",
       "      <td>Mississippi</td>\n",
       "      <td>1</td>\n",
       "      <td>6</td>\n",
       "    </tr>\n",
       "    <tr>\n",
       "      <th>24</th>\n",
       "      <td>1</td>\n",
       "      <td>Missouri</td>\n",
       "      <td>1</td>\n",
       "      <td>10</td>\n",
       "    </tr>\n",
       "    <tr>\n",
       "      <th>25</th>\n",
       "      <td>1</td>\n",
       "      <td>Montana</td>\n",
       "      <td>1</td>\n",
       "      <td>4</td>\n",
       "    </tr>\n",
       "    <tr>\n",
       "      <th>26</th>\n",
       "      <td>1</td>\n",
       "      <td>Nebraska</td>\n",
       "      <td>1</td>\n",
       "      <td>5</td>\n",
       "    </tr>\n",
       "    <tr>\n",
       "      <th>27</th>\n",
       "      <td>1</td>\n",
       "      <td>Nevada</td>\n",
       "      <td>0</td>\n",
       "      <td>6</td>\n",
       "    </tr>\n",
       "    <tr>\n",
       "      <th>28</th>\n",
       "      <td>0</td>\n",
       "      <td>New Hampshire</td>\n",
       "      <td>0</td>\n",
       "      <td>4</td>\n",
       "    </tr>\n",
       "    <tr>\n",
       "      <th>29</th>\n",
       "      <td>0</td>\n",
       "      <td>New Jersey</td>\n",
       "      <td>0</td>\n",
       "      <td>14</td>\n",
       "    </tr>\n",
       "    <tr>\n",
       "      <th>30</th>\n",
       "      <td>0</td>\n",
       "      <td>New Mexico</td>\n",
       "      <td>0</td>\n",
       "      <td>5</td>\n",
       "    </tr>\n",
       "    <tr>\n",
       "      <th>31</th>\n",
       "      <td>0</td>\n",
       "      <td>New York</td>\n",
       "      <td>0</td>\n",
       "      <td>28</td>\n",
       "    </tr>\n",
       "    <tr>\n",
       "      <th>32</th>\n",
       "      <td>1</td>\n",
       "      <td>North Carolina</td>\n",
       "      <td>1</td>\n",
       "      <td>16</td>\n",
       "    </tr>\n",
       "    <tr>\n",
       "      <th>33</th>\n",
       "      <td>1</td>\n",
       "      <td>North Dakota</td>\n",
       "      <td>1</td>\n",
       "      <td>3</td>\n",
       "    </tr>\n",
       "    <tr>\n",
       "      <th>34</th>\n",
       "      <td>1</td>\n",
       "      <td>Ohio</td>\n",
       "      <td>1</td>\n",
       "      <td>17</td>\n",
       "    </tr>\n",
       "    <tr>\n",
       "      <th>35</th>\n",
       "      <td>1</td>\n",
       "      <td>Oklahoma</td>\n",
       "      <td>1</td>\n",
       "      <td>7</td>\n",
       "    </tr>\n",
       "    <tr>\n",
       "      <th>36</th>\n",
       "      <td>0</td>\n",
       "      <td>Oregon</td>\n",
       "      <td>0</td>\n",
       "      <td>8</td>\n",
       "    </tr>\n",
       "    <tr>\n",
       "      <th>37</th>\n",
       "      <td>1</td>\n",
       "      <td>Pennsylvania</td>\n",
       "      <td>0</td>\n",
       "      <td>19</td>\n",
       "    </tr>\n",
       "    <tr>\n",
       "      <th>38</th>\n",
       "      <td>0</td>\n",
       "      <td>Rhode Island</td>\n",
       "      <td>0</td>\n",
       "      <td>4</td>\n",
       "    </tr>\n",
       "    <tr>\n",
       "      <th>39</th>\n",
       "      <td>1</td>\n",
       "      <td>South Carolina</td>\n",
       "      <td>1</td>\n",
       "      <td>9</td>\n",
       "    </tr>\n",
       "    <tr>\n",
       "      <th>40</th>\n",
       "      <td>1</td>\n",
       "      <td>South Dakota</td>\n",
       "      <td>1</td>\n",
       "      <td>3</td>\n",
       "    </tr>\n",
       "    <tr>\n",
       "      <th>41</th>\n",
       "      <td>1</td>\n",
       "      <td>Tennessee</td>\n",
       "      <td>1</td>\n",
       "      <td>11</td>\n",
       "    </tr>\n",
       "    <tr>\n",
       "      <th>42</th>\n",
       "      <td>1</td>\n",
       "      <td>Texas</td>\n",
       "      <td>1</td>\n",
       "      <td>40</td>\n",
       "    </tr>\n",
       "    <tr>\n",
       "      <th>43</th>\n",
       "      <td>1</td>\n",
       "      <td>Utah</td>\n",
       "      <td>1</td>\n",
       "      <td>6</td>\n",
       "    </tr>\n",
       "    <tr>\n",
       "      <th>44</th>\n",
       "      <td>0</td>\n",
       "      <td>Vermont</td>\n",
       "      <td>0</td>\n",
       "      <td>3</td>\n",
       "    </tr>\n",
       "    <tr>\n",
       "      <th>45</th>\n",
       "      <td>0</td>\n",
       "      <td>Virginia</td>\n",
       "      <td>0</td>\n",
       "      <td>13</td>\n",
       "    </tr>\n",
       "    <tr>\n",
       "      <th>46</th>\n",
       "      <td>0</td>\n",
       "      <td>Washington</td>\n",
       "      <td>0</td>\n",
       "      <td>12</td>\n",
       "    </tr>\n",
       "    <tr>\n",
       "      <th>47</th>\n",
       "      <td>1</td>\n",
       "      <td>West Virginia</td>\n",
       "      <td>1</td>\n",
       "      <td>4</td>\n",
       "    </tr>\n",
       "    <tr>\n",
       "      <th>48</th>\n",
       "      <td>0</td>\n",
       "      <td>Wisconsin</td>\n",
       "      <td>0</td>\n",
       "      <td>10</td>\n",
       "    </tr>\n",
       "    <tr>\n",
       "      <th>49</th>\n",
       "      <td>1</td>\n",
       "      <td>Wyoming</td>\n",
       "      <td>1</td>\n",
       "      <td>3</td>\n",
       "    </tr>\n",
       "    <tr>\n",
       "      <th>50</th>\n",
       "      <td>0</td>\n",
       "      <td>WashingtonDC</td>\n",
       "      <td>0</td>\n",
       "      <td>2</td>\n",
       "    </tr>\n",
       "  </tbody>\n",
       "</table>\n",
       "</div>"
      ],
      "text/plain": [
       "    prediction           state  target  electoral_college_Seats\n",
       "0            1         Alabama       1                        9\n",
       "1            1          Alaska       1                        3\n",
       "2            1         Arizona       0                       11\n",
       "3            1        Arkansas       1                        6\n",
       "4            0      California       0                       54\n",
       "5            0        Colorado       0                       10\n",
       "6            0     Connecticut       0                        7\n",
       "7            0        Delaware       0                        3\n",
       "8            1         Florida       1                       30\n",
       "9            1         Georgia       0                       16\n",
       "10           0          Hawaii       0                        4\n",
       "11           1           Idaho       1                        4\n",
       "12           0        Illinois       0                       19\n",
       "13           1         Indiana       1                       11\n",
       "14           1            Iowa       1                        6\n",
       "15           1          Kansas       1                        6\n",
       "16           1        Kentucky       1                        8\n",
       "17           1       Louisiana       1                        8\n",
       "18           0           Maine       0                        4\n",
       "19           0        Maryland       0                       10\n",
       "20           0   Massachusetts       0                       11\n",
       "21           1        Michigan       0                       15\n",
       "22           0       Minnesota       0                       10\n",
       "23           1     Mississippi       1                        6\n",
       "24           1        Missouri       1                       10\n",
       "25           1         Montana       1                        4\n",
       "26           1        Nebraska       1                        5\n",
       "27           1          Nevada       0                        6\n",
       "28           0   New Hampshire       0                        4\n",
       "29           0      New Jersey       0                       14\n",
       "30           0      New Mexico       0                        5\n",
       "31           0        New York       0                       28\n",
       "32           1  North Carolina       1                       16\n",
       "33           1    North Dakota       1                        3\n",
       "34           1            Ohio       1                       17\n",
       "35           1        Oklahoma       1                        7\n",
       "36           0          Oregon       0                        8\n",
       "37           1    Pennsylvania       0                       19\n",
       "38           0    Rhode Island       0                        4\n",
       "39           1  South Carolina       1                        9\n",
       "40           1    South Dakota       1                        3\n",
       "41           1       Tennessee       1                       11\n",
       "42           1           Texas       1                       40\n",
       "43           1            Utah       1                        6\n",
       "44           0         Vermont       0                        3\n",
       "45           0        Virginia       0                       13\n",
       "46           0      Washington       0                       12\n",
       "47           1   West Virginia       1                        4\n",
       "48           0       Wisconsin       0                       10\n",
       "49           1         Wyoming       1                        3\n",
       "50           0    WashingtonDC       0                        2"
      ]
     },
     "execution_count": 26,
     "metadata": {},
     "output_type": "execute_result"
    }
   ],
   "source": [
    "fdf"
   ]
  },
  {
   "cell_type": "code",
   "execution_count": 27,
   "id": "86cd8a39-d13a-4d2b-b523-b3fc93ce26a7",
   "metadata": {},
   "outputs": [],
   "source": [
    "import pandas as pd\n",
    "import matplotlib.pyplot as plt\n",
    "# %matplolib% inline\n",
    "import seaborn as sns\n",
    "# import numpy as np\n",
    "from sklearn.ensemble import AdaBoostClassifier\n",
    "from sklearn.tree import DecisionTreeClassifier\n",
    "from sklearn.model_selection import train_test_split\n",
    "from sklearn import metrics"
   ]
  },
  {
   "cell_type": "code",
   "execution_count": 28,
   "id": "fe3e3559-2ec3-410c-8723-5d69117c8b34",
   "metadata": {},
   "outputs": [],
   "source": [
    "train_df = pd.read_csv(\"D:\\\\loyalist\\\\sem2\\\\step2\\\\2020_out_heading_matched_out.csv\")\n",
    "test_df = pd.read_csv(\"D:\\\\loyalist\\\\sem2\\\\step2\\\\2023_out_heading_matched_out.csv\")\n"
   ]
  },
  {
   "cell_type": "code",
   "execution_count": 29,
   "id": "82bf6165-f6d9-462a-a210-40fac6e95602",
   "metadata": {},
   "outputs": [],
   "source": [
    "# Train features\n",
    "X_train = train_df.drop(columns=['Target'])\n",
    "\n",
    "# Train target\n",
    "y_train = train_df[['Target']]"
   ]
  },
  {
   "cell_type": "code",
   "execution_count": 30,
   "id": "1aa418b8-a50e-496e-bc75-14e29f17a968",
   "metadata": {},
   "outputs": [],
   "source": [
    "# Test features\n",
    "X_test = test_df.drop(columns=['Target'])\n",
    "\n",
    "# Test target\n",
    "y_test = test_df[['Target']]"
   ]
  },
  {
   "cell_type": "code",
   "execution_count": 31,
   "id": "48248eb7-e94a-484c-9481-175a74aecc2b",
   "metadata": {},
   "outputs": [],
   "source": [
    "# Creating the Adaboost Classifier\n",
    "ada = AdaBoostClassifier(estimator=DecisionTreeClassifier(max_depth=1), n_estimators=50, learning_rate=1)"
   ]
  },
  {
   "cell_type": "code",
   "execution_count": 32,
   "id": "8ae90641-63b3-4629-ae61-0173c1d7190c",
   "metadata": {},
   "outputs": [
    {
     "name": "stderr",
     "output_type": "stream",
     "text": [
      "C:\\Users\\mdabd\\AppData\\Roaming\\Python\\Python311\\site-packages\\sklearn\\utils\\validation.py:1339: DataConversionWarning: A column-vector y was passed when a 1d array was expected. Please change the shape of y to (n_samples, ), for example using ravel().\n",
      "  y = column_or_1d(y, warn=True)\n",
      "C:\\Users\\mdabd\\AppData\\Roaming\\Python\\Python311\\site-packages\\sklearn\\ensemble\\_weight_boosting.py:527: FutureWarning: The SAMME.R algorithm (the default) is deprecated and will be removed in 1.6. Use the SAMME algorithm to circumvent this warning.\n",
      "  warnings.warn(\n"
     ]
    }
   ],
   "source": [
    "# Fit the model\n",
    "ada_model = ada.fit(X_train, y_train)"
   ]
  },
  {
   "cell_type": "code",
   "execution_count": 33,
   "id": "a049e980-663c-4628-aa92-8bcc493e0204",
   "metadata": {},
   "outputs": [],
   "source": [
    "# Predict with X_test\n",
    "y_pred = ada_model.predict(X_test)"
   ]
  },
  {
   "cell_type": "code",
   "execution_count": 34,
   "id": "b6045a50-be9e-4a84-96a8-a9174b8a8bc6",
   "metadata": {},
   "outputs": [
    {
     "name": "stdout",
     "output_type": "stream",
     "text": [
      "Accuracy: 0.9\n",
      "Precision: 0.92\n",
      "Recall: 0.9\n",
      "F1 Score: 0.90\n"
     ]
    }
   ],
   "source": [
    "# Model evaluation\n",
    "accuracy = metrics.accuracy_score(y_test, y_pred)\n",
    "precision = metrics.precision_score(y_test, y_pred, average='weighted')\n",
    "recall = metrics.recall_score(y_test, y_pred, average='weighted')\n",
    "f1 = metrics.f1_score(y_test, y_pred, average='weighted')\n",
    "\n",
    "print(f'Accuracy: {accuracy}')\n",
    "print(f'Precision: {precision:.2f}')\n",
    "print(f'Recall: {recall}')\n",
    "print(f'F1 Score: {f1:.2f}')"
   ]
  },
  {
   "cell_type": "code",
   "execution_count": 35,
   "id": "0946f741-966e-4a8f-b92c-9b40b0c26f21",
   "metadata": {},
   "outputs": [
    {
     "data": {
      "image/png": "[encoded data removed]",
      "text/plain": [
       "<Figure size 800x600 with 2 Axes>"
      ]
     },
     "metadata": {},
     "output_type": "display_data"
    }
   ],
   "source": [
    "# Model evaluation\n",
    "# Confusion matrix\n",
    "cf = metrics.confusion_matrix(y_test, y_pred)\n",
    "\n",
    "# Confusion matrix plot\n",
    "plt.figure(figsize=(8,6))\n",
    "sns.heatmap(cf, annot=True, fmt='d', cmap='Blues', xticklabels=ada_model.classes_, yticklabels=ada_model.classes_)\n",
    "plt.xlabel('Predicted')\n",
    "plt.ylabel('Actual')\n",
    "plt.title('Confusion Matrix')\n",
    "plt.show()"
   ]
  },
  {
   "cell_type": "code",
   "execution_count": 36,
   "id": "4d69f29a",
   "metadata": {},
   "outputs": [],
   "source": [
    "from sklearn.ensemble import VotingClassifier"
   ]
  },
  {
   "cell_type": "code",
   "execution_count": 37,
   "id": "72ceae8f",
   "metadata": {},
   "outputs": [],
   "source": [
    "ensemble = VotingClassifier(estimators=[('rf', rf_classifier), ('ada', ada)], voting='hard')"
   ]
  },
  {
   "cell_type": "code",
   "execution_count": 38,
   "id": "72eed670-f651-4e10-bfb0-e543130a6308",
   "metadata": {},
   "outputs": [
    {
     "name": "stderr",
     "output_type": "stream",
     "text": [
      "C:\\Users\\mdabd\\AppData\\Roaming\\Python\\Python311\\site-packages\\sklearn\\preprocessing\\_label.py:97: DataConversionWarning: A column-vector y was passed when a 1d array was expected. Please change the shape of y to (n_samples, ), for example using ravel().\n",
      "  y = column_or_1d(y, warn=True)\n",
      "C:\\Users\\mdabd\\AppData\\Roaming\\Python\\Python311\\site-packages\\sklearn\\preprocessing\\_label.py:132: DataConversionWarning: A column-vector y was passed when a 1d array was expected. Please change the shape of y to (n_samples, ), for example using ravel().\n",
      "  y = column_or_1d(y, dtype=self.classes_.dtype, warn=True)\n",
      "C:\\Users\\mdabd\\AppData\\Roaming\\Python\\Python311\\site-packages\\sklearn\\ensemble\\_weight_boosting.py:527: FutureWarning: The SAMME.R algorithm (the default) is deprecated and will be removed in 1.6. Use the SAMME algorithm to circumvent this warning.\n",
      "  warnings.warn(\n"
     ]
    }
   ],
   "source": [
    "ensemble_model = ensemble.fit(X_train, y_train)"
   ]
  },
  {
   "cell_type": "code",
   "execution_count": 39,
   "id": "6cc269e9-93d1-4af7-b2dc-60478845e231",
   "metadata": {},
   "outputs": [],
   "source": [
    "# predict the model\n",
    "y_pred2 = ensemble_model.predict(X_test)"
   ]
  },
  {
   "cell_type": "code",
   "execution_count": 40,
   "id": "719fd4cc-3c82-4c00-9171-7223267574be",
   "metadata": {},
   "outputs": [
    {
     "name": "stdout",
     "output_type": "stream",
     "text": [
      "Accuracy: 0.9\n",
      "Precision: 0.92\n",
      "Recall: 0.9\n",
      "F1 Score: 0.90\n"
     ]
    }
   ],
   "source": [
    "# Model evaluation\n",
    "accuracy = metrics.accuracy_score(y_test, y_pred2)\n",
    "precision = metrics.precision_score(y_test, y_pred2, average='weighted')\n",
    "recall = metrics.recall_score(y_test, y_pred2, average='weighted')\n",
    "f1 = metrics.f1_score(y_test, y_pred2, average='weighted')\n",
    "\n",
    "print(f'Accuracy: {accuracy}')\n",
    "print(f'Precision: {precision:.2f}')\n",
    "print(f'Recall: {recall}')\n",
    "print(f'F1 Score: {f1:.2f}')"
   ]
  },
  {
   "cell_type": "code",
   "execution_count": 41,
   "id": "7f44efa5-e060-434a-8b98-32f6896a3639",
   "metadata": {},
   "outputs": [],
   "source": [
    "import pickle\n",
    "with open('D:\\\\loyalist\\\\sem2\\\\step2\\\\ensemble_model.pkl', 'wb') as file:\n",
    "    pickle.dump(ensemble_model, file)"
   ]
  },
  {
   "cell_type": "code",
   "execution_count": 42,
   "id": "57dff640-fc1c-410a-aa18-87ffc9c30303",
   "metadata": {},
   "outputs": [
    {
     "data": {
      "image/png": "[encoded data removed]",
      "text/plain": [
       "<Figure size 640x480 with 2 Axes>"
      ]
     },
     "metadata": {},
     "output_type": "display_data"
    }
   ],
   "source": [
    "# Alternatively, using ConfusionMatrixDisplay\n",
    "from sklearn.metrics import confusion_matrix, ConfusionMatrixDisplay\n",
    "cm = confusion_matrix(y_test, y_pred2)\n",
    "disp = ConfusionMatrixDisplay(confusion_matrix=cm, display_labels=['Class 0', 'Class 1'])\n",
    "disp.plot(cmap='Blues')\n",
    "plt.title('Confusion Matrix')\n",
    "plt.show()\n"
   ]
  },
  {
   "cell_type": "code",
   "execution_count": null,
   "id": "62be7794-edde-4bd2-b58f-8e5157f651a7",
   "metadata": {},
   "outputs": [],
   "source": []
  }
 ],
 "metadata": {
  "colab": {
   "provenance": []
  },
  "kernelspec": {
   "display_name": "Python 3 (ipykernel)",
   "language": "python",
   "name": "python3"
  },
  "language_info": {
   "codemirror_mode": {
    "name": "ipython",
    "version": 3
   },
   "file_extension": ".py",
   "mimetype": "text/x-python",
   "name": "python",
   "nbconvert_exporter": "python",
   "pygments_lexer": "ipython3",
   "version": "3.11.7"
  }
 },
 "nbformat": 4,
 "nbformat_minor": 5
}
