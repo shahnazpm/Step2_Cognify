{
  "nbformat": 4,
  "nbformat_minor": 0,
  "metadata": {
    "colab": {
      "provenance": []
    },
    "kernelspec": {
      "name": "python3",
      "display_name": "Python 3"
    },
    "language_info": {
      "name": "python"
    }
  },
  "cells": [
    {
      "cell_type": "markdown",
      "source": [
        "# Function"
      ],
      "metadata": {
        "id": "84GxyDHvoXPa"
      }
    },
    {
      "cell_type": "code",
      "source": [
        "import requests\n",
        "from bs4 import BeautifulSoup\n",
        "import pandas as pd\n",
        "import os\n",
        "import json\n",
        "import re\n",
        "\n",
        "\n",
        "def fetch_and_append_census_data(html_url):\n",
        "    response = requests.get(html_url)\n",
        "\n",
        "    soup = BeautifulSoup(response.text, 'html.parser')\n",
        "\n",
        "    table = soup.find('table')\n",
        "\n",
        "    geo_title = soup.find('div', id='geo_title').text.strip()\n",
        "\n",
        "    data_rows = table.find_all('tr', class_='value_row')\n",
        "\n",
        "    data = []\n",
        "    for row in data_rows:\n",
        "        cols = row.find_all('td')\n",
        "        t_col_1 = row.find('th', class_='t_col_1')\n",
        "        if t_col_1:\n",
        "            category = t_col_1.text.strip()\n",
        "\n",
        "        table_id = table.get('id') if table else ''\n",
        "\n",
        "        if len(cols) == 2:\n",
        "            title = cols[0].text.strip()\n",
        "            estimate_moe = cols[1].text.strip().split()\n",
        "            estimate = estimate_moe[0]\n",
        "            moe = estimate_moe[1] if len(estimate_moe) > 1 else ''\n",
        "            data.append([table_id, category, title, estimate, moe])\n",
        "\n",
        "    df_new = pd.DataFrame(data, columns=['Topic', 'Subject', 'Title', 'District 01 Estimate', 'District 01 MOE'])\n",
        "\n",
        "    estimate_value = df_new.at[0, 'District 01 Estimate']\n",
        "    moe_value = df_new.at[0, 'District 01 MOE']\n",
        "    combined_value = f'{estimate_value}({moe_value.strip(\"()\")})'\n",
        "\n",
        "    df_new.at[0, 'District 01 Estimate'] = combined_value\n",
        "    df_new.at[0, 'District 01 MOE'] = ''\n",
        "\n",
        "    return df_new"
      ],
      "metadata": {
        "id": "KqY9aBmUpyFN"
      },
      "execution_count": 1,
      "outputs": []
    },
    {
      "cell_type": "code",
      "source": [
        "def replace_placeholders_in_df(df, api_url):\n",
        "    response = requests.get(api_url)\n",
        "    api_response = json.loads(response.text)\n",
        "\n",
        "    def replace_placeholders(text, api_response):\n",
        "        placeholders = re.findall(r'\\$\\{([^}]+)\\}', text)\n",
        "        for placeholder in placeholders:\n",
        "            value = api_response.get(placeholder, '')\n",
        "            text = text.replace('${%s}' % placeholder, value)\n",
        "        return text\n",
        "\n",
        "    df = df.applymap(lambda x: replace_placeholders(x, api_response) if isinstance(x, str) else x)\n",
        "\n",
        "    if 'District 01 Estimate' in df.columns:\n",
        "\n",
        "      df[['District 01 Estimate', 'District 01 MOE']] = df['District 01 Estimate'].str.extract(r'([^()]+)\\(([^)]+)\\)', expand=True)\n",
        "      df['District 01 MOE'] = df['District 01 MOE'].fillna('')\n",
        "      df['District 01 MOE'] = df['District 01 MOE'].apply(lambda x: f\"(+/-{x.strip()})\" if x else '')\n",
        "\n",
        "    return df"
      ],
      "metadata": {
        "id": "OA7MLbbF6D0r"
      },
      "execution_count": 2,
      "outputs": []
    },
    {
      "cell_type": "code",
      "source": [
        "def saving_file(df, output_filename='scraped_data.xlsx'):\n",
        "    if os.path.exists(output_filename):\n",
        "        with pd.ExcelWriter(output_filename, engine='openpyxl', mode='a', if_sheet_exists='overlay') as writer:\n",
        "            df.to_excel(writer, index=False, header=False, startrow=writer.sheets['Sheet1'].max_row)\n",
        "    else:\n",
        "        df.to_excel(output_filename, index=False)\n",
        "    print(f\"Data written/appended to {output_filename}\")"
      ],
      "metadata": {
        "id": "TnlNdRvyIxqA"
      },
      "execution_count": 3,
      "outputs": []
    },
    {
      "cell_type": "code",
      "source": [
        "html_url_people = 'https://www.census.gov/mycd/application/templates/99_mcd_people.html'\n",
        "html_url_employment = 'https://www.census.gov/mycd/application/templates/99_mcd_employment.html'\n",
        "html_url_housing = 'https://www.census.gov/mycd/application/templates/99_mcd_housing.html'\n",
        "html_url_income = 'https://www.census.gov/mycd/application/templates/99_mcd_financial.html'\n",
        "html_url_education = 'https://www.census.gov/mycd/application/templates/99_mcd_education.html'\n",
        "html_url_business = 'https://www.census.gov/mycd/application/templates/99_mcd_business.php?stateId=05&districtId=02'\n",
        "\n",
        "api_url_people = 'https://www.census.gov/mycd/application/bin/functs_easystats.php?call=get_values&geo_type=CONGRESSIONAL_DISTRICT&geo_level_1=05&geo_level_2=01&url=https%3A%2F%2Fapi.census.gov%2Fdata%2F2023%2Facs%2Facs1%2Fprofile&tableid=99_mcd_people&key=f4a93d15173229253a4f234727b2902053f61bbd%3Bmycd'\n",
        "api_url_employment = 'https://www.census.gov/mycd/application/bin/functs_easystats.php?call=get_values&geo_type=CONGRESSIONAL_DISTRICT&geo_level_1=05&geo_level_2=02&url=https%3A%2F%2Fapi.census.gov%2Fdata%2F2023%2Facs%2Facs1%2Fprofile&tableid=99_mcd_employment&key=f4a93d15173229253a4f234727b2902053f61bbd%3Bmycd'\n",
        "api_url_housing = 'https://www.census.gov/mycd/application/bin/functs_easystats.php?call=get_values&geo_type=CONGRESSIONAL_DISTRICT&geo_level_1=05&geo_level_2=02&url=https%3A%2F%2Fapi.census.gov%2Fdata%2F2023%2Facs%2Facs1%2Fprofile&tableid=99_mcd_housing&key=f4a93d15173229253a4f234727b2902053f61bbd%3Bmycd'\n",
        "api_url_income = 'https://www.census.gov/mycd/application/bin/functs_easystats.php?call=get_values&geo_type=CONGRESSIONAL_DISTRICT&geo_level_1=05&geo_level_2=02&url=https%3A%2F%2Fapi.census.gov%2Fdata%2F2023%2Facs%2Facs1%2Fprofile&tableid=99_mcd_financial&key=f4a93d15173229253a4f234727b2902053f61bbd%3Bmycd'\n",
        "api_url_education = 'https://www.census.gov/mycd/application/bin/functs_easystats.php?call=get_values&geo_type=CONGRESSIONAL_DISTRICT&geo_level_1=05&geo_level_2=02&url=https%3A%2F%2Fapi.census.gov%2Fdata%2F2023%2Facs%2Facs1%2Fprofile&tableid=99_mcd_education&key=f4a93d15173229253a4f234727b2902053f61bbd%3Bmycd'\n",
        "\n",
        "\n",
        "html_df_people = fetch_and_append_census_data(html_url_people)\n",
        "html_df_employment = fetch_and_append_census_data(html_url_employment)\n",
        "html_df_housing = fetch_and_append_census_data(html_url_housing)\n",
        "html_df_income = fetch_and_append_census_data(html_url_income)\n",
        "html_df_education = fetch_and_append_census_data(html_url_education)\n",
        "# html_df_business = fetch_and_append_census_data(html_url_business)\n"
      ],
      "metadata": {
        "id": "fE-FVqcAGndu"
      },
      "execution_count": 4,
      "outputs": []
    },
    {
      "cell_type": "code",
      "source": [
        "final_df_people = replace_placeholders_in_df(html_df_people, api_url_people)\n",
        "final_df_employment = replace_placeholders_in_df(html_df_employment, api_url_employment)\n",
        "final_df_housing = replace_placeholders_in_df(html_df_housing, api_url_housing)\n",
        "final_df_income = replace_placeholders_in_df(html_df_income, api_url_income)\n",
        "final_df_education = replace_placeholders_in_df(html_df_education, api_url_education)"
      ],
      "metadata": {
        "colab": {
          "base_uri": "https://localhost:8080/"
        },
        "id": "Qrq-nWhcGqzD",
        "outputId": "827dc6a8-63a9-4073-c82c-5291e0bf4280"
      },
      "execution_count": 5,
      "outputs": [
        {
          "output_type": "stream",
          "name": "stderr",
          "text": [
            "<ipython-input-2-50d803100278>:12: FutureWarning: DataFrame.applymap has been deprecated. Use DataFrame.map instead.\n",
            "  df = df.applymap(lambda x: replace_placeholders(x, api_response) if isinstance(x, str) else x)\n",
            "<ipython-input-2-50d803100278>:12: FutureWarning: DataFrame.applymap has been deprecated. Use DataFrame.map instead.\n",
            "  df = df.applymap(lambda x: replace_placeholders(x, api_response) if isinstance(x, str) else x)\n",
            "<ipython-input-2-50d803100278>:12: FutureWarning: DataFrame.applymap has been deprecated. Use DataFrame.map instead.\n",
            "  df = df.applymap(lambda x: replace_placeholders(x, api_response) if isinstance(x, str) else x)\n",
            "<ipython-input-2-50d803100278>:12: FutureWarning: DataFrame.applymap has been deprecated. Use DataFrame.map instead.\n",
            "  df = df.applymap(lambda x: replace_placeholders(x, api_response) if isinstance(x, str) else x)\n",
            "<ipython-input-2-50d803100278>:12: FutureWarning: DataFrame.applymap has been deprecated. Use DataFrame.map instead.\n",
            "  df = df.applymap(lambda x: replace_placeholders(x, api_response) if isinstance(x, str) else x)\n"
          ]
        }
      ]
    },
    {
      "cell_type": "code",
      "source": [
        "saving_file(final_df_people)\n",
        "saving_file(final_df_employment)\n",
        "saving_file(final_df_housing)\n",
        "saving_file(final_df_income)\n",
        "saving_file(final_df_education)"
      ],
      "metadata": {
        "colab": {
          "base_uri": "https://localhost:8080/"
        },
        "id": "ly4lLzJiBugS",
        "outputId": "8ec9c39b-cf6a-4720-98c8-bf5cf16412d2"
      },
      "execution_count": 6,
      "outputs": [
        {
          "output_type": "stream",
          "name": "stdout",
          "text": [
            "Data written/appended to scraped_data.xlsx\n",
            "Data written/appended to scraped_data.xlsx\n",
            "Data written/appended to scraped_data.xlsx\n",
            "Data written/appended to scraped_data.xlsx\n",
            "Data written/appended to scraped_data.xlsx\n"
          ]
        }
      ]
    }
  ]
}