{
 "cells": [
  {
   "cell_type": "code",
   "execution_count": 16,
   "id": "111a4a0f-e9d9-460b-bb3b-1cad2fb6effe",
   "metadata": {},
   "outputs": [],
   "source": [
    "import praw\n",
    "import re\n",
    "from datetime import datetime, timedelta\n",
    "import csv\n",
    "import pandas as pd"
   ]
  },
  {
   "cell_type": "code",
   "execution_count": 17,
   "id": "b47219ae-808a-45cb-ad5a-73f7e9ff6dea",
   "metadata": {},
   "outputs": [],
   "source": [
    "# Reddit API credentials\n",
    "reddit = praw.Reddit(\n",
    "    client_id=\"JVgubQ5eSbuKnFa5PCL1kA\",\n",
    "    client_secret=\"jO5Bt6c5BGr3q2_rBS7VWsZ9p4JJ8Q\",\n",
    "    user_agent=\"Ok_Culture7133\"\n",
    ")"
   ]
  },
  {
   "cell_type": "code",
   "execution_count": 20,
   "id": "7f562bdb-06ce-44e1-9dd0-8b755c4caad7",
   "metadata": {},
   "outputs": [
    {
     "name": "stderr",
     "output_type": "stream",
     "text": [
      "C:\\Users\\amrut\\AppData\\Local\\Temp\\ipykernel_7224\\1781421323.py:33: DeprecationWarning: datetime.datetime.utcnow() is deprecated and scheduled for removal in a future version. Use timezone-aware objects to represent datetimes in UTC: datetime.datetime.now(datetime.UTC).\n",
      "  six_months_ago = datetime.utcnow() - timedelta(days=180)\n",
      "C:\\Users\\amrut\\AppData\\Local\\Temp\\ipykernel_7224\\1781421323.py:52: DeprecationWarning: datetime.datetime.utcfromtimestamp() is deprecated and scheduled for removal in a future version. Use timezone-aware objects to represent datetimes in UTC: datetime.datetime.fromtimestamp(timestamp, datetime.UTC).\n",
      "  post_date = datetime.utcfromtimestamp(submission.created_utc)\n"
     ]
    },
    {
     "name": "stdout",
     "output_type": "stream",
     "text": [
      "Error processing subreddit harris: received 404 HTTP response\n",
      "Error processing subreddit donaldtrump: received 404 HTTP response\n",
      "Error processing subreddit connecticutpolitics: received 403 HTTP response\n",
      "Error processing subreddit floridapolitics: received 403 HTTP response\n",
      "Error processing subreddit georgiapolitics: received 404 HTTP response\n",
      "Error processing subreddit michiganpolitics: received 404 HTTP response\n",
      "Error processing subreddit northcarolinapolitics: received 403 HTTP response\n",
      "Error processing subreddit rhodeislandpolitics: received 403 HTTP response\n",
      "Error processing subreddit vermontpolitics: received 403 HTTP response\n"
     ]
    }
   ],
   "source": [
    "# Function to identify state mentioned in the post\n",
    "def find_state(text):\n",
    "    states = ['Alabama', 'Alaska', 'Arizona', 'Arkansas', 'California', 'Colorado', 'Connecticut', 'Delaware', 'Florida', 'Georgia', \n",
    "              'Hawaii', 'Idaho', 'Illinois', 'Indiana', 'Iowa', 'Kansas', 'Kentucky', 'Louisiana', 'Maine', 'Maryland', \n",
    "              'Massachusetts', 'Michigan', 'Minnesota', 'Mississippi', 'Missouri', 'Montana', 'Nebraska', 'Nevada', \n",
    "              'NewHampshire', 'NewJersey', 'NewMexico', 'NewYork', 'NorthCarolina', 'NorthDakota', 'Ohio', \n",
    "              'Oklahoma', 'Oregon', 'Pennsylvania', 'RhodeIsland', 'SouthCarolina', 'SouthDakota', 'Tennessee', \n",
    "              'Texas', 'Utah', 'Vermont', 'Virginia', 'Washington', 'WestVirginia', 'Wisconsin', 'Wyoming']\n",
    "    for state in states:\n",
    "        if state.lower() in text.lower():\n",
    "            return state\n",
    "    return 'national'\n",
    "\n",
    "# List of subreddits including state-specific and politics-related ones\n",
    "subreddits = [\n",
    "    'politics', 'uspolitics', 'republic', 'democrat', 'liberal', 'askpolitics', 'politicaldiscussion','conservative','freethought', 'changemyview', 'moderatepolitics','neutralpolitics', 'trump', 'harris', 'kamalaharris', 'donaldtrump', 'joebiden', 'biden'\n",
    "]\n",
    "\n",
    "# Add all 50 states and their possible politics subreddits\n",
    "states = ['Alabama', 'Alaska', 'Arizona', 'Arkansas', 'California', 'Colorado', 'Connecticut', 'Delaware', 'Florida', 'Georgia', \n",
    "          'Hawaii', 'Idaho', 'Illinois', 'Indiana', 'Iowa', 'Kansas', 'Kentucky', 'Louisiana', 'Maine', 'Maryland', \n",
    "          'Massachusetts', 'Michigan', 'Minnesota', 'Mississippi', 'Missouri', 'Montana', 'Nebraska', 'Nevada', \n",
    "          'NewHampshire', 'NewJersey', 'NewMexico', 'NewYork', 'NorthCarolina', 'NorthDakota', 'Ohio', \n",
    "          'Oklahoma', 'Oregon', 'Pennsylvania', 'RhodeIsland', 'SouthCarolina', 'SouthDakota', 'Tennessee', \n",
    "          'Texas', 'Utah', 'Vermont', 'Virginia', 'Washington', 'WestVirginia', 'Wisconsin', 'Wyoming']\n",
    "\n",
    "# Add state-specific subreddits and their potential \"politics\" counterparts\n",
    "for state in states:\n",
    "    subreddits.append(state.lower())  # State subreddit\n",
    "    subreddits.append(f'{state.lower()}politics')  # State-politics subreddit\n",
    "\n",
    "# Define the time window for the last 6 months\n",
    "six_months_ago = datetime.utcnow() - timedelta(days=180)\n",
    "\n",
    "# List to store all posts\n",
    "post_data = []\n",
    "\n",
    "# Define a broad set of election-related keywords\n",
    "election_keywords = ['election', 'vote', 'voting', 'voter', 'ballot', 'poll', 'campaign', 'candidate', 'electorate', 'debate', \n",
    "                     'primary', 'caucus', 'congress', 'senate', 'representative', 'governor', 'mayor', 'president']\n",
    "\n",
    "# Political affiliation keywords to check\n",
    "political_keywords = ['Trump', 'Harris', 'Republican', 'Democrat', 'Donald', 'Kamala', 'Red', 'Blue']\n",
    "\n",
    "# Fetch posts from the subreddits\n",
    "for subreddit_name in subreddits:\n",
    "    try:\n",
    "        subreddit = reddit.subreddit(subreddit_name)\n",
    "\n",
    "        # Fetch posts from the last 6 months\n",
    "        for submission in subreddit.new(limit=None):\n",
    "            post_date = datetime.utcfromtimestamp(submission.created_utc)\n",
    "            if post_date < six_months_ago:\n",
    "                continue\n",
    "            \n",
    "            # Extract post details\n",
    "            title = submission.title\n",
    "            body = submission.selftext\n",
    "            votes = submission.score\n",
    "            comments = submission.num_comments\n",
    "            post_url = submission.url\n",
    "            political_affiliation = None\n",
    "            relevant_post = False\n",
    "\n",
    "            # Identify if the post is related to elections by checking for election-related keywords\n",
    "            for keyword in election_keywords:\n",
    "                if re.search(rf'\\b{keyword}\\b', title, re.IGNORECASE) or re.search(rf'\\b{keyword}\\b', body, re.IGNORECASE):\n",
    "                    relevant_post = True\n",
    "                    break\n",
    "\n",
    "            # If the post isn't relevant, skip it\n",
    "            if not relevant_post:\n",
    "                continue\n",
    "\n",
    "            # Check for political affiliation based on specific political keywords\n",
    "            for keyword in political_keywords:\n",
    "                if re.search(rf'\\b{keyword}\\b', title, re.IGNORECASE) or re.search(rf'\\b{keyword}\\b', body, re.IGNORECASE):\n",
    "                    political_affiliation = keyword\n",
    "                    break\n",
    "            \n",
    "            # Check for state mentions\n",
    "            state_mentioned = find_state(title + \" \" + body)\n",
    "\n",
    "            # Append the post data to the list\n",
    "            post_data.append({\n",
    "                'Subreddit': subreddit_name,\n",
    "                'Title': title,\n",
    "                'Body': body,\n",
    "                'Votes': votes,\n",
    "                'Comments': comments,\n",
    "                'Date': post_date.strftime('%Y-%m-%d %H:%M:%S'),\n",
    "                'State': state_mentioned,\n",
    "                'Political Affiliation': political_affiliation,\n",
    "                'URL': post_url\n",
    "            })\n",
    "    except Exception as e:\n",
    "        print(f\"Error processing subreddit {subreddit_name}: {e}\")\n"
   ]
  },
  {
   "cell_type": "code",
   "execution_count": 26,
   "id": "3bf5d50c-597f-4ffe-8e9c-a869b5353288",
   "metadata": {},
   "outputs": [
    {
     "name": "stdout",
     "output_type": "stream",
     "text": [
      "Data successfully saved to reddit_political_posts.csv\n"
     ]
    }
   ],
   "source": [
    "import unicodedata\n",
    "\n",
    "# Function to normalize text (convert special characters to plain equivalents)\n",
    "def normalize_text(text):\n",
    "    if text:\n",
    "        return unicodedata.normalize('NFKD', text)\n",
    "    return text\n",
    "\n",
    "# Write data to CSV file with proper encoding\n",
    "csv_file = 'reddit_political_posts.csv'\n",
    "with open(csv_file, mode='w', newline='', encoding='utf-8') as file:\n",
    "    writer = csv.DictWriter(file, fieldnames=['Subreddit', 'Title', 'Body', 'Votes', 'Comments', 'Date', 'State', 'Political Affiliation', 'URL'])\n",
    "    writer.writeheader()\n",
    "    for post in post_data:\n",
    "        # Normalize text fields to remove any problematic special characters\n",
    "        post['Title'] = normalize_text(post['Title'])\n",
    "        post['Body'] = normalize_text(post['Body'])\n",
    "        post['Political Affiliation'] = normalize_text(post['Political Affiliation'])\n",
    "        writer.writerow(post)\n",
    "\n",
    "print(f\"Data successfully saved to {csv_file}\")\n"
   ]
  },
  {
   "cell_type": "code",
   "execution_count": 27,
   "id": "841848e8-754f-416f-8794-d66fd9528716",
   "metadata": {},
   "outputs": [],
   "source": [
    "df = pd.read_csv('reddit_political_posts.csv')"
   ]
  },
  {
   "cell_type": "code",
   "execution_count": 28,
   "id": "57f29a41-d59b-4529-b7cf-ee251e8a53ac",
   "metadata": {},
   "outputs": [
    {
     "data": {
      "text/plain": [
       "(10269, 9)"
      ]
     },
     "execution_count": 28,
     "metadata": {},
     "output_type": "execute_result"
    }
   ],
   "source": [
    "df.shape"
   ]
  },
  {
   "cell_type": "code",
   "execution_count": 24,
   "id": "603dedb6-9bef-4365-97a5-cbba55745201",
   "metadata": {},
   "outputs": [
    {
     "data": {
      "text/plain": [
       "<bound method NDFrame.head of       Subreddit                                              Title  \\\n",
       "0      politics  Tarrant County officials clear up ballot contr...   \n",
       "1      politics  Bob and Kristina Lange, Republican farmers who...   \n",
       "2      politics  Politics website labels Nevada's US Senate rac...   \n",
       "3      politics  LA Times, Calif.'s largest newspaper, won't en...   \n",
       "4      politics  Senate battle goes from bad to worse for Democ...   \n",
       "...         ...                                                ...   \n",
       "10264   wyoming  Wyoming political group makes expensive, murky...   \n",
       "10265   wyoming  Wyoming’s Title IX lawsuit highlights governor...   \n",
       "10266   wyoming  UW President Seidel closes university's DEI Of...   \n",
       "10267   wyoming                          Old political commercial    \n",
       "10268   wyoming  Wyoming voids 28% of its voter registrations i...   \n",
       "\n",
       "                                                    Body  Votes  Comments  \\\n",
       "0                                                    NaN      1         1   \n",
       "1                                                    NaN     43        10   \n",
       "2                                                    NaN      0         2   \n",
       "3                                                    NaN      0        24   \n",
       "4                                                    NaN      0        11   \n",
       "...                                                  ...    ...       ...   \n",
       "10264                                                NaN     11        11   \n",
       "10265                                                NaN     21         7   \n",
       "10266                                                NaN     42        32   \n",
       "10267  I studied American politics for my A Levels (H...      6         7   \n",
       "10268                                                NaN    128        53   \n",
       "\n",
       "                      Date     State Political Affiliation  \\\n",
       "0      2024-10-23 02:52:51  national                   NaN   \n",
       "1      2024-10-23 02:41:11  national                Harris   \n",
       "2      2024-10-23 02:38:00    Nevada                   NaN   \n",
       "3      2024-10-23 02:14:33  national                   NaN   \n",
       "4      2024-10-23 02:13:42  national                   NaN   \n",
       "...                    ...       ...                   ...   \n",
       "10264  2024-05-22 15:02:03   Wyoming                   NaN   \n",
       "10265  2024-05-17 20:35:18   Wyoming                   NaN   \n",
       "10266  2024-05-13 17:05:19  national                   NaN   \n",
       "10267  2024-05-10 09:12:31   Wyoming                   NaN   \n",
       "10268  2024-05-02 15:00:09   Wyoming                   NaN   \n",
       "\n",
       "                                                     URL  \n",
       "0      https://www.nbcdfw.com/news/local/tarrant-coun...  \n",
       "1            https://www.foxnews.com/video/6363558985112  \n",
       "2      https://www.rgj.com/story/news/politics/electi...  \n",
       "3      https://www.sfgate.com/politics/article/la-tim...  \n",
       "4      https://thehill.com/homenews/senate/4947616-de...  \n",
       "...                                                  ...  \n",
       "10264  https://wyofile.com/wyoming-political-group-ma...  \n",
       "10265  https://wyofile.com/wyomings-title-ix-lawsuit-...  \n",
       "10266  https://www.wyomingnews.com/laramieboomerang/n...  \n",
       "10267  https://www.reddit.com/r/wyoming/comments/1col...  \n",
       "10268  https://wyofile.com/wyoming-voids-28-of-its-vo...  \n",
       "\n",
       "[10269 rows x 9 columns]>"
      ]
     },
     "execution_count": 24,
     "metadata": {},
     "output_type": "execute_result"
    }
   ],
   "source": [
    "df.head"
   ]
  },
  {
   "cell_type": "code",
   "execution_count": null,
   "id": "b400f31a-3a69-4fcc-b9a6-e58f811605ad",
   "metadata": {},
   "outputs": [],
   "source": []
  }
 ],
 "metadata": {
  "kernelspec": {
   "display_name": "Python 3 (ipykernel)",
   "language": "python",
   "name": "python3"
  },
  "language_info": {
   "codemirror_mode": {
    "name": "ipython",
    "version": 3
   },
   "file_extension": ".py",
   "mimetype": "text/x-python",
   "name": "python",
   "nbconvert_exporter": "python",
   "pygments_lexer": "ipython3",
   "version": "3.12.4"
  }
 },
 "nbformat": 4,
 "nbformat_minor": 5
}
