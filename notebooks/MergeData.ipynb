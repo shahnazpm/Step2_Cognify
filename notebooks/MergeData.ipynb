{
 "cells": [
  {
   "cell_type": "code",
   "execution_count": 1,
   "id": "472a575d-89d8-47fc-821a-c437d9f05348",
   "metadata": {},
   "outputs": [],
   "source": [
    "import pandas as pd\n",
    "import os"
   ]
  },
  {
   "cell_type": "code",
   "execution_count": 2,
   "id": "50588339-1b2d-4fdf-aafa-8db35c170960",
   "metadata": {},
   "outputs": [],
   "source": [
    "path_of_folder_containing_states_raw_data = \"D:\\loyalist\\sem2\\step2\\states\"\n",
    "path_for_processed_state_files = os.path.join(path_of_folder_containing_states_raw_data,'output') #I am keeping it in same as above folder you can change this address.\n",
    "combined_elections_file_path = \"D:\\\\loyalist\\\\sem2\\\\step2\\\\combined_election_data.csv\"\n",
    "poll_data_538_file_path = \"D:\\\\loyalist\\\\sem2\\\\step2\\\\poll_data.csv\""
   ]
  },
  {
   "cell_type": "code",
   "execution_count": 3,
   "id": "73a9cfc2-467b-4cfa-8dcb-55cc9b73922f",
   "metadata": {},
   "outputs": [],
   "source": [
    "def camelCase(string):\n",
    "    return string.title().replace(' ','')"
   ]
  },
  {
   "cell_type": "code",
   "execution_count": 4,
   "id": "8d7f6778-6c72-4014-9f18-5ed36eefa72b",
   "metadata": {},
   "outputs": [],
   "source": [
    "import re\n",
    "\n",
    "def extract_state_name_from_text(text):\n",
    "    # Define a list of US state names (you can use a more comprehensive list if needed)\n",
    "    state_names = [\n",
    "        \"Alabama\", \"Alaska\", \"Arizona\", \"Arkansas\", \"California\", \"Colorado\",\n",
    "        \"Connecticut\", \"Delaware\", \"Florida\", \"Georgia\", \"Hawaii\", \"Idaho\",\n",
    "        \"Illinois\", \"Indiana\", \"Iowa\", \"Kansas\", \"Kentucky\", \"Louisiana\",\n",
    "        \"Maine\", \"Maryland\", \"Massachusetts\", \"Michigan\", \"Minnesota\",\n",
    "        \"Mississippi\", \"Missouri\", \"Montana\", \"Nebraska\", \"Nevada\",\n",
    "        \"New Hampshire\", \"New Jersey\", \"New Mexico\", \"New York\", \"North Carolina\",\n",
    "        \"North Dakota\", \"Ohio\", \"Oklahoma\", \"Oregon\", \"Pennsylvania\",\n",
    "        \"Rhode Island\", \"South Carolina\", \"South Dakota\", \"Tennessee\", \"Texas\",\n",
    "        \"Utah\", \"Vermont\", \"Virginia\", \"Washington\", \"West Virginia\", \"Wisconsin\",\n",
    "        \"Wyoming\", \"DC\"\n",
    "    ]\n",
    "\n",
    "    # Convert the state names to lowercase for case-insensitive matching\n",
    "    state_names_lower = [state.lower() for state in state_names]\n",
    "\n",
    "    # Use regular expressions to find a match\n",
    "    pattern = r\"\\b(\" + \"|\".join(state_names_lower) + r\")\\b\"\n",
    "    match = re.search(pattern, text.lower())\n",
    "\n",
    "    # Return the matched state name (or None if no match is found)\n",
    "    return match.group(1) if match else 'National'"
   ]
  },
  {
   "cell_type": "code",
   "execution_count": 5,
   "id": "ac78abe3-598f-4a44-b6c6-6d228b14659a",
   "metadata": {},
   "outputs": [],
   "source": [
    "poll_data = pd.read_csv(poll_data_538_file_path)"
   ]
  },
  {
   "cell_type": "code",
   "execution_count": 6,
   "id": "48894458-bfca-4141-8c8c-b0cc75df971a",
   "metadata": {},
   "outputs": [],
   "source": [
    "def extract_state_name(state):\n",
    "    if ',' in state:\n",
    "        state_name = state.split(', ')[1]\n",
    "        if '2024' in state_name:\n",
    "            return \"National\"\n",
    "        else:\n",
    "            return state_name\n",
    "    else:\n",
    "        return 'National'\n",
    "\n",
    "def rectify_state_names(state):\n",
    "    if 'NE' in state:\n",
    "        return 'Nebraska'\n",
    "    elif 'ME' in state:\n",
    "        return 'Maien'\n",
    "    else:\n",
    "        return state\n",
    "\n",
    "# Calculate mode of leader column for each state\n",
    "def calculate_mode_leader(df):\n",
    "    mode_leader = df.groupby('state')['leader'].apply(lambda x: x.mode().iloc[0])\n",
    "    return mode_leader\n",
    "\n",
    "# Calculate sum and average of lead column for each state\n",
    "def calculate_lead_sum_avg(df):\n",
    "    lead_sum = df.groupby('state')['lead'].sum()\n",
    "    lead_avg = df.groupby('state')['lead'].mean()\n",
    "    return lead_sum, lead_avg\n",
    "\n",
    "# Replace \"Even\" with 0 in the 'lead' column\n",
    "def replace_even_with_zero(lead):\n",
    "    if 'even' in str(lead).lower():\n",
    "        return 0\n",
    "    else:\n",
    "        return int(lead)\n",
    "\n",
    "# Impute party affiliation based on leader name\n",
    "def impute_party_affiliation(leader):\n",
    "    if leader in ['Biden', 'Harris']:\n",
    "        return 'Democrat'\n",
    "    elif leader == 'Trump':\n",
    "        return 'Republican'\n",
    "    else:\n",
    "        return 'Unknown'"
   ]
  },
  {
   "cell_type": "code",
   "execution_count": 7,
   "id": "4aee682f-aa36-411f-9eb0-8592fdab77b2",
   "metadata": {},
   "outputs": [],
   "source": [
    "# Filter out rows not containing values Biden, Harris, or Trump in leader row\n",
    "poll_data = poll_data[poll_data['leader'].isin(['Biden', 'Harris', 'Trump'])]\n",
    "\n",
    "# Impute party affiliation based on leader name\n",
    "poll_data['leader'] = poll_data['leader'].apply(impute_party_affiliation)"
   ]
  },
  {
   "cell_type": "code",
   "execution_count": 8,
   "id": "a9381929-685a-4a98-8bdc-4c9814080643",
   "metadata": {},
   "outputs": [],
   "source": [
    "poll_data['state']=poll_data['state'].apply(rectify_state_names)"
   ]
  },
  {
   "cell_type": "code",
   "execution_count": 9,
   "id": "c8edd18c-80d8-4701-8d55-830346980851",
   "metadata": {},
   "outputs": [],
   "source": [
    "poll_data['state'] = poll_data['state'].apply(extract_state_name)"
   ]
  },
  {
   "cell_type": "code",
   "execution_count": 10,
   "id": "e570fa3d-a46c-4b90-b0cd-28c6a621bac8",
   "metadata": {},
   "outputs": [],
   "source": [
    "poll_data['lead'] = poll_data['lead'].apply(replace_even_with_zero)"
   ]
  },
  {
   "cell_type": "code",
   "execution_count": 11,
   "id": "af5110e7-0ff2-4860-ba54-53f263cdca1d",
   "metadata": {},
   "outputs": [],
   "source": [
    "# Calculate mode of leader column for each state\n",
    "mode_leader = calculate_mode_leader(poll_data)"
   ]
  },
  {
   "cell_type": "code",
   "execution_count": 12,
   "id": "6b1cdef1-7ab9-4391-8cb0-d802dfc8213f",
   "metadata": {},
   "outputs": [],
   "source": [
    "# Calculate sum and average of lead column for each state\n",
    "lead_sum, lead_avg = calculate_lead_sum_avg(poll_data)"
   ]
  },
  {
   "cell_type": "code",
   "execution_count": 13,
   "id": "496d4da6-0263-46b7-b7d7-2a3bb33a35b7",
   "metadata": {},
   "outputs": [],
   "source": [
    "poll_result_df = pd.DataFrame({\n",
    "    'state': mode_leader.index,\n",
    "    'leader': mode_leader.values,\n",
    "    'lead_sum': lead_sum.values,\n",
    "    'lead_avg': lead_avg.values\n",
    "})"
   ]
  },
  {
   "cell_type": "code",
   "execution_count": 14,
   "id": "31823bad-dd83-4a9b-8b7e-9a92fb477fba",
   "metadata": {},
   "outputs": [
    {
     "name": "stdout",
     "output_type": "stream",
     "text": [
      "Resultant DataFrame:\n",
      "             state      leader  lead_sum   lead_avg\n",
      "0          Alabama  Republican        63  21.000000\n",
      "1           Alaska  Republican       105  11.666667\n",
      "2          Arizona  Republican       675   4.166667\n",
      "3         Arkansas  Republican        18   9.000000\n",
      "4       California    Democrat       773  20.891892\n",
      "5         Colorado    Democrat        85   8.500000\n",
      "6      Connecticut    Democrat        24  12.000000\n",
      "7         Delaware    Democrat        41  13.666667\n",
      "8          Florida  Republican       494   7.264706\n",
      "9          Georgia  Republican       680   4.444444\n",
      "10          Hawaii    Democrat        27  13.500000\n",
      "11           Idaho  Republican        22  22.000000\n",
      "12        Illinois    Democrat        19   9.500000\n",
      "13         Indiana  Republican        94  13.428571\n",
      "14            Iowa  Republican        72  10.285714\n",
      "15          Kansas  Republican         2   2.000000\n",
      "16        Kentucky  Republican        16  16.000000\n",
      "17       Louisiana  Republican        44  14.666667\n",
      "18           Maine    Democrat        71   7.100000\n",
      "19        Maryland    Democrat       528  25.142857\n",
      "20   Massachusetts    Democrat       314  24.153846\n",
      "21        Michigan  Republican       571   3.103261\n",
      "22       Minnesota    Democrat       152   5.066667\n",
      "23     Mississippi  Republican        13  13.000000\n",
      "24        Missouri  Republican       112  12.444444\n",
      "25         Montana  Republican       267  17.800000\n",
      "26        National  Republican      3542   3.632821\n",
      "27        Nebraska  Republican       129  14.333333\n",
      "28          Nevada  Republican       554   4.694915\n",
      "29   New Hampshire    Democrat       125   5.952381\n",
      "30      New Jersey    Democrat        43   7.166667\n",
      "31      New Mexico    Democrat        71   6.454545\n",
      "32        New York    Democrat       249  12.450000\n",
      "33  North Carolina  Republican       591   3.966443\n",
      "34    North Dakota  Republican       114  22.800000\n",
      "35            Ohio  Republican       323   9.228571\n",
      "36        Oklahoma  Republican        82  20.500000\n",
      "37          Oregon    Democrat        33   8.250000\n",
      "38    Pennsylvania  Republican       706   3.394231\n",
      "39    Rhode Island    Democrat       106  15.142857\n",
      "40  South Carolina  Republican       128  14.222222\n",
      "41    South Dakota  Republican        61  20.333333\n",
      "42       Tennessee  Republican       263  23.909091\n",
      "43           Texas  Republican       406   7.518519\n",
      "44            Utah  Republican       198  22.000000\n",
      "45         Vermont    Democrat       147  29.400000\n",
      "46        Virginia    Democrat       237   4.232143\n",
      "47      Washington    Democrat       133  11.083333\n",
      "48   West Virginia  Republican        82  27.333333\n",
      "49       Wisconsin    Democrat       549   3.327273\n",
      "50         Wyoming  Republican        17  17.000000\n"
     ]
    }
   ],
   "source": [
    "print(\"Resultant DataFrame:\")\n",
    "print(poll_result_df)"
   ]
  },
  {
   "cell_type": "code",
   "execution_count": 15,
   "id": "da44b7a8-efe2-41db-aaa9-5e6bb0433d1b",
   "metadata": {},
   "outputs": [],
   "source": [
    "processed_poll_data = {}\n",
    "for index, row in poll_result_df.iterrows():\n",
    "    state = camelCase(row['state'])\n",
    "    processed_poll_data[state] = {\n",
    "        'leader': row['leader'],\n",
    "        'lead_sum': row['lead_sum'],\n",
    "        'lead_avg': row['lead_avg']\n",
    "    }"
   ]
  },
  {
   "cell_type": "code",
   "execution_count": 16,
   "id": "eb66323d-ba1b-4e5f-95b0-83fce87cd975",
   "metadata": {},
   "outputs": [
    {
     "name": "stdout",
     "output_type": "stream",
     "text": [
      "\n",
      "Number of rows in result_df: 51\n"
     ]
    }
   ],
   "source": [
    "print(f\"\\nNumber of rows in result_df: {len(processed_poll_data)}\")"
   ]
  },
  {
   "cell_type": "code",
   "execution_count": 17,
   "id": "3bc5ac0a-9d86-4a10-b08b-2cddc3d9a271",
   "metadata": {},
   "outputs": [
    {
     "name": "stdout",
     "output_type": "stream",
     "text": [
      "{'Alabama': {'leader': 'Republican', 'lead_sum': 63, 'lead_avg': 21.0}, 'Alaska': {'leader': 'Republican', 'lead_sum': 105, 'lead_avg': 11.666666666666666}, 'Arizona': {'leader': 'Republican', 'lead_sum': 675, 'lead_avg': 4.166666666666667}, 'Arkansas': {'leader': 'Republican', 'lead_sum': 18, 'lead_avg': 9.0}, 'California': {'leader': 'Democrat', 'lead_sum': 773, 'lead_avg': 20.89189189189189}, 'Colorado': {'leader': 'Democrat', 'lead_sum': 85, 'lead_avg': 8.5}, 'Connecticut': {'leader': 'Democrat', 'lead_sum': 24, 'lead_avg': 12.0}, 'Delaware': {'leader': 'Democrat', 'lead_sum': 41, 'lead_avg': 13.666666666666666}, 'Florida': {'leader': 'Republican', 'lead_sum': 494, 'lead_avg': 7.264705882352941}, 'Georgia': {'leader': 'Republican', 'lead_sum': 680, 'lead_avg': 4.444444444444445}, 'Hawaii': {'leader': 'Democrat', 'lead_sum': 27, 'lead_avg': 13.5}, 'Idaho': {'leader': 'Republican', 'lead_sum': 22, 'lead_avg': 22.0}, 'Illinois': {'leader': 'Democrat', 'lead_sum': 19, 'lead_avg': 9.5}, 'Indiana': {'leader': 'Republican', 'lead_sum': 94, 'lead_avg': 13.428571428571429}, 'Iowa': {'leader': 'Republican', 'lead_sum': 72, 'lead_avg': 10.285714285714286}, 'Kansas': {'leader': 'Republican', 'lead_sum': 2, 'lead_avg': 2.0}, 'Kentucky': {'leader': 'Republican', 'lead_sum': 16, 'lead_avg': 16.0}, 'Louisiana': {'leader': 'Republican', 'lead_sum': 44, 'lead_avg': 14.666666666666666}, 'Maine': {'leader': 'Democrat', 'lead_sum': 71, 'lead_avg': 7.1}, 'Maryland': {'leader': 'Democrat', 'lead_sum': 528, 'lead_avg': 25.142857142857142}, 'Massachusetts': {'leader': 'Democrat', 'lead_sum': 314, 'lead_avg': 24.153846153846153}, 'Michigan': {'leader': 'Republican', 'lead_sum': 571, 'lead_avg': 3.1032608695652173}, 'Minnesota': {'leader': 'Democrat', 'lead_sum': 152, 'lead_avg': 5.066666666666666}, 'Mississippi': {'leader': 'Republican', 'lead_sum': 13, 'lead_avg': 13.0}, 'Missouri': {'leader': 'Republican', 'lead_sum': 112, 'lead_avg': 12.444444444444445}, 'Montana': {'leader': 'Republican', 'lead_sum': 267, 'lead_avg': 17.8}, 'National': {'leader': 'Republican', 'lead_sum': 3542, 'lead_avg': 3.632820512820513}, 'Nebraska': {'leader': 'Republican', 'lead_sum': 129, 'lead_avg': 14.333333333333334}, 'Nevada': {'leader': 'Republican', 'lead_sum': 554, 'lead_avg': 4.694915254237288}, 'NewHampshire': {'leader': 'Democrat', 'lead_sum': 125, 'lead_avg': 5.9523809523809526}, 'NewJersey': {'leader': 'Democrat', 'lead_sum': 43, 'lead_avg': 7.166666666666667}, 'NewMexico': {'leader': 'Democrat', 'lead_sum': 71, 'lead_avg': 6.454545454545454}, 'NewYork': {'leader': 'Democrat', 'lead_sum': 249, 'lead_avg': 12.45}, 'NorthCarolina': {'leader': 'Republican', 'lead_sum': 591, 'lead_avg': 3.966442953020134}, 'NorthDakota': {'leader': 'Republican', 'lead_sum': 114, 'lead_avg': 22.8}, 'Ohio': {'leader': 'Republican', 'lead_sum': 323, 'lead_avg': 9.228571428571428}, 'Oklahoma': {'leader': 'Republican', 'lead_sum': 82, 'lead_avg': 20.5}, 'Oregon': {'leader': 'Democrat', 'lead_sum': 33, 'lead_avg': 8.25}, 'Pennsylvania': {'leader': 'Republican', 'lead_sum': 706, 'lead_avg': 3.394230769230769}, 'RhodeIsland': {'leader': 'Democrat', 'lead_sum': 106, 'lead_avg': 15.142857142857142}, 'SouthCarolina': {'leader': 'Republican', 'lead_sum': 128, 'lead_avg': 14.222222222222221}, 'SouthDakota': {'leader': 'Republican', 'lead_sum': 61, 'lead_avg': 20.333333333333332}, 'Tennessee': {'leader': 'Republican', 'lead_sum': 263, 'lead_avg': 23.90909090909091}, 'Texas': {'leader': 'Republican', 'lead_sum': 406, 'lead_avg': 7.518518518518518}, 'Utah': {'leader': 'Republican', 'lead_sum': 198, 'lead_avg': 22.0}, 'Vermont': {'leader': 'Democrat', 'lead_sum': 147, 'lead_avg': 29.4}, 'Virginia': {'leader': 'Democrat', 'lead_sum': 237, 'lead_avg': 4.232142857142857}, 'Washington': {'leader': 'Democrat', 'lead_sum': 133, 'lead_avg': 11.083333333333334}, 'WestVirginia': {'leader': 'Republican', 'lead_sum': 82, 'lead_avg': 27.333333333333332}, 'Wisconsin': {'leader': 'Democrat', 'lead_sum': 549, 'lead_avg': 3.327272727272727}, 'Wyoming': {'leader': 'Republican', 'lead_sum': 17, 'lead_avg': 17.0}}\n"
     ]
    }
   ],
   "source": [
    "print(processed_poll_data)"
   ]
  },
  {
   "cell_type": "code",
   "execution_count": 18,
   "id": "4aa22da8-e2e4-40bc-9ed6-d9eb25b04d5c",
   "metadata": {},
   "outputs": [],
   "source": [
    "#import pandas as pd\n",
    "\n",
    "#file1 = pd.read_csv(\"D:\\\\loyalist\\\\sem2\\\\step2\\\\combined_election_results_with_years_Alabama_Wyoming(in).csv\")\n",
    "#file2 = pd.read_csv(\"D:\\\\loyalist\\\\sem2\\\\step2\\\\Wisconsin.csv\")\n",
    "#file3 = pd.read_csv(\"D:\\\\loyalist\\\\sem2\\\\step2\\\\Yugahang_congressional_election_results_corrected_with_years.csv\")\n",
    "\n",
    "#combined_data = pd.concat([file1, file2, file3])\n",
    "#combined_data.to_csv('D:\\\\loyalist\\\\sem2\\\\step2\\\\combined_election_data.csv', index=False)"
   ]
  },
  {
   "cell_type": "code",
   "execution_count": 19,
   "id": "f2feba3d-e066-4e81-b79b-55531dd6cbc3",
   "metadata": {},
   "outputs": [],
   "source": [
    "import pandas as pd\n",
    "#combined_elections_file_path = \"D:\\\\loyalist\\\\sem2\\\\step2\\\\combined_election_data.csv\"\n",
    "combined_elections = pd.read_csv(combined_elections_file_path)"
   ]
  },
  {
   "cell_type": "code",
   "execution_count": 20,
   "id": "63eda5f7-5456-4ff4-a711-5bb0068a829f",
   "metadata": {},
   "outputs": [],
   "source": [
    "combined_elections = combined_elections[combined_elections['party'].isin(['Democratic', 'Republican'])]"
   ]
  },
  {
   "cell_type": "code",
   "execution_count": 21,
   "id": "c30f23c8-4704-438e-be00-915cfde4e905",
   "metadata": {},
   "outputs": [],
   "source": [
    "# Convert the 'votes' column to numeric values\n",
    "combined_elections['votes'] = pd.to_numeric(combined_elections['votes'], errors='coerce')"
   ]
  },
  {
   "cell_type": "code",
   "execution_count": 22,
   "id": "a80e1201-1e79-45e6-b3e8-b51db1402db1",
   "metadata": {},
   "outputs": [],
   "source": [
    "Y_data = combined_elections.groupby(['state', 'party'])['votes'].sum().reset_index()"
   ]
  },
  {
   "cell_type": "code",
   "execution_count": 23,
   "id": "cb83fd70-9e63-481f-a80d-5ffa78ea1317",
   "metadata": {},
   "outputs": [
    {
     "name": "stdout",
     "output_type": "stream",
     "text": [
      "                    state       party         votes\n",
      "1                 Alabama  Republican  1.068050e+07\n",
      "3                  Alaska  Republican  8.245490e+05\n",
      "5                 Arizona  Republican  3.173323e+06\n",
      "7                Arkansas  Republican  1.982605e+06\n",
      "8              California  Democratic  1.773909e+08\n",
      "11               Colorado  Republican  1.936647e+07\n",
      "12            Connecticut  Democratic  8.898921e+06\n",
      "15               Delaware  Republican  3.658891e+06\n",
      "17   District of Columbia  Republican  3.811688e+07\n",
      "19                Florida  Republican  3.811688e+07\n",
      "21                Georgia  Republican  1.862591e+07\n",
      "22                 Hawaii  Democratic  6.975977e+06\n",
      "25                  Idaho  Republican  4.163424e+06\n",
      "26               Illinois  Democratic  1.825487e+07\n",
      "29                Indiana  Republican  1.245955e+07\n",
      "31                   Iowa  Republican  5.589391e+06\n",
      "33                 Kansas  Republican  6.860393e+06\n",
      "35               Kentucky  Republican  1.763488e+07\n",
      "37              Louisiana  Republican  9.755742e+06\n",
      "38                  Maine  Democratic  2.128961e+06\n",
      "40               Maryland  Democratic  1.394195e+07\n",
      "42          Massachusetts  Democratic  1.356579e+07\n",
      "44               Michigan  Democratic  1.407662e+07\n",
      "47              Minnesota  Republican  1.017525e+07\n",
      "49            Mississippi  Republican  3.510463e+06\n",
      "51               Missouri  Republican  5.964602e+06\n",
      "53                Montana  Republican  2.440010e+05\n",
      "55               Nebraska  Republican  4.555232e+06\n",
      "57                 Nevada  Republican  6.486701e+06\n",
      "58          New Hampshire  Democratic  1.988707e+06\n",
      "60             New Jersey  Democratic  1.008012e+07\n",
      "62             New Mexico  Democratic  7.747612e+06\n",
      "64               New York  Democratic  2.961269e+06\n",
      "66         North Carolina  Democratic  1.792966e+07\n",
      "69           North Dakota  Republican  8.547081e+06\n",
      "71                   Ohio  Republican  5.435118e+06\n",
      "73               Oklahoma  Republican  4.319677e+06\n",
      "74                 Oregon  Democratic  1.291723e+07\n",
      "77           Pennsylvania  Republican  1.298067e+07\n",
      "78           Rhode Island  Democratic  1.839474e+06\n",
      "81         South Carolina  Republican  6.456882e+06\n",
      "83           South Dakota  Republican  1.781421e+06\n",
      "85              Tennessee  Republican  4.792787e+06\n",
      "87                  Texas  Republican  2.092637e+07\n",
      "89                   Utah  Republican  1.402252e+07\n",
      "90                Vermont  Democratic  1.454434e+06\n",
      "93               Virginia  Republican  3.474466e+07\n",
      "94             Washington  Democratic  2.431540e+07\n",
      "96          West Virginia  Democratic  6.148628e+06\n",
      "99              Wisconsin  Republican  1.070342e+07\n",
      "101               Wyoming  Republican  2.987208e+06\n"
     ]
    }
   ],
   "source": [
    "# Select the row with the highest number of votes for each state\n",
    "Y_data = Y_data.loc[Y_data.groupby('state')['votes'].idxmax()]\n",
    "print(Y_data)"
   ]
  },
  {
   "cell_type": "code",
   "execution_count": 24,
   "id": "14d5ee37-138f-4d83-afff-3b24a9cf1faf",
   "metadata": {},
   "outputs": [
    {
     "name": "stdout",
     "output_type": "stream",
     "text": [
      "{('Alabama', 'Republican'): {'votes': 10680498.0}, ('Alaska', 'Republican'): {'votes': 824549.0}, ('Arizona', 'Republican'): {'votes': 3173323.0}, ('Arkansas', 'Republican'): {'votes': 1982605.0}, ('California', 'Democratic'): {'votes': 177390876.0}, ('Colorado', 'Republican'): {'votes': 19366471.0}, ('Connecticut', 'Democratic'): {'votes': 8898921.0}, ('Delaware', 'Republican'): {'votes': 3658891.0}, ('District of Columbia', 'Republican'): {'votes': 38116883.0}, ('Florida', 'Republican'): {'votes': 38116883.0}, ('Georgia', 'Republican'): {'votes': 18625912.693}, ('Hawaii', 'Democratic'): {'votes': 6975977.0}, ('Idaho', 'Republican'): {'votes': 4163424.0}, ('Illinois', 'Democratic'): {'votes': 18254873.0}, ('Indiana', 'Republican'): {'votes': 12459554.0}, ('Iowa', 'Republican'): {'votes': 5589391.0}, ('Kansas', 'Republican'): {'votes': 6860393.0}, ('Kentucky', 'Republican'): {'votes': 17634878.0}, ('Louisiana', 'Republican'): {'votes': 9755742.0}, ('Maine', 'Democratic'): {'votes': 2128961.0}, ('Maryland', 'Democratic'): {'votes': 13941947.0}, ('Massachusetts', 'Democratic'): {'votes': 13565788.0}, ('Michigan', 'Democratic'): {'votes': 14076618.0}, ('Minnesota', 'Republican'): {'votes': 10175246.341}, ('Mississippi', 'Republican'): {'votes': 3510463.0}, ('Missouri', 'Republican'): {'votes': 5964602.0}, ('Montana', 'Republican'): {'votes': 244001.0}, ('Nebraska', 'Republican'): {'votes': 4555232.0}, ('Nevada', 'Republican'): {'votes': 6486701.0}, ('New Hampshire', 'Democratic'): {'votes': 1988707.0}, ('New Jersey', 'Democratic'): {'votes': 10080120.0}, ('New Mexico', 'Democratic'): {'votes': 7747612.0}, ('New York', 'Democratic'): {'votes': 2961269.0}, ('North Carolina', 'Democratic'): {'votes': 17929657.0}, ('North Dakota', 'Republican'): {'votes': 8547081.0}, ('Ohio', 'Republican'): {'votes': 5435118.0}, ('Oklahoma', 'Republican'): {'votes': 4319677.0}, ('Oregon', 'Democratic'): {'votes': 12917231.0}, ('Pennsylvania', 'Republican'): {'votes': 12980670.0}, ('Rhode Island', 'Democratic'): {'votes': 1839474.0}, ('South Carolina', 'Republican'): {'votes': 6456882.0}, ('South Dakota', 'Republican'): {'votes': 1781421.0}, ('Tennessee', 'Republican'): {'votes': 4792787.0}, ('Texas', 'Republican'): {'votes': 20926370.964}, ('Utah', 'Republican'): {'votes': 14022522.0}, ('Vermont', 'Democratic'): {'votes': 1454434.0}, ('Virginia', 'Republican'): {'votes': 34744655.0}, ('Washington', 'Democratic'): {'votes': 24315398.0}, ('West Virginia', 'Democratic'): {'votes': 6148628.0}, ('Wisconsin', 'Republican'): {'votes': 10703418.0}, ('Wyoming', 'Republican'): {'votes': 2987208.0}}\n"
     ]
    }
   ],
   "source": [
    "Y_dict_temp = Y_data.set_index(['state', 'party']).to_dict('index')\n",
    "print(Y_dict_temp)"
   ]
  },
  {
   "cell_type": "code",
   "execution_count": 25,
   "id": "6bde47d8-762e-48a9-9533-e500f20610c7",
   "metadata": {},
   "outputs": [
    {
     "name": "stdout",
     "output_type": "stream",
     "text": [
      "{'Alabama': {'party': 'Republican', 'votes': 10680498.0}, 'Alaska': {'party': 'Republican', 'votes': 824549.0}, 'Arizona': {'party': 'Republican', 'votes': 3173323.0}, 'Arkansas': {'party': 'Republican', 'votes': 1982605.0}, 'California': {'party': 'Democratic', 'votes': 177390876.0}, 'Colorado': {'party': 'Republican', 'votes': 19366471.0}, 'Connecticut': {'party': 'Democratic', 'votes': 8898921.0}, 'Delaware': {'party': 'Republican', 'votes': 3658891.0}, 'DistrictOfColumbia': {'party': 'Republican', 'votes': 38116883.0}, 'Florida': {'party': 'Republican', 'votes': 38116883.0}, 'Georgia': {'party': 'Republican', 'votes': 18625912.693}, 'Hawaii': {'party': 'Democratic', 'votes': 6975977.0}, 'Idaho': {'party': 'Republican', 'votes': 4163424.0}, 'Illinois': {'party': 'Democratic', 'votes': 18254873.0}, 'Indiana': {'party': 'Republican', 'votes': 12459554.0}, 'Iowa': {'party': 'Republican', 'votes': 5589391.0}, 'Kansas': {'party': 'Republican', 'votes': 6860393.0}, 'Kentucky': {'party': 'Republican', 'votes': 17634878.0}, 'Louisiana': {'party': 'Republican', 'votes': 9755742.0}, 'Maine': {'party': 'Democratic', 'votes': 2128961.0}, 'Maryland': {'party': 'Democratic', 'votes': 13941947.0}, 'Massachusetts': {'party': 'Democratic', 'votes': 13565788.0}, 'Michigan': {'party': 'Democratic', 'votes': 14076618.0}, 'Minnesota': {'party': 'Republican', 'votes': 10175246.341}, 'Mississippi': {'party': 'Republican', 'votes': 3510463.0}, 'Missouri': {'party': 'Republican', 'votes': 5964602.0}, 'Montana': {'party': 'Republican', 'votes': 244001.0}, 'Nebraska': {'party': 'Republican', 'votes': 4555232.0}, 'Nevada': {'party': 'Republican', 'votes': 6486701.0}, 'NewHampshire': {'party': 'Democratic', 'votes': 1988707.0}, 'NewJersey': {'party': 'Democratic', 'votes': 10080120.0}, 'NewMexico': {'party': 'Democratic', 'votes': 7747612.0}, 'NewYork': {'party': 'Democratic', 'votes': 2961269.0}, 'NorthCarolina': {'party': 'Democratic', 'votes': 17929657.0}, 'NorthDakota': {'party': 'Republican', 'votes': 8547081.0}, 'Ohio': {'party': 'Republican', 'votes': 5435118.0}, 'Oklahoma': {'party': 'Republican', 'votes': 4319677.0}, 'Oregon': {'party': 'Democratic', 'votes': 12917231.0}, 'Pennsylvania': {'party': 'Republican', 'votes': 12980670.0}, 'RhodeIsland': {'party': 'Democratic', 'votes': 1839474.0}, 'SouthCarolina': {'party': 'Republican', 'votes': 6456882.0}, 'SouthDakota': {'party': 'Republican', 'votes': 1781421.0}, 'Tennessee': {'party': 'Republican', 'votes': 4792787.0}, 'Texas': {'party': 'Republican', 'votes': 20926370.964}, 'Utah': {'party': 'Republican', 'votes': 14022522.0}, 'Vermont': {'party': 'Democratic', 'votes': 1454434.0}, 'Virginia': {'party': 'Republican', 'votes': 34744655.0}, 'Washington': {'party': 'Democratic', 'votes': 24315398.0}, 'WestVirginia': {'party': 'Democratic', 'votes': 6148628.0}, 'Wisconsin': {'party': 'Republican', 'votes': 10703418.0}, 'Wyoming': {'party': 'Republican', 'votes': 2987208.0}}\n"
     ]
    }
   ],
   "source": [
    "Y_dict = {}\n",
    "for key,value in Y_dict_temp.items():\n",
    "    Y_dict[camelCase(key[0])]={\n",
    "        'party':key[1],\n",
    "        'votes':value['votes']\n",
    "    }\n",
    "print(Y_dict)"
   ]
  },
  {
   "cell_type": "code",
   "execution_count": 26,
   "id": "3fe66795-9fbe-49a5-87f2-6ee327154da7",
   "metadata": {},
   "outputs": [
    {
     "name": "stdout",
     "output_type": "stream",
     "text": [
      "51\n"
     ]
    }
   ],
   "source": [
    "print(len(Y_dict))"
   ]
  },
  {
   "cell_type": "code",
   "execution_count": 27,
   "id": "a5f9a5b4-4884-4d34-a3f3-2cbb6b8ea16d",
   "metadata": {},
   "outputs": [],
   "source": [
    "import os\n",
    "import pandas as pd"
   ]
  },
  {
   "cell_type": "code",
   "execution_count": 28,
   "id": "49ab6c07-4453-4775-b02d-61a943233ea5",
   "metadata": {},
   "outputs": [],
   "source": [
    "def process_folder(folder_path, output_dir):\n",
    "    # Initialize an empty dictionary to store the dataframes\n",
    "    dfs_dict = {}\n",
    "\n",
    "    # Iterate over each file in the folder\n",
    "    for filename in os.listdir(folder_path):\n",
    "        # Check if the file is a CSV file\n",
    "        if filename.endswith(\".csv\"):\n",
    "            # Construct the full file path\n",
    "            input_file_path = os.path.join(folder_path, filename)\n",
    "\n",
    "            df = pd.read_csv(input_file_path)\n",
    "            state = camelCase(extract_state_name_from_text(filename))\n",
    "\n",
    "            if not os.path.exists(output_dir):\n",
    "                os.makedirs(output_dir)\n",
    "    \n",
    "            output_file_path = os.path.join(output_dir,state+'.csv')\n",
    "            chunk_size = 11000\n",
    "            result_df = []\n",
    "            while len(result_df)<5000:\n",
    "                chunk_size = max(1000,chunk_size-1000)\n",
    "                print(f'using chunksize {chunk_size} for {state}')\n",
    "                result_df = process_file(df, chunk_size, poll_data, Y_data, state)\n",
    "                if chunk_size == 1000:\n",
    "                    break\n",
    "                \n",
    "            result_df.to_csv(output_file_path, index=False)\n",
    "            print(f\"done {state} with chunk size {chunk_size}\")"
   ]
  },
  {
   "cell_type": "code",
   "execution_count": 29,
   "id": "aba05554-3c86-43c0-a742-54dc4a985b06",
   "metadata": {},
   "outputs": [],
   "source": [
    "group_features = ['Gender', 'Race', 'Veteran Status', 'Disability Status', 'Employment Status',\n",
    "                  'Industry Sector', 'Occupancy Status', 'Mortgage Status', \n",
    "                  'Total Household Income', 'Health Coverage', 'Highest Education Level']"
   ]
  },
  {
   "cell_type": "code",
   "execution_count": 30,
   "id": "c284f5c6-dbdd-45b8-9754-d9b5375e1596",
   "metadata": {},
   "outputs": [],
   "source": [
    "\n",
    "def process_file(df, chunk_size, poll_data, Y_data, state ):\n",
    "    result_df = pd.DataFrame()\n",
    "\n",
    "    for i in range(0, len(df), chunk_size):\n",
    "        chunk = df.iloc[i:i+chunk_size]\n",
    "        grouped_data = chunk.groupby(group_features).size().reset_index(name='count')\n",
    "        result_df = pd.concat([result_df, grouped_data], ignore_index=True)\n",
    "    \n",
    "    result_df['State']=state\n",
    "    result_df['Leading Party']=processed_poll_data[state]['leader']\n",
    "    result_df['Lead Sum']=processed_poll_data[state]['lead_sum']\n",
    "    result_df['Lead Avg']=processed_poll_data[state]['lead_avg']\n",
    "\n",
    "    result_df['Target Party'] = Y_dict[state]['party']\n",
    "    result_df['Target Votes'] = Y_dict[state]['votes']\n",
    "    result_df.columns = [camelCase(col.upper()) for col in result_df.columns]\n",
    "    return result_df"
   ]
  },
  {
   "cell_type": "code",
   "execution_count": 31,
   "id": "7a955ea7-97e1-4445-b14a-b583a5080883",
   "metadata": {},
   "outputs": [
    {
     "name": "stdout",
     "output_type": "stream",
     "text": [
      "using chunksize 10000 for Hawaii\n",
      "done Hawaii with chunk size 10000\n",
      "using chunksize 10000 for Idaho\n",
      "done Idaho with chunk size 10000\n",
      "using chunksize 10000 for Illinois\n",
      "done Illinois with chunk size 10000\n",
      "using chunksize 10000 for Indiana\n",
      "done Indiana with chunk size 10000\n",
      "using chunksize 10000 for Iowa\n",
      "done Iowa with chunk size 10000\n",
      "using chunksize 10000 for Kansas\n",
      "done Kansas with chunk size 10000\n",
      "using chunksize 10000 for Kentucky\n",
      "done Kentucky with chunk size 10000\n",
      "using chunksize 10000 for Louisiana\n",
      "done Louisiana with chunk size 10000\n",
      "using chunksize 10000 for Maine\n",
      "done Maine with chunk size 10000\n",
      "using chunksize 10000 for Maryland\n",
      "done Maryland with chunk size 10000\n"
     ]
    }
   ],
   "source": [
    "process_folder(path_of_folder_containing_states_raw_data, path_for_processed_state_files)"
   ]
  },
  {
   "cell_type": "code",
   "execution_count": 32,
   "id": "03d3f05c-2d79-431c-a3d1-cffdad04b74e",
   "metadata": {},
   "outputs": [],
   "source": [
    "#combine csv files in a folder\n",
    "\n",
    "def combine_csv_files(folder_path):\n",
    "    dataframes = []\n",
    "    for filename in os.listdir(folder_path):\n",
    "        if filename.endswith('.csv'):\n",
    "            df = pd.read_csv(os.path.join(folder_path, filename))\n",
    "            dataframes.append(df)\n",
    "    combined_df = pd.concat(dataframes, ignore_index=True)\n",
    "\n",
    "    # Save the combined dataframe to a new CSV file\n",
    "    combined_df.to_csv(os.path.join(folder_path,'combined_data.csv'), index=False)\n",
    "        "
   ]
  },
  {
   "cell_type": "code",
   "execution_count": 33,
   "id": "6d3cf195-6180-4ef4-aa79-b7642364bcf0",
   "metadata": {},
   "outputs": [],
   "source": [
    "combine_csv_files(path_for_processed_state_files)"
   ]
  }
 ],
 "metadata": {
  "kernelspec": {
   "display_name": "Python 3 (ipykernel)",
   "language": "python",
   "name": "python3"
  },
  "language_info": {
   "codemirror_mode": {
    "name": "ipython",
    "version": 3
   },
   "file_extension": ".py",
   "mimetype": "text/x-python",
   "name": "python",
   "nbconvert_exporter": "python",
   "pygments_lexer": "ipython3",
   "version": "3.11.7"
  }
 },
 "nbformat": 4,
 "nbformat_minor": 5
}
