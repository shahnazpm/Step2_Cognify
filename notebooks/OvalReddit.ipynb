{
 "cells": [
  {
   "cell_type": "code",
   "execution_count": 2,
   "id": "2372ca0d-df32-40c9-9632-2262cd264524",
   "metadata": {},
   "outputs": [
    {
     "name": "stdout",
     "output_type": "stream",
     "text": [
      "Collecting praw\n",
      "  Downloading praw-7.7.1-py3-none-any.whl.metadata (9.8 kB)\n",
      "Collecting prawcore<3,>=2.1 (from praw)\n",
      "  Downloading prawcore-2.4.0-py3-none-any.whl.metadata (5.0 kB)\n",
      "Collecting update-checker>=0.18 (from praw)\n",
      "  Downloading update_checker-0.18.0-py3-none-any.whl.metadata (2.3 kB)\n",
      "Requirement already satisfied: websocket-client>=0.54.0 in c:\\users\\amrut\\anaconda3\\lib\\site-packages (from praw) (1.8.0)\n",
      "Requirement already satisfied: requests<3.0,>=2.6.0 in c:\\users\\amrut\\anaconda3\\lib\\site-packages (from prawcore<3,>=2.1->praw) (2.32.2)\n",
      "Requirement already satisfied: charset-normalizer<4,>=2 in c:\\users\\amrut\\anaconda3\\lib\\site-packages (from requests<3.0,>=2.6.0->prawcore<3,>=2.1->praw) (2.0.4)\n",
      "Requirement already satisfied: idna<4,>=2.5 in c:\\users\\amrut\\anaconda3\\lib\\site-packages (from requests<3.0,>=2.6.0->prawcore<3,>=2.1->praw) (3.7)\n",
      "Requirement already satisfied: urllib3<3,>=1.21.1 in c:\\users\\amrut\\anaconda3\\lib\\site-packages (from requests<3.0,>=2.6.0->prawcore<3,>=2.1->praw) (2.2.2)\n",
      "Requirement already satisfied: certifi>=2017.4.17 in c:\\users\\amrut\\anaconda3\\lib\\site-packages (from requests<3.0,>=2.6.0->prawcore<3,>=2.1->praw) (2024.6.2)\n",
      "Downloading praw-7.7.1-py3-none-any.whl (191 kB)\n",
      "   ---------------------------------------- 0.0/191.0 kB ? eta -:--:--\n",
      "   -------- ------------------------------ 41.0/191.0 kB 667.8 kB/s eta 0:00:01\n",
      "   ---------------------------------------- 191.0/191.0 kB 2.3 MB/s eta 0:00:00\n",
      "Downloading prawcore-2.4.0-py3-none-any.whl (17 kB)\n",
      "Downloading update_checker-0.18.0-py3-none-any.whl (7.0 kB)\n",
      "Installing collected packages: update-checker, prawcore, praw\n",
      "Successfully installed praw-7.7.1 prawcore-2.4.0 update-checker-0.18.0\n",
      "Note: you may need to restart the kernel to use updated packages.\n"
     ]
    }
   ],
   "source": [
    "pip install praw"
   ]
  },
  {
   "cell_type": "code",
   "execution_count": 4,
   "id": "d75b408b-d5b3-4a87-889a-c2b3f16be2e6",
   "metadata": {},
   "outputs": [
    {
     "name": "stdout",
     "output_type": "stream",
     "text": [
      "Collecting textblobNote: you may need to restart the kernel to use updated packages.\n",
      "\n",
      "  Downloading textblob-0.18.0.post0-py3-none-any.whl.metadata (4.5 kB)\n",
      "Requirement already satisfied: nltk>=3.8 in c:\\users\\amrut\\anaconda3\\lib\\site-packages (from textblob) (3.8.1)\n",
      "Requirement already satisfied: click in c:\\users\\amrut\\anaconda3\\lib\\site-packages (from nltk>=3.8->textblob) (8.1.7)\n",
      "Requirement already satisfied: joblib in c:\\users\\amrut\\anaconda3\\lib\\site-packages (from nltk>=3.8->textblob) (1.4.2)\n",
      "Requirement already satisfied: regex>=2021.8.3 in c:\\users\\amrut\\anaconda3\\lib\\site-packages (from nltk>=3.8->textblob) (2023.10.3)\n",
      "Requirement already satisfied: tqdm in c:\\users\\amrut\\anaconda3\\lib\\site-packages (from nltk>=3.8->textblob) (4.66.4)\n",
      "Requirement already satisfied: colorama in c:\\users\\amrut\\anaconda3\\lib\\site-packages (from click->nltk>=3.8->textblob) (0.4.6)\n",
      "Downloading textblob-0.18.0.post0-py3-none-any.whl (626 kB)\n",
      "   ---------------------------------------- 0.0/626.3 kB ? eta -:--:--\n",
      "   - ------------------------------------- 20.5/626.3 kB 640.0 kB/s eta 0:00:01\n",
      "   ----------- ---------------------------- 184.3/626.3 kB 2.8 MB/s eta 0:00:01\n",
      "   ---------------------------------------- 626.3/626.3 kB 5.7 MB/s eta 0:00:00\n",
      "Installing collected packages: textblob\n",
      "Successfully installed textblob-0.18.0.post0\n"
     ]
    }
   ],
   "source": [
    "pip install textblob"
   ]
  },
  {
   "cell_type": "code",
   "execution_count": 12,
   "id": "5532b9a0-f972-4f3a-b1ab-4f9e300b32f3",
   "metadata": {},
   "outputs": [],
   "source": [
    "import praw\n",
    "import pandas as pd\n",
    "from datetime import datetime, timedelta\n",
    "from textblob import TextBlob\n",
    "import re\n"
   ]
  },
  {
   "cell_type": "code",
   "execution_count": 7,
   "id": "08e8aeda-9a99-4ef1-b249-39d2b960158d",
   "metadata": {},
   "outputs": [],
   "source": [
    "# Reddit API credentials\n",
    "reddit = praw.Reddit(\n",
    "    client_id=\"JVgubQ5eSbuKnFa5PCL1kA\",\n",
    "    client_secret=\"jO5Bt6c5BGr3q2_rBS7VWsZ9p4JJ8Q\",\n",
    "    user_agent=\"Ok_Culture7133\"\n",
    ")\n"
   ]
  },
  {
   "cell_type": "code",
   "execution_count": 20,
   "id": "9afccbf5-92fa-411b-a0bb-a2a630152171",
   "metadata": {},
   "outputs": [
    {
     "name": "stdout",
     "output_type": "stream",
     "text": [
      "(43582, 8)\n",
      "  subreddit                                              title  \\\n",
      "0  politics          Saturday Morning Political Cartoon Thread   \n",
      "1  politics  /r/Politics' 2024 US Elections Live Thread, Pa...   \n",
      "2  politics  Kamala Harris' Fox News appearance should be a...   \n",
      "3  politics  Trump is the old, exhausted candidate afraid t...   \n",
      "4  politics  Arnold Palmer Was ‘Appalled’ by ‘Crude’ Trump,...   \n",
      "\n",
      "                                                text  \\\n",
      "0  It's Saturday, folks. Let's all kick back with...   \n",
      "1                                                      \n",
      "2                                                      \n",
      "3                                                      \n",
      "4                                                      \n",
      "\n",
      "                                                 url                author  \\\n",
      "0  https://www.reddit.com/r/politics/comments/1g7...              optimalg   \n",
      "1         https://www.reddit.com/live/1db9knzhqzdfp/  PoliticsModeratorBot   \n",
      "2  https://www.msnbc.com/inside-with-jen-psaki/ka...               h2002al   \n",
      "3  https://www.msnbc.com/ayman-mohyeldin/watch/-t...               etfvfva   \n",
      "4  https://www.thedailybeast.com/arnold-palmer-wa...          Titfortat101   \n",
      "\n",
      "    created_utc state     party  \n",
      "0  1.729350e+09  None      None  \n",
      "1  1.729428e+09  None      None  \n",
      "2  1.729424e+09  None  Democrat  \n",
      "3  1.729429e+09  None     Trump  \n",
      "4  1.729436e+09  None     Trump  \n"
     ]
    }
   ],
   "source": [
    "# Subreddits to scrape\n",
    "subreddits = ['politics', 'news'] + [f'{state}' for state in [\n",
    "    'alabama', 'alaska', 'arizona', 'arkansas', 'california', 'colorado', 'connecticut', 'delaware', 'florida', 'georgia', 'hawaii', 'idaho', 'illinois', 'indiana', 'iowa', 'kansas', 'kentucky', 'louisiana', 'maine', 'maryland', 'massachusetts', 'michigan', 'minnesota', 'mississippi', 'missouri', 'montana', 'nebraska', 'nevada', 'newhampshire', 'newjersey', 'newmexico', 'newyork', 'northcarolina', 'northdakota', 'ohio', 'oklahoma', 'oregon', 'pennsylvania', 'rhodeisland', 'southcarolina', 'southdakota', 'tennessee', 'texas', 'utah', 'vermont', 'virginia', 'washington', 'westvirginia', 'wisconsin', 'wyoming'\n",
    "]]\n",
    "\n",
    "# Scrape posts\n",
    "posts = []\n",
    "for subreddit in subreddits:\n",
    "    for post in reddit.subreddit(subreddit).hot(limit=1000):  # scrape 1000 hot posts from each subreddit\n",
    "        text = post.title + ' ' + post.selftext\n",
    "        state = None\n",
    "        party = None\n",
    "\n",
    "        # Extract state\n",
    "        states = [\n",
    "            'Alabama', 'Alaska', 'Arizona', 'Arkansas', 'California', 'Colorado', 'Connecticut', 'Delaware', 'Florida', 'Georgia', 'Hawaii', 'Idaho', 'Illinois', 'Indiana', 'Iowa', 'Kansas', 'Kentucky', 'Louisiana', 'Maine', 'Maryland', 'Massachusetts', 'Michigan', 'Minnesota', 'Mississippi', 'Missouri', 'Montana', 'Nebraska', 'Nevada', 'New Hampshire', 'New Jersey', 'New Mexico', 'New York', 'North Carolina', 'North Dakota', 'Ohio', 'Oklahoma', 'Oregon', 'Pennsylvania', 'Rhode Island', 'South Carolina', 'South Dakota', 'Tennessee', 'Texas', 'Utah', 'Vermont', 'Virginia', 'Washington', 'West Virginia', 'Wisconsin', 'Wyoming'\n",
    "        ]\n",
    "        for s in states:\n",
    "            if s in text:\n",
    "                state = s\n",
    "                break\n",
    "\n",
    "        # Extract party/candidate\n",
    "        parties = ['Republican', 'Democrat', 'Trump', 'Harris']\n",
    "        for p in parties:\n",
    "            if p in text:\n",
    "                party = p\n",
    "                break\n",
    "\n",
    "        author_name = post.author.name if post.author else 'Unknown'\n",
    "\n",
    "        posts.append({\n",
    "            'subreddit': subreddit,\n",
    "            'title': post.title,\n",
    "            'text': post.selftext,\n",
    "            'url': post.url,\n",
    "            'author': author_name,\n",
    "            'created_utc': post.created_utc,\n",
    "            'state': state,\n",
    "            'party': party\n",
    "        })\n",
    "\n",
    "# Save posts to CSV\n",
    "df = pd.DataFrame(posts)\n",
    "df.to_csv('reddit_posts.csv', index=False)\n",
    "print(df.shape)\n",
    "print(df.head())"
   ]
  },
  {
   "cell_type": "code",
   "execution_count": null,
   "id": "d896066a-d11a-4f49-bb7a-c45e86e9d66a",
   "metadata": {},
   "outputs": [],
   "source": []
  },
  {
   "cell_type": "code",
   "execution_count": null,
   "id": "7b4180b6-21fe-4fc9-bae1-5c5c48ff4fab",
   "metadata": {},
   "outputs": [],
   "source": []
  }
 ],
 "metadata": {
  "kernelspec": {
   "display_name": "Python 3 (ipykernel)",
   "language": "python",
   "name": "python3"
  },
  "language_info": {
   "codemirror_mode": {
    "name": "ipython",
    "version": 3
   },
   "file_extension": ".py",
   "mimetype": "text/x-python",
   "name": "python",
   "nbconvert_exporter": "python",
   "pygments_lexer": "ipython3",
   "version": "3.12.4"
  }
 },
 "nbformat": 4,
 "nbformat_minor": 5
}
