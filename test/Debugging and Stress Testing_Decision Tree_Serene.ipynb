{
 "cells": [
  {
   "cell_type": "markdown",
   "id": "080efa00-ff18-4b71-8a34-932d0e729e10",
   "metadata": {},
   "source": [
    "Load and Preprocess the Dataset"
   ]
  },
  {
   "cell_type": "code",
   "execution_count": 5,
   "id": "111b53ac-3bc6-4ddd-8921-52f2e799b0b0",
   "metadata": {},
   "outputs": [],
   "source": [
    "import pandas as pd\n",
    "from sklearn.model_selection import train_test_split\n",
    "\n",
    "# Load dataset\n",
    "data = pd.read_csv(\"2020_out_heading_matched_out (1).csv\")\n",
    "\n",
    "# Assuming 'target' is the name of your target variable, replace with the actual column name\n",
    "X = data.drop(columns=['Target'])\n",
    "y = data['Target']\n",
    "\n",
    "# Split the dataset into training and testing sets\n",
    "X_train, X_test, y_train, y_test = train_test_split(X, y, test_size=0.2, random_state=42)\n"
   ]
  },
  {
   "cell_type": "markdown",
   "id": "3cce3b99-b363-488c-b0a9-0d77cdf43287",
   "metadata": {},
   "source": [
    "Run Edge Case, Scalability, Load, and Speed/Latency Testing\n"
   ]
  },
  {
   "cell_type": "code",
   "execution_count": 8,
   "id": "3ba663ef-d5b6-4ca7-b0ff-096b288c315a",
   "metadata": {},
   "outputs": [
    {
     "name": "stdout",
     "output_type": "stream",
     "text": [
      "Training Time: 0.0201 seconds\n",
      "Training Accuracy: 1.0000\n",
      "Testing Accuracy: 1.0000\n",
      "Scalability Test - Training Time on Scaled Data: 1.0116 seconds\n",
      "Load Testing - Prediction Time on Large Test Set: 0.0140 seconds\n"
     ]
    }
   ],
   "source": [
    "from sklearn.tree import DecisionTreeClassifier\n",
    "from sklearn.metrics import accuracy_score, roc_auc_score\n",
    "import time\n",
    "import numpy as np\n",
    "\n",
    "# Initialize model\n",
    "dt_classifier = DecisionTreeClassifier(random_state=42)\n",
    "\n",
    "# Fit the model\n",
    "start_time = time.time()\n",
    "dt_classifier.fit(X_train, y_train)\n",
    "train_time = time.time() - start_time\n",
    "print(f\"Training Time: {train_time:.4f} seconds\")\n",
    "\n",
    "# Evaluate on training and testing data\n",
    "y_train_pred = dt_classifier.predict(X_train)\n",
    "y_test_pred = dt_classifier.predict(X_test)\n",
    "train_accuracy = accuracy_score(y_train, y_train_pred)\n",
    "test_accuracy = accuracy_score(y_test, y_test_pred)\n",
    "\n",
    "print(f\"Training Accuracy: {train_accuracy:.4f}\")\n",
    "print(f\"Testing Accuracy: {test_accuracy:.4f}\")\n",
    "\n",
    "# Scalability Test: Generate a larger synthetic version of X_train for scalability testing\n",
    "X_large, y_large = np.tile(X_train, (1000, 1)), np.tile(y_train, 1000)\n",
    "start_time = time.time()\n",
    "dt_classifier.fit(X_large, y_large)\n",
    "print(f\"Scalability Test - Training Time on Scaled Data: {time.time() - start_time:.4f} seconds\")\n",
    "\n",
    "# Load Testing\n",
    "X_test_large = np.tile(X_test, (1000, 1))  # Large number of test samples for load test\n",
    "start_time = time.time()\n",
    "predictions = dt_classifier.predict(X_test_large)\n",
    "print(f\"Load Testing - Prediction Time on Large Test Set: {time.time() - start_time:.4f} seconds\")\n"
   ]
  },
  {
   "cell_type": "markdown",
   "id": "24197621-f4e3-4d91-b31a-c930ce9d7457",
   "metadata": {},
   "source": [
    "Run Speed and Latency Experiments"
   ]
  },
  {
   "cell_type": "code",
   "execution_count": 12,
   "id": "6cb7045a-30ed-46b2-8425-ac9b3f4918d3",
   "metadata": {},
   "outputs": [
    {
     "name": "stdout",
     "output_type": "stream",
     "text": [
      "Training Latency: 0.0096 seconds\n",
      "Prediction Latency: 0.0077 seconds\n"
     ]
    }
   ],
   "source": [
    "# Measure latency for training and prediction\n",
    "start_time = time.time()\n",
    "dt_classifier.fit(X_train, y_train)\n",
    "train_latency = time.time() - start_time\n",
    "\n",
    "start_time = time.time()\n",
    "dt_classifier.predict(X_test)\n",
    "predict_latency = time.time() - start_time\n",
    "\n",
    "print(f\"Training Latency: {train_latency:.4f} seconds\")\n",
    "print(f\"Prediction Latency: {predict_latency:.4f} seconds\")\n"
   ]
  },
  {
   "cell_type": "markdown",
   "id": "4fd22bc3-4468-4266-85f1-de3565e77aac",
   "metadata": {},
   "source": [
    "Plotting AUC-ROC Curves"
   ]
  },
  {
   "cell_type": "code",
   "execution_count": 16,
   "id": "b006e2ee-447d-4e52-bd87-dab4266c2e0c",
   "metadata": {},
   "outputs": [
    {
     "data": {
      "image/png": "[encoded data removed]",
      "text/plain": [
       "<Figure size 640x480 with 1 Axes>"
      ]
     },
     "metadata": {},
     "output_type": "display_data"
    }
   ],
   "source": [
    "from sklearn.metrics import roc_curve, auc\n",
    "import matplotlib.pyplot as plt\n",
    "\n",
    "def plot_roc_auc_train_test(model, X_train, X_test, y_train, y_test):\n",
    "    # Predict probabilities\n",
    "    y_train_pred_prob = model.predict_proba(X_train)[:, 1]\n",
    "    y_test_pred_prob = model.predict_proba(X_test)[:, 1]\n",
    "\n",
    "    # Compute ROC\n",
    "    fpr_train, tpr_train, _ = roc_curve(y_train, y_train_pred_prob)\n",
    "    fpr_test, tpr_test, _ = roc_curve(y_test, y_test_pred_prob)\n",
    "    \n",
    "    auc_train = auc(fpr_train, tpr_train)\n",
    "    auc_test = auc(fpr_test, tpr_test)\n",
    "    \n",
    "    plt.figure()\n",
    "    plt.plot(fpr_train, tpr_train, label=f'Training AUC: {auc_train:.4f}')\n",
    "    plt.plot(fpr_test, tpr_test, label=f'Testing AUC: {auc_test:.4f}')\n",
    "    plt.xlabel(\"False Positive Rate\")\n",
    "    plt.ylabel(\"True Positive Rate\")\n",
    "    plt.title(\"ROC Curve\")\n",
    "    plt.legend(loc=\"best\")\n",
    "    plt.show()\n",
    "\n",
    "plot_roc_auc_train_test(dt_classifier, X_train, X_test, y_train, y_test)\n"
   ]
  },
  {
   "cell_type": "code",
   "execution_count": null,
   "id": "52a73dba-1c39-45ad-85c2-67e302fd4d1b",
   "metadata": {},
   "outputs": [],
   "source": []
  }
 ],
 "metadata": {
  "kernelspec": {
   "display_name": "Python 3 (ipykernel)",
   "language": "python",
   "name": "python3"
  },
  "language_info": {
   "codemirror_mode": {
    "name": "ipython",
    "version": 3
   },
   "file_extension": ".py",
   "mimetype": "text/x-python",
   "name": "python",
   "nbconvert_exporter": "python",
   "pygments_lexer": "ipython3",
   "version": "3.11.7"
  }
 },
 "nbformat": 4,
 "nbformat_minor": 5
}
